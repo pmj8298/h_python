{
 "cells": [
  {
   "cell_type": "markdown",
   "id": "9134fc2c-60eb-44d6-a7cb-766fe50fae1e",
   "metadata": {},
   "source": [
    "001 print 기초<br>\n",
    "화면에 Hello World 문자열을 출력하세요."
   ]
  },
  {
   "cell_type": "code",
   "execution_count": 1,
   "id": "bb2c66c0-a9a7-48fd-8401-5f332a7a4277",
   "metadata": {},
   "outputs": [
    {
     "name": "stdout",
     "output_type": "stream",
     "text": [
      "Hello World\n"
     ]
    }
   ],
   "source": [
    "print('Hello World')"
   ]
  },
  {
   "cell_type": "markdown",
   "id": "4493d32b-c256-4df9-ba59-444b90f4765c",
   "metadata": {},
   "source": [
    "002 print 기초<br>\n",
    "화면에 Mary's cosmetics을 출력하세요. (중간에 '가 있음에 주의하세요)"
   ]
  },
  {
   "cell_type": "code",
   "execution_count": 2,
   "id": "f1655e8d-2bb3-46df-a157-52523b256568",
   "metadata": {},
   "outputs": [
    {
     "name": "stdout",
     "output_type": "stream",
     "text": [
      "Mary's cosmetics\n"
     ]
    }
   ],
   "source": [
    "print(\"Mary's cosmetics\")"
   ]
  },
  {
   "cell_type": "markdown",
   "id": "f944e24b-a2c3-4775-91a0-6c6b8845b4ac",
   "metadata": {},
   "source": [
    "003 print 기초<br>\n",
    "화면에 아래 문장을 출력하세요. (중간에 \"가 있음에 주의하세요.)\n",
    "\n",
    "신씨가 소리질렀다. \"도둑이야\"."
   ]
  },
  {
   "cell_type": "code",
   "execution_count": 3,
   "id": "65fafa87-0cd8-46ed-a8fd-c0b26e78f949",
   "metadata": {},
   "outputs": [
    {
     "name": "stdout",
     "output_type": "stream",
     "text": [
      "신씨가 소리질렀다. \"도둑이야\".\n"
     ]
    }
   ],
   "source": [
    "print('신씨가 소리질렀다. \"도둑이야\".')"
   ]
  },
  {
   "cell_type": "markdown",
   "id": "814a7f7c-e94d-423d-a7ed-4b3a9cd7f46e",
   "metadata": {},
   "source": [
    "004 print 기초<br>\n",
    "화면에 C:\\Windows를 출력하세요."
   ]
  },
  {
   "cell_type": "code",
   "execution_count": 5,
   "id": "a034580d-b29e-42ee-96dc-4f16a96971ea",
   "metadata": {},
   "outputs": [
    {
     "name": "stdout",
     "output_type": "stream",
     "text": [
      "C:\\Windows\n"
     ]
    }
   ],
   "source": [
    "print('C:\\\\Windows')"
   ]
  },
  {
   "cell_type": "markdown",
   "id": "9d05d2f7-7e8f-4b4f-955a-d300cf5d05ad",
   "metadata": {},
   "source": [
    "005 print 탭과 줄바꿈<br>\n",
    "다음 코드를 실행해보고 \\t와 \\n의 역할을 설명해보세요.\n",
    "\n",
    "print(\"안녕하세요.\\n만나서\\t\\t반갑습니다.\")"
   ]
  },
  {
   "cell_type": "code",
   "execution_count": 7,
   "id": "28c278a4-ffb2-488d-9b9a-92951e7ca92f",
   "metadata": {},
   "outputs": [
    {
     "name": "stdout",
     "output_type": "stream",
     "text": [
      "안녕하세요.\n",
      "만나서\t\t반갑습니다.\n"
     ]
    }
   ],
   "source": [
    "print(\"안녕하세요.\\n만나서\\t\\t반갑습니다.\")\n",
    "# \\n은 줄바꿈이고, \\t은 tab만큼 띄워쓰기"
   ]
  },
  {
   "cell_type": "markdown",
   "id": "6271659e-9adf-472e-80fd-9e440fa82c75",
   "metadata": {},
   "source": [
    "006 print 여러 데이터 출력<br>\n",
    "print 함수에 두 개의 단어를 입력한 예제입니다. 아래 코드의 출력 결과를 예상해봅시다.\n",
    "\n",
    "print (\"오늘은\", \"일요일\")"
   ]
  },
  {
   "cell_type": "code",
   "execution_count": 10,
   "id": "2b035e6e-374e-459a-86da-040e00d21029",
   "metadata": {},
   "outputs": [
    {
     "name": "stdout",
     "output_type": "stream",
     "text": [
      "오늘은 일요일\n",
      "오늘은일요일\n"
     ]
    }
   ],
   "source": [
    "print (\"오늘은\", \"일요일\")\n",
    "print (\"오늘은\" + \"일요일\")\n",
    "# ,는 띄어쓰기를 해주고 +는 글이 붙어나옴"
   ]
  },
  {
   "cell_type": "markdown",
   "id": "36868d95-feaa-49f4-838b-9b5ec357fed8",
   "metadata": {},
   "source": [
    "007 print 기초<br>\n",
    "print() 함수를 사용하여 다음과 같이 출력하세요.\n",
    "\n",
    "naver;kakao;sk;samsung"
   ]
  },
  {
   "cell_type": "code",
   "execution_count": 11,
   "id": "10700a77-09d3-489c-9e2c-103026f4de23",
   "metadata": {},
   "outputs": [
    {
     "name": "stdout",
     "output_type": "stream",
     "text": [
      "naver;kakao;sk;samsung\n"
     ]
    }
   ],
   "source": [
    "print('naver'+';'+'kakao'+';'+'sk'+';'+'samsung')"
   ]
  },
  {
   "cell_type": "code",
   "execution_count": 12,
   "id": "897cc6b7-a85c-4d11-aa11-6ed72ee2dcea",
   "metadata": {},
   "outputs": [
    {
     "name": "stdout",
     "output_type": "stream",
     "text": [
      "naver;kakao;samsung\n"
     ]
    }
   ],
   "source": [
    "print(\"naver\", \"kakao\", \"samsung\", sep=\";\")"
   ]
  },
  {
   "cell_type": "markdown",
   "id": "c539a9e6-4bba-47f5-b7ba-09d7b10bdf9d",
   "metadata": {},
   "source": [
    "008 print 기초<br>\n",
    "print() 함수를 사용하여 다음과 같이 출력하세요.\n",
    "\n",
    "naver/kakao/sk/samsung"
   ]
  },
  {
   "cell_type": "code",
   "execution_count": 13,
   "id": "8382d6ab-5a9f-4cba-97bf-e3266f5ebb64",
   "metadata": {},
   "outputs": [
    {
     "name": "stdout",
     "output_type": "stream",
     "text": [
      "naver/kakao/sk/samsung\n"
     ]
    }
   ],
   "source": [
    "print(\"naver\", \"kakao\", 'sk', \"samsung\", sep=\"/\")"
   ]
  },
  {
   "cell_type": "markdown",
   "id": "f1d15afa-2188-4282-91b3-376ccd8649c1",
   "metadata": {},
   "source": [
    "009 print 줄바꿈<br>\n",
    "다음 코드를 수정하여 줄바꿈이 없이 출력하세요. (힌트: end='') print 함수는 두 번 사용합니다. 세미콜론 (;)은 한줄에 여러 개의 명령을 작성하기 위해 사용합니다.\n",
    "\n",
    "print(\"first\");print(\"second\")"
   ]
  },
  {
   "cell_type": "code",
   "execution_count": 14,
   "id": "4a6fd040-dea7-489a-a3c9-da7a8914024a",
   "metadata": {},
   "outputs": [
    {
     "name": "stdout",
     "output_type": "stream",
     "text": [
      "first\n",
      "second\n"
     ]
    }
   ],
   "source": [
    "print(\"first\");print(\"second\")"
   ]
  },
  {
   "cell_type": "code",
   "execution_count": 16,
   "id": "8e44f8cc-cd9d-4507-b017-4b1bb5cd8312",
   "metadata": {},
   "outputs": [
    {
     "name": "stdout",
     "output_type": "stream",
     "text": [
      "first second\n"
     ]
    }
   ],
   "source": [
    "print(\"first\", end=' ');print(\"second\")"
   ]
  },
  {
   "cell_type": "markdown",
   "id": "a68cf9b4-3993-4ec3-93c8-4ed64cd8c288",
   "metadata": {},
   "source": [
    "010 연산 결과 출력<br>\n",
    "5/3의 결과를 화면에 출력하세요."
   ]
  },
  {
   "cell_type": "code",
   "execution_count": 26,
   "id": "12dcd4bb-0875-4cc3-8a0a-c4910525e78a",
   "metadata": {},
   "outputs": [
    {
     "name": "stdout",
     "output_type": "stream",
     "text": [
      "1.67\n"
     ]
    }
   ],
   "source": [
    "print(f'{5/3:.2f}')"
   ]
  },
  {
   "cell_type": "markdown",
   "id": "9f31ee98-6fe5-412b-9b00-6bc29103dae6",
   "metadata": {},
   "source": [
    "011 변수 사용하기<br>\n",
    "삼성전자라는 변수로 50,000원을 바인딩해보세요. 삼성전자 주식 10주를 보유하고 있을 때 총 평가금액을 출력하세요."
   ]
  },
  {
   "cell_type": "code",
   "execution_count": 27,
   "id": "1e63f15b-2638-4830-9943-9b5894b5e804",
   "metadata": {},
   "outputs": [
    {
     "name": "stdout",
     "output_type": "stream",
     "text": [
      "500000\n"
     ]
    }
   ],
   "source": [
    "삼성전자 = 50000\n",
    "총평가금액 = 삼성전자 * 10\n",
    "print(총평가금액)"
   ]
  },
  {
   "cell_type": "markdown",
   "id": "ef2b46e3-800d-4518-8520-ca2259bcdbeb",
   "metadata": {},
   "source": [
    "012 변수 사용하기<br>\n",
    "다음 표는 삼성전자의 일부 투자정보입니다. 변수를 사용해서 시가총액, 현재가, PER 등을 바인딩해보세요"
   ]
  },
  {
   "cell_type": "markdown",
   "id": "1fd34057-7981-44f8-9557-63a8822ab9df",
   "metadata": {},
   "source": [
    "<table>\n",
    "<thead>\n",
    "<tr>\n",
    "<th>항목</th>\n",
    "<th>값</th>\n",
    "</tr>\n",
    "</thead>\n",
    "<tbody>\n",
    "<tr>\n",
    "<td>시가총액</td>\n",
    "<td>298조</td>\n",
    "</tr>\n",
    "<tr>\n",
    "<td>현재가</td>\n",
    "<td>50,000원</td>\n",
    "</tr>\n",
    "<tr>\n",
    "<td>PER</td>\n",
    "<td>15.79</td>\n",
    "</tr>\n",
    "</tbody>\n",
    "</table>"
   ]
  },
  {
   "cell_type": "code",
   "execution_count": 29,
   "id": "bbb8f1c7-6125-4a8b-8b2c-f3955eb899d4",
   "metadata": {},
   "outputs": [
    {
     "name": "stdout",
     "output_type": "stream",
     "text": [
      "2980000000000 <class 'int'>\n",
      "50000 <class 'int'>\n",
      "15.79 <class 'float'>\n"
     ]
    }
   ],
   "source": [
    "시가총액 = 2980000000000\n",
    "현재가 = 50000\n",
    "PER = 15.79\n",
    "\n",
    "print(시가총액, type(시가총액))\n",
    "print(현재가, type(현재가))\n",
    "print(PER, type(PER))"
   ]
  },
  {
   "cell_type": "markdown",
   "id": "1a391de4-f72f-4bda-9a7a-e72c6fddce04",
   "metadata": {},
   "source": [
    "013 문자열 출력\n",
    "변수 s와 t에는 각각 문자열이 바인딩 되어있습니다.<br>\n",
    "s = \"hello\"\n",
    "t = \"python\"\n",
    "<br>\n",
    "실행 예:\n",
    "hello! python"
   ]
  },
  {
   "cell_type": "code",
   "execution_count": 2,
   "id": "fd04220f-24e6-4524-a709-815e1266d960",
   "metadata": {},
   "outputs": [
    {
     "name": "stdout",
     "output_type": "stream",
     "text": [
      "hello! python\n"
     ]
    }
   ],
   "source": [
    "s = \"hello\" \n",
    "t = \"python\"\n",
    "print(f'{s}! {t}')"
   ]
  },
  {
   "cell_type": "markdown",
   "id": "e5cde525-caa4-4096-b919-8bd355275e90",
   "metadata": {},
   "source": [
    "014 파이썬을 이용한 값 계산<br>\n",
    "아래 코드의 실행 결과를 예상해보세요<br>\n",
    "2 + 2 * 3 "
   ]
  },
  {
   "cell_type": "code",
   "execution_count": 3,
   "id": "8dbb9507-ae57-4b10-b91d-d3daa2e1dabc",
   "metadata": {},
   "outputs": [
    {
     "name": "stdout",
     "output_type": "stream",
     "text": [
      "8\n"
     ]
    }
   ],
   "source": [
    "print(2+2*3)"
   ]
  },
  {
   "cell_type": "markdown",
   "id": "8b009ec5-8ba2-4d5c-8ab8-1382308fe015",
   "metadata": {},
   "source": [
    "015 type 함수<br>\n",
    "type() 함수는 데이터 타입을 판별합니다. 변수 a에는 128 숫자가 바인딩돼 있어 type 함수가 int (정수)형임을 알려줍니다.<br>\n",
    "a = 128\n",
    "print (type(a))\n",
    "<class 'int'>\n",
    "\n",
    "아래 변수에 바인딩된 값의 타입을 판별해보세요.\n",
    "a = \"132\""
   ]
  },
  {
   "cell_type": "code",
   "execution_count": 4,
   "id": "e5fa5aad-3722-44e4-90db-26025e92974b",
   "metadata": {},
   "outputs": [
    {
     "name": "stdout",
     "output_type": "stream",
     "text": [
      "<class 'str'>\n"
     ]
    }
   ],
   "source": [
    "a = '132'\n",
    "print(type(a))"
   ]
  },
  {
   "cell_type": "markdown",
   "id": "d5da6ddb-01c6-4ff1-a9a9-801ddd143066",
   "metadata": {},
   "source": [
    "016 문자열을 정수로 변환<br>\n",
    "문자열 '720'를 정수형으로 변환해보세요"
   ]
  },
  {
   "cell_type": "code",
   "execution_count": 6,
   "id": "b32d5b6d-0cfb-437d-bb03-45489f362d20",
   "metadata": {},
   "outputs": [
    {
     "name": "stdout",
     "output_type": "stream",
     "text": [
      "720 <class 'int'>\n"
     ]
    }
   ],
   "source": [
    "num_str = \"720\"\n",
    "print(int(num_str),type(int(num_str)))"
   ]
  },
  {
   "cell_type": "markdown",
   "id": "8b5da39c-c54f-411c-bebb-9ece94994025",
   "metadata": {},
   "source": [
    "017 정수를 문자열 100으로 변환<br>\n",
    "정수 100을 문자열 '100'으로 변환해보세요."
   ]
  },
  {
   "cell_type": "code",
   "execution_count": 7,
   "id": "2f950792-f2e1-4ee3-a54f-4093aa6630ae",
   "metadata": {},
   "outputs": [
    {
     "name": "stdout",
     "output_type": "stream",
     "text": [
      "100 <class 'str'>\n"
     ]
    }
   ],
   "source": [
    "num = 100\n",
    "print(str(num), type(str(num)))"
   ]
  },
  {
   "cell_type": "markdown",
   "id": "d552b78c-6edd-4c99-80eb-d814d92f5b47",
   "metadata": {},
   "source": [
    "018 문자열을 실수로 변환<br>\n",
    "문자열 \"15.79\"를 실수(float) 타입으로 변환해보세요"
   ]
  },
  {
   "cell_type": "code",
   "execution_count": 8,
   "id": "f47ff882-2bbf-45f2-976c-aa0a583aeca4",
   "metadata": {},
   "outputs": [
    {
     "name": "stdout",
     "output_type": "stream",
     "text": [
      "15.79 <class 'float'>\n"
     ]
    }
   ],
   "source": [
    "a = '15.79'\n",
    "print(float(a), type(float(a)))"
   ]
  },
  {
   "cell_type": "markdown",
   "id": "b6a8d1f5-32ee-4a1f-a30d-1630cd3c8d91",
   "metadata": {},
   "source": [
    "019 문자열을 정수로 변환<br>\n",
    "year라는 변수가 문자열 타입의 연도를 바인딩하고 있습니다. 이를 정수로 변환한 후 최근 3년의 연도를 화면에 출력해보세요."
   ]
  },
  {
   "cell_type": "code",
   "execution_count": 9,
   "id": "08ba0bd8-49c1-414d-b519-6c903c874aad",
   "metadata": {},
   "outputs": [
    {
     "name": "stdout",
     "output_type": "stream",
     "text": [
      "2025 2024 2023\n"
     ]
    }
   ],
   "source": [
    "year = 2025\n",
    "nyear = int(year)\n",
    "print(nyear, (nyear-1),(nyear-2))\n"
   ]
  },
  {
   "cell_type": "markdown",
   "id": "3d02ef08-d8c7-4ee2-bbd7-55c0f3e5198e",
   "metadata": {},
   "source": [
    "020 파이썬 계산<br>\n",
    "에이컨이 월 48,584원에 무이자 36개월의 조건으로 홈쇼핑에서 판매되고 있습니다. 총 금액은 계산한 후 이를 화면에 출력해보세요. (변수사용하기)"
   ]
  },
  {
   "cell_type": "code",
   "execution_count": 11,
   "id": "b0b15cd2-3a3e-4f12-a785-4d812df67415",
   "metadata": {},
   "outputs": [
    {
     "name": "stdout",
     "output_type": "stream",
     "text": [
      "1749024\n"
     ]
    }
   ],
   "source": [
    "ac = int(48584)\n",
    "acsum = ac*36 \n",
    "print(acsum)"
   ]
  },
  {
   "cell_type": "markdown",
   "id": "2d7dba89-8dc2-4ed2-b7c0-c4b96e851f74",
   "metadata": {},
   "source": [
    "021 문자열 인덱싱<br>\n",
    "letters가 바인딩하는 문자열에서 첫번째와 세번째 문자를 출력하세요"
   ]
  },
  {
   "cell_type": "code",
   "execution_count": 13,
   "id": "74a50bd9-7f3a-45c6-bf24-f497260fc0bd",
   "metadata": {},
   "outputs": [
    {
     "name": "stdout",
     "output_type": "stream",
     "text": [
      "p t\n"
     ]
    }
   ],
   "source": [
    "letters = 'python'\n",
    "print(letters[0], letters[2])"
   ]
  },
  {
   "cell_type": "markdown",
   "id": "886444c5-4e50-4027-9a63-36e54bb04d5b",
   "metadata": {},
   "source": [
    "022 문자열 슬라이싱<br>\n",
    "자동차 번호가 다음과 같을 때 뒤에 4자리만 출력하세요."
   ]
  },
  {
   "cell_type": "code",
   "execution_count": 17,
   "id": "8f31a4e9-3abf-4a64-9694-f6b0740e5608",
   "metadata": {},
   "outputs": [
    {
     "name": "stdout",
     "output_type": "stream",
     "text": [
      "2210\n"
     ]
    }
   ],
   "source": [
    "license_plate = \"24가 2210\"\n",
    "print(license_plate[4:])"
   ]
  },
  {
   "cell_type": "markdown",
   "id": "2cd3ba74-1453-49c6-90f1-6272269a63f3",
   "metadata": {},
   "source": [
    "023 문자열 인덱싱<br>\n",
    "아래의 문자열에서 '홀' 만 출력하세요"
   ]
  },
  {
   "cell_type": "code",
   "execution_count": 18,
   "id": "a6571d92-2552-4ad1-b341-ebbe797a1d08",
   "metadata": {},
   "outputs": [
    {
     "name": "stdout",
     "output_type": "stream",
     "text": [
      "홀홀홀\n"
     ]
    }
   ],
   "source": [
    "string = \"홀짝홀짝홀짝\"\n",
    "print(string[0:5:2])"
   ]
  },
  {
   "cell_type": "markdown",
   "id": "f3708c15-1868-46dd-bab3-69fea3bdbd5a",
   "metadata": {},
   "source": [
    "024 문자열 슬라이싱<br>\n",
    "문자열을 거꾸로 뒤집어 출력하세요."
   ]
  },
  {
   "cell_type": "code",
   "execution_count": 25,
   "id": "eeb9b02c-fac4-41eb-aa15-787d00b86c68",
   "metadata": {},
   "outputs": [
    {
     "name": "stdout",
     "output_type": "stream",
     "text": [
      "NOHTYP\n"
     ]
    }
   ],
   "source": [
    "string = \"PYTHON\"\n",
    "print(string[::-1])"
   ]
  },
  {
   "cell_type": "markdown",
   "id": "8d055dda-b4b0-42fb-b6b4-0dc75461a854",
   "metadata": {},
   "source": [
    "025 문자열 치환<br>\n",
    "아래의 전화번호에서 하이푼 ('-')을 제거하고 출력하세요."
   ]
  },
  {
   "cell_type": "code",
   "execution_count": 28,
   "id": "1438df66-f945-47bd-a351-5f2460bf89c9",
   "metadata": {},
   "outputs": [
    {
     "name": "stdout",
     "output_type": "stream",
     "text": [
      "010 1111 2222\n"
     ]
    }
   ],
   "source": [
    "phone_number = \"010-1111-2222\"\n",
    "pn = phone_number.replace('-',' ')\n",
    "print(pn)"
   ]
  },
  {
   "cell_type": "markdown",
   "id": "92be3ae8-980d-4177-87d0-c5fba96d2eb6",
   "metadata": {},
   "source": [
    "026 문자열 다루기<br>\n",
    "25번 문제의 전화번호를 아래와 같이 모두 붙여 출력하세요"
   ]
  },
  {
   "cell_type": "code",
   "execution_count": 29,
   "id": "aa4f4324-8b7f-406d-bf09-09ddfd425778",
   "metadata": {},
   "outputs": [
    {
     "name": "stdout",
     "output_type": "stream",
     "text": [
      "01011112222\n"
     ]
    }
   ],
   "source": [
    "phone_number = \"010-1111-2222\"\n",
    "pn = phone_number.replace('-','')\n",
    "print(pn)"
   ]
  },
  {
   "cell_type": "markdown",
   "id": "508aee4d-48c9-49d4-b052-d3b9e795fc78",
   "metadata": {},
   "source": [
    "027 문자열 다루기<br>\n",
    "url 에 저장된 웹 페이지 주소에서 도메인을 출력하세요."
   ]
  },
  {
   "cell_type": "code",
   "execution_count": 30,
   "id": "c2777b27-0e96-45f2-9c05-4af40be57135",
   "metadata": {},
   "outputs": [
    {
     "name": "stdout",
     "output_type": "stream",
     "text": [
      "kr\n"
     ]
    }
   ],
   "source": [
    "url = \"http://sharebook.kr\"\n",
    "print(url[17:])"
   ]
  },
  {
   "cell_type": "markdown",
   "id": "b918b3c4-776e-4b50-967a-59b16b782abf",
   "metadata": {},
   "source": [
    "028 문자열은 immutable<br>\n",
    "아래 코드의 실행 결과를 예상해보세요."
   ]
  },
  {
   "cell_type": "code",
   "execution_count": 33,
   "id": "c713f049-0c9a-423a-bef5-7fa0be1ddc65",
   "metadata": {},
   "outputs": [
    {
     "name": "stdout",
     "output_type": "stream",
     "text": [
      "p\n"
     ]
    }
   ],
   "source": [
    "lang = 'python'\n",
    "# lang[0] = 'P'\n",
    "print(lang[0])"
   ]
  },
  {
   "cell_type": "markdown",
   "id": "12200c58-bcff-499a-b0d3-a42410279936",
   "metadata": {},
   "source": [
    "029 replace 메서드<br>\n",
    "아래 문자열에서 소문자 'a'를 대문자 'A'로 변경하세요."
   ]
  },
  {
   "cell_type": "code",
   "execution_count": 34,
   "id": "f63f00ef-b81f-4d5a-a641-3e4dda9a0407",
   "metadata": {},
   "outputs": [
    {
     "name": "stdout",
     "output_type": "stream",
     "text": [
      "Abcdfe2A354A32A\n"
     ]
    }
   ],
   "source": [
    "string = 'abcdfe2a354a32a'\n",
    "astring = string.replace('a','A')\n",
    "print(astring)"
   ]
  },
  {
   "cell_type": "markdown",
   "id": "4d296fc4-b413-44c2-ac14-5c1f4c70b818",
   "metadata": {},
   "source": [
    "## 030 replace 메서드<br>\n",
    "아래 코드의 실행 결과를 예상해보세요."
   ]
  },
  {
   "cell_type": "code",
   "execution_count": 2,
   "id": "af097a22-4d55-4f57-845c-99b1b474073d",
   "metadata": {},
   "outputs": [
    {
     "name": "stdout",
     "output_type": "stream",
     "text": [
      "abcd\n"
     ]
    }
   ],
   "source": [
    "string = 'abcd'\n",
    "string.replace('b', 'B')\n",
    "print(string)\n",
    "\n",
    "#틀림-문자열은 변경할 수 없다. 꼭 기억하기"
   ]
  },
  {
   "cell_type": "markdown",
   "id": "52014ae4-4a53-4663-8c56-086f8379e5be",
   "metadata": {},
   "source": [
    "031 문자열 합치기<br>\n",
    "아래 코드의 실행 결과를 예상해보세요."
   ]
  },
  {
   "cell_type": "code",
   "execution_count": 3,
   "id": "71233745-6aeb-4fea-90db-99a302f071cb",
   "metadata": {},
   "outputs": [
    {
     "name": "stdout",
     "output_type": "stream",
     "text": [
      "34\n"
     ]
    }
   ],
   "source": [
    "a = \"3\"\n",
    "b = \"4\"\n",
    "print(a + b)\n"
   ]
  },
  {
   "cell_type": "markdown",
   "id": "5bf31fd7-53a5-47e5-9e40-397bab85c54f",
   "metadata": {},
   "source": [
    "032 문자열 곱하기<br>\n",
    "아래 코드의 실행 결과를 예상해보세요"
   ]
  },
  {
   "cell_type": "code",
   "execution_count": 4,
   "id": "2e2279a2-6392-437a-bb04-df6c92a2ac07",
   "metadata": {},
   "outputs": [
    {
     "name": "stdout",
     "output_type": "stream",
     "text": [
      "HiHiHi\n"
     ]
    }
   ],
   "source": [
    "print(\"Hi\" * 3)"
   ]
  },
  {
   "cell_type": "markdown",
   "id": "e8f61b28-17f0-4cdc-ac50-803e5bf934fa",
   "metadata": {},
   "source": [
    "033 문자열 곱하기<br>\n",
    "화면에 '-'를 80개 출력하세요."
   ]
  },
  {
   "cell_type": "code",
   "execution_count": 5,
   "id": "b45295bb-3fd1-4c81-ab38-8cf5cf80f23b",
   "metadata": {},
   "outputs": [
    {
     "name": "stdout",
     "output_type": "stream",
     "text": [
      "--------------------------------------------------------------------------------\n"
     ]
    }
   ],
   "source": [
    "print('-'*80)"
   ]
  },
  {
   "cell_type": "markdown",
   "id": "53bd1e03-13a4-443b-839f-7e0a052413e5",
   "metadata": {},
   "source": [
    "034 문자열 곱하기<br>\n",
    "변수에 다음과 같은 문자열이 바인딩되어 있습니다."
   ]
  },
  {
   "cell_type": "code",
   "execution_count": 10,
   "id": "7555c7f8-6815-4442-85ba-a9aecba46ebd",
   "metadata": {},
   "outputs": [
    {
     "name": "stdout",
     "output_type": "stream",
     "text": [
      "python java python java python java python java \n"
     ]
    }
   ],
   "source": [
    "t1 = 'python'\n",
    "t2 = 'java'\n",
    "print(f'{t1} {t2} ' *4)"
   ]
  },
  {
   "cell_type": "markdown",
   "id": "f97f7a95-e6b0-4956-aab1-4d75a2c630ad",
   "metadata": {},
   "source": [
    "## 035 문자열 출력<br>\n",
    "변수에 다음과 같이 문자열과 정수가 바인딩되어 있을 때 % formatting을 사용해서 다음과 같이 출력해보세요.<br>\n",
    "이름: 김민수 나이: 10<br>\n",
    "이름: 이철희 나이: 13"
   ]
  },
  {
   "cell_type": "code",
   "execution_count": 12,
   "id": "099c723a-c884-48b7-a544-1200a21b0d25",
   "metadata": {},
   "outputs": [
    {
     "name": "stdout",
     "output_type": "stream",
     "text": [
      "이름: 김민수 나이: 10\n",
      "이름: 이철희 나이: 13\n"
     ]
    }
   ],
   "source": [
    "name1 = \"김민수\" \n",
    "age1 = 10\n",
    "name2 = \"이철희\"\n",
    "age2 = 13\n",
    "\n",
    "print(\"이름: %s 나이: %d\" % (name1, age1))\n",
    "print(\"이름: %s 나이: %d\" % (name2, age2))"
   ]
  },
  {
   "cell_type": "markdown",
   "id": "5259ce1e-be8b-4bcf-8669-c0333b5cb2b9",
   "metadata": {},
   "source": [
    "## 036 문자열 출력<br>\n",
    "문자열의 format( ) 메서드를 사용해서 035번 문제를 다시 풀어보세요."
   ]
  },
  {
   "cell_type": "code",
   "execution_count": 13,
   "id": "82b4fcc5-4858-4ded-801f-ed234e6147bd",
   "metadata": {},
   "outputs": [
    {
     "name": "stdout",
     "output_type": "stream",
     "text": [
      "이름: 김민수 나이: 10\n",
      "이름: 이철희 나이: 13\n"
     ]
    }
   ],
   "source": [
    "name1 = \"김민수\" \n",
    "age1 = 10\n",
    "name2 = \"이철희\"\n",
    "age2 = 13\n",
    "print(\"이름: {} 나이: {}\".format(name1, age1))\n",
    "print(\"이름: {} 나이: {}\".format(name2, age2))"
   ]
  },
  {
   "cell_type": "markdown",
   "id": "6eb664eb-6e7d-477a-b29a-e27ebc21f488",
   "metadata": {},
   "source": [
    "037 문자열 출력<br>\n",
    "파이썬 3.6부터 지원하는 f-string을 사용해서 035번 문제를 다시 풀어보세요."
   ]
  },
  {
   "cell_type": "code",
   "execution_count": 15,
   "id": "e37fc383-6d1a-469f-a0a5-9286311e7779",
   "metadata": {},
   "outputs": [
    {
     "name": "stdout",
     "output_type": "stream",
     "text": [
      "이름: 김민수 나이: 10\n",
      "이름: 이철희 나이: 13\n"
     ]
    }
   ],
   "source": [
    "name1 = \"김민수\" \n",
    "age1 = 10\n",
    "name2 = \"이철희\"\n",
    "age2 = 13\n",
    "print(f'이름: {name1} 나이: {age1}')\n",
    "print(f'이름: {name2} 나이: {age2}')"
   ]
  },
  {
   "cell_type": "markdown",
   "id": "0cd4192c-3279-49a9-8723-36e1314009fc",
   "metadata": {},
   "source": [
    "038 컴마 제거하기<br>\n",
    "삼성전자의 상장주식수가 다음과 같습니다. 컴마를 제거한 후 이를 정수 타입으로 변환해보세요."
   ]
  },
  {
   "cell_type": "code",
   "execution_count": 17,
   "id": "544b3685-d6e0-4438-b4dd-3307546dc91a",
   "metadata": {},
   "outputs": [
    {
     "name": "stdout",
     "output_type": "stream",
     "text": [
      "5969782550 <class 'int'>\n"
     ]
    }
   ],
   "source": [
    "상장주식수 = \"5,969,782,550\"\n",
    "sj = 상장주식수.replace(',','')\n",
    "print(int(sj), type(int(sj)))"
   ]
  },
  {
   "cell_type": "markdown",
   "id": "5f4dd919-7f39-4df2-83ff-76c81b2a8d56",
   "metadata": {},
   "source": [
    "039 문자열 슬라이싱<br>\n",
    "다음과 같은 문자열에서 '2020/03'만 출력하세요"
   ]
  },
  {
   "cell_type": "code",
   "execution_count": 18,
   "id": "7b05cdd4-b38d-45bb-9bd6-ef1966f90898",
   "metadata": {},
   "outputs": [
    {
     "name": "stdout",
     "output_type": "stream",
     "text": [
      "2020/03\n"
     ]
    }
   ],
   "source": [
    "분기 = \"2020/03(E) (IFRS연결)\"\n",
    "print(분기[0:7])"
   ]
  },
  {
   "cell_type": "markdown",
   "id": "d80416ab-058b-47c3-8bdd-40ac3f5c5bfc",
   "metadata": {},
   "source": [
    "040 strip 메서드<br>\n",
    "문자열의 좌우의 공백이 있을 때 이를 제거해보세요."
   ]
  },
  {
   "cell_type": "code",
   "execution_count": 22,
   "id": "21673634-01a3-428b-b96b-b2b836cd80cc",
   "metadata": {},
   "outputs": [
    {
     "name": "stdout",
     "output_type": "stream",
     "text": [
      "삼성전자\n",
      "삼성전자\n"
     ]
    }
   ],
   "source": [
    "data = \"   삼성전자    \"\n",
    "print(data.lstrip().rstrip())\n",
    "print(data.strip())"
   ]
  },
  {
   "cell_type": "markdown",
   "id": "89d09444-b257-4d59-b318-f1b45ae97d20",
   "metadata": {},
   "source": [
    "041 upper 메서드<br>\n",
    "다음과 같은 문자열이 있을 때 이를 대문자 BTC_KRW로 변경하세요."
   ]
  },
  {
   "cell_type": "code",
   "execution_count": 23,
   "id": "6afd5373-04d8-49c8-b293-443b1eeab406",
   "metadata": {},
   "outputs": [
    {
     "name": "stdout",
     "output_type": "stream",
     "text": [
      "BTC_KRW\n"
     ]
    }
   ],
   "source": [
    "ticker = \"btc_krw\"\n",
    "print(ticker.upper())"
   ]
  },
  {
   "cell_type": "markdown",
   "id": "aba21694-193a-4881-84a6-8ff68b415fce",
   "metadata": {},
   "source": [
    "042 lower 메서드<br>\n",
    "다음과 같은 문자열이 있을 때 이를 소문자 btc_krw로 변경하세요."
   ]
  },
  {
   "cell_type": "code",
   "execution_count": 24,
   "id": "d1fb2458-36ad-46df-9bfe-faeff4d22692",
   "metadata": {},
   "outputs": [
    {
     "name": "stdout",
     "output_type": "stream",
     "text": [
      "btc_krw\n"
     ]
    }
   ],
   "source": [
    "ticker = \"BTC_KRW\"\n",
    "print(ticker.lower())"
   ]
  },
  {
   "cell_type": "markdown",
   "id": "805ce881-d862-464a-94dc-3c06e9356b43",
   "metadata": {},
   "source": [
    "### 043 capitalize 메서드<br>\n",
    "문자열 'hello'가 있을 때 이를 'Hello'로 변경해보세요."
   ]
  },
  {
   "cell_type": "code",
   "execution_count": 26,
   "id": "b1d4ce7f-b856-4238-9c0f-a3e57de7d723",
   "metadata": {},
   "outputs": [
    {
     "name": "stdout",
     "output_type": "stream",
     "text": [
      "Hello\n"
     ]
    }
   ],
   "source": [
    "a = 'hello'\n",
    "print(a.capitalize())"
   ]
  },
  {
   "cell_type": "markdown",
   "id": "323e1ce2-e147-47e1-b96d-a5ed7c71a191",
   "metadata": {},
   "source": [
    "## 044 endswith 메서드<br>\n",
    "파일 이름이 문자열로 저장되어 있을 때 endswith 메서드를 사용해서 파일 이름이 'xlsx'로 끝나는지 확인해보세요."
   ]
  },
  {
   "cell_type": "code",
   "execution_count": 30,
   "id": "776adaa7-729e-4280-a4d4-bb8fe15bb61f",
   "metadata": {},
   "outputs": [
    {
     "name": "stdout",
     "output_type": "stream",
     "text": [
      "True\n"
     ]
    }
   ],
   "source": [
    "file_name = \"보고서.xlsx\"\n",
    "a = file_name.endswith('xlsx')\n",
    "print(a)"
   ]
  },
  {
   "cell_type": "markdown",
   "id": "5aee68cc-352b-4c75-a173-a568565126b2",
   "metadata": {},
   "source": [
    "045 endswith 메서드<br>\n",
    "파일 이름이 문자열로 저장되어 있을 때 endswith 메서드를 사용해서 파일 이름이 'xlsx' 또는 'xls'로 끝나는지 확인해보세요."
   ]
  },
  {
   "cell_type": "code",
   "execution_count": 33,
   "id": "586a767b-8007-4f7b-83c6-2d5ac02dea91",
   "metadata": {},
   "outputs": [
    {
     "name": "stdout",
     "output_type": "stream",
     "text": [
      "True\n"
     ]
    }
   ],
   "source": [
    "file_name = \"보고서.xlsx\"\n",
    "if file_name.endswith('xlsx'):\n",
    "    print(True)\n",
    "elif file_name.endswith('xls'):\n",
    "    print(False)"
   ]
  },
  {
   "cell_type": "markdown",
   "id": "933d4091-aa0c-4846-b059-035ed83bc783",
   "metadata": {},
   "source": [
    "## 046 startswith 메서드<br>\n",
    "파일 이름이 문자열로 저장되어 있을 때 startswith 메서드를 사용해서 파일 이름이 '2020'로 시작하는지 확인해보세요."
   ]
  },
  {
   "cell_type": "code",
   "execution_count": 35,
   "id": "ce882c6b-b2fc-40f5-a299-574bf5cee8c4",
   "metadata": {},
   "outputs": [
    {
     "name": "stdout",
     "output_type": "stream",
     "text": [
      "True\n"
     ]
    }
   ],
   "source": [
    "file_name = \"2020_보고서.xlsx\"\n",
    "a = file_name.startswith('2020')\n",
    "print(a)"
   ]
  },
  {
   "cell_type": "markdown",
   "id": "214c2f74-d044-43f6-88f6-3d3546ada2a6",
   "metadata": {},
   "source": [
    "047 split 메서드<br>\n",
    "다음과 같은 문자열이 있을 때 공백을 기준으로 문자열을 나눠보세요."
   ]
  },
  {
   "cell_type": "code",
   "execution_count": 36,
   "id": "50489f01-5da8-44e2-96a5-23699a0e8611",
   "metadata": {},
   "outputs": [
    {
     "name": "stdout",
     "output_type": "stream",
     "text": [
      "hello world\n"
     ]
    }
   ],
   "source": [
    "a = \"hello world\"\n",
    "a.split()\n",
    "print(a)"
   ]
  },
  {
   "cell_type": "markdown",
   "id": "1c339384-047f-41e0-ada4-a1f4a4f800c9",
   "metadata": {},
   "source": [
    "048 split 메서드<br>\n",
    "다음과 같이 문자열이 있을 때 btc와 krw로 나눠보세요."
   ]
  },
  {
   "cell_type": "code",
   "execution_count": 37,
   "id": "7a6260f8-ecc4-498b-a3db-f4919fa7e81c",
   "metadata": {},
   "outputs": [
    {
     "name": "stdout",
     "output_type": "stream",
     "text": [
      "btc_krw\n"
     ]
    }
   ],
   "source": [
    "ticker = \"btc_krw\"\n",
    "ticker.split('_')\n",
    "print(ticker)"
   ]
  },
  {
   "cell_type": "markdown",
   "id": "6dd03797-e3e9-4ba9-96fe-f94302b86648",
   "metadata": {},
   "source": [
    "049 split 메서드<br>\n",
    "다음과 같이 날짜를 표현하는 문자열이 있을 때 연도, 월, 일로 나눠보세요"
   ]
  },
  {
   "cell_type": "code",
   "execution_count": 47,
   "id": "13b485aa-a1c0-476d-9ba1-cfde15fba707",
   "metadata": {},
   "outputs": [
    {
     "name": "stdout",
     "output_type": "stream",
     "text": [
      "2020-05-01\n",
      "2020 05 01\n"
     ]
    }
   ],
   "source": [
    "date = \"2020-05-01\"\n",
    "date.split('-')\n",
    "print(date)\n",
    "y = date[:4]\n",
    "m = date[5:7]\n",
    "d = date[8:]\n",
    "print(y,m,d)"
   ]
  },
  {
   "cell_type": "markdown",
   "id": "367d55da-e908-4997-aea8-c925904b8845",
   "metadata": {},
   "source": [
    "050 rstrip 메서드<br>\n",
    "문자열의 오른쪽에 공백이 있을 때 이를 제거해보세요."
   ]
  },
  {
   "cell_type": "code",
   "execution_count": 48,
   "id": "fae2c6ca-20cb-4bb5-b17f-d5ad5fc9946f",
   "metadata": {},
   "outputs": [
    {
     "name": "stdout",
     "output_type": "stream",
     "text": [
      "039490\n"
     ]
    }
   ],
   "source": [
    "data = \"039490     \"\n",
    "print(data.rstrip())"
   ]
  },
  {
   "cell_type": "markdown",
   "id": "c62ed538-9dbe-4697-b2e8-fe94917e172e",
   "metadata": {},
   "source": [
    "051 리스트 생성<br>\n",
    "2016년 11월 영화 예매 순위 기준 top3는 다음과 같습니다. 영화 제목을 movie_rank 이름의 리스트에 저장해보세요. (순위 정보는 저장하지 않습니다.)"
   ]
  },
  {
   "cell_type": "markdown",
   "id": "a4d28fd9-81f4-4eea-a0b5-c846705d8e0b",
   "metadata": {},
   "source": [
    "<table>\n",
    "<thead>\n",
    "<tr>\n",
    "<th>순위</th>\n",
    "<th>영화</th>\n",
    "</tr>\n",
    "</thead>\n",
    "<tbody>\n",
    "<tr>\n",
    "<td>1</td>\n",
    "<td>닥터 스트레인지</td>\n",
    "</tr>\n",
    "<tr>\n",
    "<td>2</td>\n",
    "<td>스플릿</td>\n",
    "</tr>\n",
    "<tr>\n",
    "<td>3</td>\n",
    "<td>럭키</td>\n",
    "</tr>\n",
    "</tbody>\n",
    "</table>"
   ]
  },
  {
   "cell_type": "code",
   "execution_count": 49,
   "id": "a20c727c-7be3-44a8-ab59-0b6478990299",
   "metadata": {},
   "outputs": [
    {
     "name": "stdout",
     "output_type": "stream",
     "text": [
      "['닥터 스트레인지', '스플릿', '럭키'] <class 'list'>\n"
     ]
    }
   ],
   "source": [
    "movie_rank = ['닥터 스트레인지','스플릿','럭키']\n",
    "print(movie_rank, type(movie_rank))"
   ]
  },
  {
   "cell_type": "markdown",
   "id": "4da10b48-2d60-42c9-a2dc-6b0dd5172990",
   "metadata": {},
   "source": [
    "052 리스트에 원소 추가<br>\n",
    "051의 movie_rank 리스트에 \"배트맨\"을 추가하라."
   ]
  },
  {
   "cell_type": "code",
   "execution_count": 50,
   "id": "ba5a439f-fac9-4fb1-8875-a674f5525838",
   "metadata": {},
   "outputs": [
    {
     "name": "stdout",
     "output_type": "stream",
     "text": [
      "['닥터 스트레인지', '스플릿', '럭키', '배트맨'] <class 'list'>\n"
     ]
    }
   ],
   "source": [
    "movie_rank = ['닥터 스트레인지','스플릿','럭키']\n",
    "movie_rank.append('배트맨')\n",
    "print(movie_rank, type(movie_rank))"
   ]
  },
  {
   "cell_type": "markdown",
   "id": "c3000c38-61ce-4e7d-b33a-f3b79c6b1200",
   "metadata": {},
   "source": [
    "## 053<br>\n",
    "movie_rank 리스트에는 아래와 같이 네 개의 영화 제목이 바인딩되어 있다. \"슈퍼맨\"을 \"닥터 스트레인지\"와 \"스플릿\" 사이에 추가하라"
   ]
  },
  {
   "cell_type": "code",
   "execution_count": 54,
   "id": "1cd02d61-3da4-4ea4-b003-9f89186eb5c5",
   "metadata": {},
   "outputs": [
    {
     "name": "stdout",
     "output_type": "stream",
     "text": [
      "['닥터 스트레인지', '슈퍼맨', '스플릿', '럭키', '배트맨']\n"
     ]
    }
   ],
   "source": [
    "movie_rank = ['닥터 스트레인지', '스플릿', '럭키', '배트맨']\n",
    "movie_rank.insert(1,'슈퍼맨')\n",
    "print(movie_rank)"
   ]
  },
  {
   "cell_type": "markdown",
   "id": "d14e3334-86ce-4ebe-9dc6-81705df455f9",
   "metadata": {},
   "source": [
    "## 054<br>\n",
    "movie_rank 리스트에서 '럭키'를 삭제하라."
   ]
  },
  {
   "cell_type": "code",
   "execution_count": 57,
   "id": "a446ca74-300f-48a7-b776-8942598636f1",
   "metadata": {},
   "outputs": [
    {
     "name": "stdout",
     "output_type": "stream",
     "text": [
      "['닥터 스트레인지', '슈퍼맨', '스플릿', '배트맨']\n"
     ]
    }
   ],
   "source": [
    "movie_rank = ['닥터 스트레인지', '슈퍼맨', '스플릿', '럭키', '배트맨']\n",
    "del movie_rank[3]\n",
    "print(movie_rank)"
   ]
  },
  {
   "cell_type": "markdown",
   "id": "f80b4f5e-24ce-46ab-b03d-3bdb6723ae8f",
   "metadata": {},
   "source": [
    "055<br>\n",
    "movie_rank 리스트에서 '스플릿' 과 '배트맨'을 를 삭제하라."
   ]
  },
  {
   "cell_type": "code",
   "execution_count": 59,
   "id": "0455e33e-1ac5-4eee-98ad-ce09a2c12deb",
   "metadata": {},
   "outputs": [
    {
     "name": "stdout",
     "output_type": "stream",
     "text": [
      "['닥터 스트레인지', '슈퍼맨']\n"
     ]
    }
   ],
   "source": [
    "movie_rank = ['닥터 스트레인지', '슈퍼맨', '스플릿', '배트맨']\n",
    "del movie_rank[2:]\n",
    "print(movie_rank)"
   ]
  },
  {
   "cell_type": "markdown",
   "id": "14b268b6-43fe-4a96-84e6-81f53d04e3bd",
   "metadata": {},
   "source": [
    "056<br>\n",
    "lang1과 lang2 리스트가 있을 때 lang1과 lang2의 원소를 모두 갖고 있는 langs 리스트를 만들어라."
   ]
  },
  {
   "cell_type": "code",
   "execution_count": 60,
   "id": "6f4b3427-372b-4aaf-80cd-c49c4c407a63",
   "metadata": {},
   "outputs": [
    {
     "name": "stdout",
     "output_type": "stream",
     "text": [
      "['C', 'C++', 'JAVA', 'Python', 'Go', 'C#']\n"
     ]
    }
   ],
   "source": [
    "lang1 = [\"C\", \"C++\", \"JAVA\"]\n",
    "lang2 = [\"Python\", \"Go\", \"C#\"]\n",
    "langs = lang1 + lang2\n",
    "print(langs)"
   ]
  },
  {
   "cell_type": "markdown",
   "id": "de037457-9f9e-4494-a214-ceee768871fc",
   "metadata": {},
   "source": [
    "## 057<br>\n",
    "다음 리스트에서 최댓값과 최솟값을 출력하라. (힌트: min(), max() 함수 사용)"
   ]
  },
  {
   "cell_type": "code",
   "execution_count": 66,
   "id": "2c35bccf-897c-4698-8064-1561d2395e71",
   "metadata": {},
   "outputs": [
    {
     "name": "stdout",
     "output_type": "stream",
     "text": [
      "최솟값:  1\n",
      "최댓값:  7\n"
     ]
    }
   ],
   "source": [
    "nums = [1, 2, 3, 4, 5, 6, 7]\n",
    "\n",
    "print('최솟값: ' , min(nums))\n",
    "print('최댓값: ' , max(nums))"
   ]
  },
  {
   "cell_type": "code",
   "execution_count": null,
   "id": "21e1cb60-e857-4933-be72-68840f3b454b",
   "metadata": {},
   "outputs": [],
   "source": []
  }
 ],
 "metadata": {
  "kernelspec": {
   "display_name": "Python 3 (ipykernel)",
   "language": "python",
   "name": "python3"
  },
  "language_info": {
   "codemirror_mode": {
    "name": "ipython",
    "version": 3
   },
   "file_extension": ".py",
   "mimetype": "text/x-python",
   "name": "python",
   "nbconvert_exporter": "python",
   "pygments_lexer": "ipython3",
   "version": "3.13.2"
  }
 },
 "nbformat": 4,
 "nbformat_minor": 5
}
