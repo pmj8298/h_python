{
 "cells": [
  {
   "cell_type": "markdown",
   "id": "9134fc2c-60eb-44d6-a7cb-766fe50fae1e",
   "metadata": {},
   "source": [
    "001 print 기초<br>\n",
    "화면에 Hello World 문자열을 출력하세요."
   ]
  },
  {
   "cell_type": "code",
   "execution_count": 1,
   "id": "bb2c66c0-a9a7-48fd-8401-5f332a7a4277",
   "metadata": {},
   "outputs": [
    {
     "name": "stdout",
     "output_type": "stream",
     "text": [
      "Hello World\n"
     ]
    }
   ],
   "source": [
    "print('Hello World')"
   ]
  },
  {
   "cell_type": "markdown",
   "id": "4493d32b-c256-4df9-ba59-444b90f4765c",
   "metadata": {},
   "source": [
    "002 print 기초<br>\n",
    "화면에 Mary's cosmetics을 출력하세요. (중간에 '가 있음에 주의하세요)"
   ]
  },
  {
   "cell_type": "code",
   "execution_count": 2,
   "id": "f1655e8d-2bb3-46df-a157-52523b256568",
   "metadata": {},
   "outputs": [
    {
     "name": "stdout",
     "output_type": "stream",
     "text": [
      "Mary's cosmetics\n"
     ]
    }
   ],
   "source": [
    "print(\"Mary's cosmetics\")"
   ]
  },
  {
   "cell_type": "markdown",
   "id": "f944e24b-a2c3-4775-91a0-6c6b8845b4ac",
   "metadata": {},
   "source": [
    "003 print 기초<br>\n",
    "화면에 아래 문장을 출력하세요. (중간에 \"가 있음에 주의하세요.)\n",
    "\n",
    "신씨가 소리질렀다. \"도둑이야\"."
   ]
  },
  {
   "cell_type": "code",
   "execution_count": 3,
   "id": "65fafa87-0cd8-46ed-a8fd-c0b26e78f949",
   "metadata": {},
   "outputs": [
    {
     "name": "stdout",
     "output_type": "stream",
     "text": [
      "신씨가 소리질렀다. \"도둑이야\".\n"
     ]
    }
   ],
   "source": [
    "print('신씨가 소리질렀다. \"도둑이야\".')"
   ]
  },
  {
   "cell_type": "markdown",
   "id": "814a7f7c-e94d-423d-a7ed-4b3a9cd7f46e",
   "metadata": {},
   "source": [
    "004 print 기초<br>\n",
    "화면에 C:\\Windows를 출력하세요."
   ]
  },
  {
   "cell_type": "code",
   "execution_count": 5,
   "id": "a034580d-b29e-42ee-96dc-4f16a96971ea",
   "metadata": {},
   "outputs": [
    {
     "name": "stdout",
     "output_type": "stream",
     "text": [
      "C:\\Windows\n"
     ]
    }
   ],
   "source": [
    "print('C:\\\\Windows')"
   ]
  },
  {
   "cell_type": "markdown",
   "id": "9d05d2f7-7e8f-4b4f-955a-d300cf5d05ad",
   "metadata": {},
   "source": [
    "005 print 탭과 줄바꿈<br>\n",
    "다음 코드를 실행해보고 \\t와 \\n의 역할을 설명해보세요.\n",
    "\n",
    "print(\"안녕하세요.\\n만나서\\t\\t반갑습니다.\")"
   ]
  },
  {
   "cell_type": "code",
   "execution_count": 7,
   "id": "28c278a4-ffb2-488d-9b9a-92951e7ca92f",
   "metadata": {},
   "outputs": [
    {
     "name": "stdout",
     "output_type": "stream",
     "text": [
      "안녕하세요.\n",
      "만나서\t\t반갑습니다.\n"
     ]
    }
   ],
   "source": [
    "print(\"안녕하세요.\\n만나서\\t\\t반갑습니다.\")\n",
    "# \\n은 줄바꿈이고, \\t은 tab만큼 띄워쓰기"
   ]
  },
  {
   "cell_type": "markdown",
   "id": "6271659e-9adf-472e-80fd-9e440fa82c75",
   "metadata": {},
   "source": [
    "006 print 여러 데이터 출력<br>\n",
    "print 함수에 두 개의 단어를 입력한 예제입니다. 아래 코드의 출력 결과를 예상해봅시다.\n",
    "\n",
    "print (\"오늘은\", \"일요일\")"
   ]
  },
  {
   "cell_type": "code",
   "execution_count": 10,
   "id": "2b035e6e-374e-459a-86da-040e00d21029",
   "metadata": {},
   "outputs": [
    {
     "name": "stdout",
     "output_type": "stream",
     "text": [
      "오늘은 일요일\n",
      "오늘은일요일\n"
     ]
    }
   ],
   "source": [
    "print (\"오늘은\", \"일요일\")\n",
    "print (\"오늘은\" + \"일요일\")\n",
    "# ,는 띄어쓰기를 해주고 +는 글이 붙어나옴"
   ]
  },
  {
   "cell_type": "markdown",
   "id": "36868d95-feaa-49f4-838b-9b5ec357fed8",
   "metadata": {},
   "source": [
    "007 print 기초<br>\n",
    "print() 함수를 사용하여 다음과 같이 출력하세요.\n",
    "\n",
    "naver;kakao;sk;samsung"
   ]
  },
  {
   "cell_type": "code",
   "execution_count": 11,
   "id": "10700a77-09d3-489c-9e2c-103026f4de23",
   "metadata": {},
   "outputs": [
    {
     "name": "stdout",
     "output_type": "stream",
     "text": [
      "naver;kakao;sk;samsung\n"
     ]
    }
   ],
   "source": [
    "print('naver'+';'+'kakao'+';'+'sk'+';'+'samsung')"
   ]
  },
  {
   "cell_type": "code",
   "execution_count": 12,
   "id": "897cc6b7-a85c-4d11-aa11-6ed72ee2dcea",
   "metadata": {},
   "outputs": [
    {
     "name": "stdout",
     "output_type": "stream",
     "text": [
      "naver;kakao;samsung\n"
     ]
    }
   ],
   "source": [
    "print(\"naver\", \"kakao\", \"samsung\", sep=\";\")"
   ]
  },
  {
   "cell_type": "markdown",
   "id": "c539a9e6-4bba-47f5-b7ba-09d7b10bdf9d",
   "metadata": {},
   "source": [
    "008 print 기초<br>\n",
    "print() 함수를 사용하여 다음과 같이 출력하세요.\n",
    "\n",
    "naver/kakao/sk/samsung"
   ]
  },
  {
   "cell_type": "code",
   "execution_count": 13,
   "id": "8382d6ab-5a9f-4cba-97bf-e3266f5ebb64",
   "metadata": {},
   "outputs": [
    {
     "name": "stdout",
     "output_type": "stream",
     "text": [
      "naver/kakao/sk/samsung\n"
     ]
    }
   ],
   "source": [
    "print(\"naver\", \"kakao\", 'sk', \"samsung\", sep=\"/\")"
   ]
  },
  {
   "cell_type": "markdown",
   "id": "f1d15afa-2188-4282-91b3-376ccd8649c1",
   "metadata": {},
   "source": [
    "009 print 줄바꿈<br>\n",
    "다음 코드를 수정하여 줄바꿈이 없이 출력하세요. (힌트: end='') print 함수는 두 번 사용합니다. 세미콜론 (;)은 한줄에 여러 개의 명령을 작성하기 위해 사용합니다.\n",
    "\n",
    "print(\"first\");print(\"second\")"
   ]
  },
  {
   "cell_type": "code",
   "execution_count": 14,
   "id": "4a6fd040-dea7-489a-a3c9-da7a8914024a",
   "metadata": {},
   "outputs": [
    {
     "name": "stdout",
     "output_type": "stream",
     "text": [
      "first\n",
      "second\n"
     ]
    }
   ],
   "source": [
    "print(\"first\");print(\"second\")"
   ]
  },
  {
   "cell_type": "code",
   "execution_count": 16,
   "id": "8e44f8cc-cd9d-4507-b017-4b1bb5cd8312",
   "metadata": {},
   "outputs": [
    {
     "name": "stdout",
     "output_type": "stream",
     "text": [
      "first second\n"
     ]
    }
   ],
   "source": [
    "print(\"first\", end=' ');print(\"second\")"
   ]
  },
  {
   "cell_type": "markdown",
   "id": "a68cf9b4-3993-4ec3-93c8-4ed64cd8c288",
   "metadata": {},
   "source": [
    "010 연산 결과 출력<br>\n",
    "5/3의 결과를 화면에 출력하세요."
   ]
  },
  {
   "cell_type": "code",
   "execution_count": 26,
   "id": "12dcd4bb-0875-4cc3-8a0a-c4910525e78a",
   "metadata": {},
   "outputs": [
    {
     "name": "stdout",
     "output_type": "stream",
     "text": [
      "1.67\n"
     ]
    }
   ],
   "source": [
    "print(f'{5/3:.2f}')"
   ]
  },
  {
   "cell_type": "code",
   "execution_count": null,
   "id": "9bc53ca2-b144-4993-8257-2c6bd4c1c03f",
   "metadata": {},
   "outputs": [],
   "source": []
  }
 ],
 "metadata": {
  "kernelspec": {
   "display_name": "Python 3 (ipykernel)",
   "language": "python",
   "name": "python3"
  },
  "language_info": {
   "codemirror_mode": {
    "name": "ipython",
    "version": 3
   },
   "file_extension": ".py",
   "mimetype": "text/x-python",
   "name": "python",
   "nbconvert_exporter": "python",
   "pygments_lexer": "ipython3",
   "version": "3.13.2"
  }
 },
 "nbformat": 4,
 "nbformat_minor": 5
}
