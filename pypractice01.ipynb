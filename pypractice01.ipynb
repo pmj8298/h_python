{
 "cells": [
  {
   "cell_type": "markdown",
   "id": "9134fc2c-60eb-44d6-a7cb-766fe50fae1e",
   "metadata": {},
   "source": [
    "001 print 기초<br>\n",
    "화면에 Hello World 문자열을 출력하세요."
   ]
  },
  {
   "cell_type": "code",
   "execution_count": 1,
   "id": "bb2c66c0-a9a7-48fd-8401-5f332a7a4277",
   "metadata": {},
   "outputs": [
    {
     "name": "stdout",
     "output_type": "stream",
     "text": [
      "Hello World\n"
     ]
    }
   ],
   "source": [
    "print('Hello World')"
   ]
  },
  {
   "cell_type": "markdown",
   "id": "4493d32b-c256-4df9-ba59-444b90f4765c",
   "metadata": {},
   "source": [
    "002 print 기초<br>\n",
    "화면에 Mary's cosmetics을 출력하세요. (중간에 '가 있음에 주의하세요)"
   ]
  },
  {
   "cell_type": "code",
   "execution_count": 2,
   "id": "f1655e8d-2bb3-46df-a157-52523b256568",
   "metadata": {},
   "outputs": [
    {
     "name": "stdout",
     "output_type": "stream",
     "text": [
      "Mary's cosmetics\n"
     ]
    }
   ],
   "source": [
    "print(\"Mary's cosmetics\")"
   ]
  },
  {
   "cell_type": "markdown",
   "id": "f944e24b-a2c3-4775-91a0-6c6b8845b4ac",
   "metadata": {},
   "source": [
    "003 print 기초<br>\n",
    "화면에 아래 문장을 출력하세요. (중간에 \"가 있음에 주의하세요.)\n",
    "\n",
    "신씨가 소리질렀다. \"도둑이야\"."
   ]
  },
  {
   "cell_type": "code",
   "execution_count": 3,
   "id": "65fafa87-0cd8-46ed-a8fd-c0b26e78f949",
   "metadata": {},
   "outputs": [
    {
     "name": "stdout",
     "output_type": "stream",
     "text": [
      "신씨가 소리질렀다. \"도둑이야\".\n"
     ]
    }
   ],
   "source": [
    "print('신씨가 소리질렀다. \"도둑이야\".')"
   ]
  },
  {
   "cell_type": "markdown",
   "id": "814a7f7c-e94d-423d-a7ed-4b3a9cd7f46e",
   "metadata": {},
   "source": [
    "004 print 기초<br>\n",
    "화면에 C:\\Windows를 출력하세요."
   ]
  },
  {
   "cell_type": "code",
   "execution_count": 5,
   "id": "a034580d-b29e-42ee-96dc-4f16a96971ea",
   "metadata": {},
   "outputs": [
    {
     "name": "stdout",
     "output_type": "stream",
     "text": [
      "C:\\Windows\n"
     ]
    }
   ],
   "source": [
    "print('C:\\\\Windows')"
   ]
  },
  {
   "cell_type": "markdown",
   "id": "9d05d2f7-7e8f-4b4f-955a-d300cf5d05ad",
   "metadata": {},
   "source": [
    "005 print 탭과 줄바꿈<br>\n",
    "다음 코드를 실행해보고 \\t와 \\n의 역할을 설명해보세요.\n",
    "\n",
    "print(\"안녕하세요.\\n만나서\\t\\t반갑습니다.\")"
   ]
  },
  {
   "cell_type": "code",
   "execution_count": 7,
   "id": "28c278a4-ffb2-488d-9b9a-92951e7ca92f",
   "metadata": {},
   "outputs": [
    {
     "name": "stdout",
     "output_type": "stream",
     "text": [
      "안녕하세요.\n",
      "만나서\t\t반갑습니다.\n"
     ]
    }
   ],
   "source": [
    "print(\"안녕하세요.\\n만나서\\t\\t반갑습니다.\")\n",
    "# \\n은 줄바꿈이고, \\t은 tab만큼 띄워쓰기"
   ]
  },
  {
   "cell_type": "markdown",
   "id": "6271659e-9adf-472e-80fd-9e440fa82c75",
   "metadata": {},
   "source": [
    "006 print 여러 데이터 출력<br>\n",
    "print 함수에 두 개의 단어를 입력한 예제입니다. 아래 코드의 출력 결과를 예상해봅시다.\n",
    "\n",
    "print (\"오늘은\", \"일요일\")"
   ]
  },
  {
   "cell_type": "code",
   "execution_count": 10,
   "id": "2b035e6e-374e-459a-86da-040e00d21029",
   "metadata": {},
   "outputs": [
    {
     "name": "stdout",
     "output_type": "stream",
     "text": [
      "오늘은 일요일\n",
      "오늘은일요일\n"
     ]
    }
   ],
   "source": [
    "print (\"오늘은\", \"일요일\")\n",
    "print (\"오늘은\" + \"일요일\")\n",
    "# ,는 띄어쓰기를 해주고 +는 글이 붙어나옴"
   ]
  },
  {
   "cell_type": "markdown",
   "id": "36868d95-feaa-49f4-838b-9b5ec357fed8",
   "metadata": {},
   "source": [
    "007 print 기초<br>\n",
    "print() 함수를 사용하여 다음과 같이 출력하세요.\n",
    "\n",
    "naver;kakao;sk;samsung"
   ]
  },
  {
   "cell_type": "code",
   "execution_count": 11,
   "id": "10700a77-09d3-489c-9e2c-103026f4de23",
   "metadata": {},
   "outputs": [
    {
     "name": "stdout",
     "output_type": "stream",
     "text": [
      "naver;kakao;sk;samsung\n"
     ]
    }
   ],
   "source": [
    "print('naver'+';'+'kakao'+';'+'sk'+';'+'samsung')"
   ]
  },
  {
   "cell_type": "code",
   "execution_count": 12,
   "id": "897cc6b7-a85c-4d11-aa11-6ed72ee2dcea",
   "metadata": {},
   "outputs": [
    {
     "name": "stdout",
     "output_type": "stream",
     "text": [
      "naver;kakao;samsung\n"
     ]
    }
   ],
   "source": [
    "print(\"naver\", \"kakao\", \"samsung\", sep=\";\")"
   ]
  },
  {
   "cell_type": "markdown",
   "id": "c539a9e6-4bba-47f5-b7ba-09d7b10bdf9d",
   "metadata": {},
   "source": [
    "008 print 기초<br>\n",
    "print() 함수를 사용하여 다음과 같이 출력하세요.\n",
    "\n",
    "naver/kakao/sk/samsung"
   ]
  },
  {
   "cell_type": "code",
   "execution_count": 13,
   "id": "8382d6ab-5a9f-4cba-97bf-e3266f5ebb64",
   "metadata": {},
   "outputs": [
    {
     "name": "stdout",
     "output_type": "stream",
     "text": [
      "naver/kakao/sk/samsung\n"
     ]
    }
   ],
   "source": [
    "print(\"naver\", \"kakao\", 'sk', \"samsung\", sep=\"/\")"
   ]
  },
  {
   "cell_type": "markdown",
   "id": "f1d15afa-2188-4282-91b3-376ccd8649c1",
   "metadata": {},
   "source": [
    "009 print 줄바꿈<br>\n",
    "다음 코드를 수정하여 줄바꿈이 없이 출력하세요. (힌트: end='') print 함수는 두 번 사용합니다. 세미콜론 (;)은 한줄에 여러 개의 명령을 작성하기 위해 사용합니다.\n",
    "\n",
    "print(\"first\");print(\"second\")"
   ]
  },
  {
   "cell_type": "code",
   "execution_count": 14,
   "id": "4a6fd040-dea7-489a-a3c9-da7a8914024a",
   "metadata": {},
   "outputs": [
    {
     "name": "stdout",
     "output_type": "stream",
     "text": [
      "first\n",
      "second\n"
     ]
    }
   ],
   "source": [
    "print(\"first\");print(\"second\")"
   ]
  },
  {
   "cell_type": "code",
   "execution_count": 16,
   "id": "8e44f8cc-cd9d-4507-b017-4b1bb5cd8312",
   "metadata": {},
   "outputs": [
    {
     "name": "stdout",
     "output_type": "stream",
     "text": [
      "first second\n"
     ]
    }
   ],
   "source": [
    "print(\"first\", end=' ');print(\"second\")"
   ]
  },
  {
   "cell_type": "markdown",
   "id": "a68cf9b4-3993-4ec3-93c8-4ed64cd8c288",
   "metadata": {},
   "source": [
    "010 연산 결과 출력<br>\n",
    "5/3의 결과를 화면에 출력하세요."
   ]
  },
  {
   "cell_type": "code",
   "execution_count": 26,
   "id": "12dcd4bb-0875-4cc3-8a0a-c4910525e78a",
   "metadata": {},
   "outputs": [
    {
     "name": "stdout",
     "output_type": "stream",
     "text": [
      "1.67\n"
     ]
    }
   ],
   "source": [
    "print(f'{5/3:.2f}')"
   ]
  },
  {
   "cell_type": "markdown",
   "id": "9f31ee98-6fe5-412b-9b00-6bc29103dae6",
   "metadata": {},
   "source": [
    "011 변수 사용하기<br>\n",
    "삼성전자라는 변수로 50,000원을 바인딩해보세요. 삼성전자 주식 10주를 보유하고 있을 때 총 평가금액을 출력하세요."
   ]
  },
  {
   "cell_type": "code",
   "execution_count": 27,
   "id": "1e63f15b-2638-4830-9943-9b5894b5e804",
   "metadata": {},
   "outputs": [
    {
     "name": "stdout",
     "output_type": "stream",
     "text": [
      "500000\n"
     ]
    }
   ],
   "source": [
    "삼성전자 = 50000\n",
    "총평가금액 = 삼성전자 * 10\n",
    "print(총평가금액)"
   ]
  },
  {
   "cell_type": "markdown",
   "id": "ef2b46e3-800d-4518-8520-ca2259bcdbeb",
   "metadata": {},
   "source": [
    "012 변수 사용하기<br>\n",
    "다음 표는 삼성전자의 일부 투자정보입니다. 변수를 사용해서 시가총액, 현재가, PER 등을 바인딩해보세요"
   ]
  },
  {
   "cell_type": "markdown",
   "id": "1fd34057-7981-44f8-9557-63a8822ab9df",
   "metadata": {},
   "source": [
    "<table>\n",
    "<thead>\n",
    "<tr>\n",
    "<th>항목</th>\n",
    "<th>값</th>\n",
    "</tr>\n",
    "</thead>\n",
    "<tbody>\n",
    "<tr>\n",
    "<td>시가총액</td>\n",
    "<td>298조</td>\n",
    "</tr>\n",
    "<tr>\n",
    "<td>현재가</td>\n",
    "<td>50,000원</td>\n",
    "</tr>\n",
    "<tr>\n",
    "<td>PER</td>\n",
    "<td>15.79</td>\n",
    "</tr>\n",
    "</tbody>\n",
    "</table>"
   ]
  },
  {
   "cell_type": "code",
   "execution_count": 29,
   "id": "bbb8f1c7-6125-4a8b-8b2c-f3955eb899d4",
   "metadata": {},
   "outputs": [
    {
     "name": "stdout",
     "output_type": "stream",
     "text": [
      "2980000000000 <class 'int'>\n",
      "50000 <class 'int'>\n",
      "15.79 <class 'float'>\n"
     ]
    }
   ],
   "source": [
    "시가총액 = 2980000000000\n",
    "현재가 = 50000\n",
    "PER = 15.79\n",
    "\n",
    "print(시가총액, type(시가총액))\n",
    "print(현재가, type(현재가))\n",
    "print(PER, type(PER))"
   ]
  },
  {
   "cell_type": "markdown",
   "id": "1a391de4-f72f-4bda-9a7a-e72c6fddce04",
   "metadata": {},
   "source": [
    "013 문자열 출력\n",
    "변수 s와 t에는 각각 문자열이 바인딩 되어있습니다.<br>\n",
    "s = \"hello\"\n",
    "t = \"python\"\n",
    "<br>\n",
    "실행 예:\n",
    "hello! python"
   ]
  },
  {
   "cell_type": "code",
   "execution_count": 2,
   "id": "fd04220f-24e6-4524-a709-815e1266d960",
   "metadata": {},
   "outputs": [
    {
     "name": "stdout",
     "output_type": "stream",
     "text": [
      "hello! python\n"
     ]
    }
   ],
   "source": [
    "s = \"hello\" \n",
    "t = \"python\"\n",
    "print(f'{s}! {t}')"
   ]
  },
  {
   "cell_type": "markdown",
   "id": "e5cde525-caa4-4096-b919-8bd355275e90",
   "metadata": {},
   "source": [
    "014 파이썬을 이용한 값 계산<br>\n",
    "아래 코드의 실행 결과를 예상해보세요<br>\n",
    "2 + 2 * 3 "
   ]
  },
  {
   "cell_type": "code",
   "execution_count": 3,
   "id": "8dbb9507-ae57-4b10-b91d-d3daa2e1dabc",
   "metadata": {},
   "outputs": [
    {
     "name": "stdout",
     "output_type": "stream",
     "text": [
      "8\n"
     ]
    }
   ],
   "source": [
    "print(2+2*3)"
   ]
  },
  {
   "cell_type": "markdown",
   "id": "8b009ec5-8ba2-4d5c-8ab8-1382308fe015",
   "metadata": {},
   "source": [
    "015 type 함수<br>\n",
    "type() 함수는 데이터 타입을 판별합니다. 변수 a에는 128 숫자가 바인딩돼 있어 type 함수가 int (정수)형임을 알려줍니다.<br>\n",
    "a = 128\n",
    "print (type(a))\n",
    "<class 'int'>\n",
    "\n",
    "아래 변수에 바인딩된 값의 타입을 판별해보세요.\n",
    "a = \"132\""
   ]
  },
  {
   "cell_type": "code",
   "execution_count": 4,
   "id": "e5fa5aad-3722-44e4-90db-26025e92974b",
   "metadata": {},
   "outputs": [
    {
     "name": "stdout",
     "output_type": "stream",
     "text": [
      "<class 'str'>\n"
     ]
    }
   ],
   "source": [
    "a = '132'\n",
    "print(type(a))"
   ]
  },
  {
   "cell_type": "markdown",
   "id": "d5da6ddb-01c6-4ff1-a9a9-801ddd143066",
   "metadata": {},
   "source": [
    "016 문자열을 정수로 변환<br>\n",
    "문자열 '720'를 정수형으로 변환해보세요"
   ]
  },
  {
   "cell_type": "code",
   "execution_count": 6,
   "id": "b32d5b6d-0cfb-437d-bb03-45489f362d20",
   "metadata": {},
   "outputs": [
    {
     "name": "stdout",
     "output_type": "stream",
     "text": [
      "720 <class 'int'>\n"
     ]
    }
   ],
   "source": [
    "num_str = \"720\"\n",
    "print(int(num_str),type(int(num_str)))"
   ]
  },
  {
   "cell_type": "markdown",
   "id": "8b5da39c-c54f-411c-bebb-9ece94994025",
   "metadata": {},
   "source": [
    "017 정수를 문자열 100으로 변환<br>\n",
    "정수 100을 문자열 '100'으로 변환해보세요."
   ]
  },
  {
   "cell_type": "code",
   "execution_count": 7,
   "id": "2f950792-f2e1-4ee3-a54f-4093aa6630ae",
   "metadata": {},
   "outputs": [
    {
     "name": "stdout",
     "output_type": "stream",
     "text": [
      "100 <class 'str'>\n"
     ]
    }
   ],
   "source": [
    "num = 100\n",
    "print(str(num), type(str(num)))"
   ]
  },
  {
   "cell_type": "markdown",
   "id": "d552b78c-6edd-4c99-80eb-d814d92f5b47",
   "metadata": {},
   "source": [
    "018 문자열을 실수로 변환<br>\n",
    "문자열 \"15.79\"를 실수(float) 타입으로 변환해보세요"
   ]
  },
  {
   "cell_type": "code",
   "execution_count": 8,
   "id": "f47ff882-2bbf-45f2-976c-aa0a583aeca4",
   "metadata": {},
   "outputs": [
    {
     "name": "stdout",
     "output_type": "stream",
     "text": [
      "15.79 <class 'float'>\n"
     ]
    }
   ],
   "source": [
    "a = '15.79'\n",
    "print(float(a), type(float(a)))"
   ]
  },
  {
   "cell_type": "markdown",
   "id": "b6a8d1f5-32ee-4a1f-a30d-1630cd3c8d91",
   "metadata": {},
   "source": [
    "019 문자열을 정수로 변환<br>\n",
    "year라는 변수가 문자열 타입의 연도를 바인딩하고 있습니다. 이를 정수로 변환한 후 최근 3년의 연도를 화면에 출력해보세요."
   ]
  },
  {
   "cell_type": "code",
   "execution_count": 9,
   "id": "08ba0bd8-49c1-414d-b519-6c903c874aad",
   "metadata": {},
   "outputs": [
    {
     "name": "stdout",
     "output_type": "stream",
     "text": [
      "2025 2024 2023\n"
     ]
    }
   ],
   "source": [
    "year = 2025\n",
    "nyear = int(year)\n",
    "print(nyear, (nyear-1),(nyear-2))\n"
   ]
  },
  {
   "cell_type": "markdown",
   "id": "3d02ef08-d8c7-4ee2-bbd7-55c0f3e5198e",
   "metadata": {},
   "source": [
    "020 파이썬 계산<br>\n",
    "에이컨이 월 48,584원에 무이자 36개월의 조건으로 홈쇼핑에서 판매되고 있습니다. 총 금액은 계산한 후 이를 화면에 출력해보세요. (변수사용하기)"
   ]
  },
  {
   "cell_type": "code",
   "execution_count": 11,
   "id": "b0b15cd2-3a3e-4f12-a785-4d812df67415",
   "metadata": {},
   "outputs": [
    {
     "name": "stdout",
     "output_type": "stream",
     "text": [
      "1749024\n"
     ]
    }
   ],
   "source": [
    "ac = int(48584)\n",
    "acsum = ac*36 \n",
    "print(acsum)"
   ]
  },
  {
   "cell_type": "markdown",
   "id": "2d7dba89-8dc2-4ed2-b7c0-c4b96e851f74",
   "metadata": {},
   "source": [
    "021 문자열 인덱싱<br>\n",
    "letters가 바인딩하는 문자열에서 첫번째와 세번째 문자를 출력하세요"
   ]
  },
  {
   "cell_type": "code",
   "execution_count": 13,
   "id": "74a50bd9-7f3a-45c6-bf24-f497260fc0bd",
   "metadata": {},
   "outputs": [
    {
     "name": "stdout",
     "output_type": "stream",
     "text": [
      "p t\n"
     ]
    }
   ],
   "source": [
    "letters = 'python'\n",
    "print(letters[0], letters[2])"
   ]
  },
  {
   "cell_type": "markdown",
   "id": "886444c5-4e50-4027-9a63-36e54bb04d5b",
   "metadata": {},
   "source": [
    "022 문자열 슬라이싱<br>\n",
    "자동차 번호가 다음과 같을 때 뒤에 4자리만 출력하세요."
   ]
  },
  {
   "cell_type": "code",
   "execution_count": 17,
   "id": "8f31a4e9-3abf-4a64-9694-f6b0740e5608",
   "metadata": {},
   "outputs": [
    {
     "name": "stdout",
     "output_type": "stream",
     "text": [
      "2210\n"
     ]
    }
   ],
   "source": [
    "license_plate = \"24가 2210\"\n",
    "print(license_plate[4:])"
   ]
  },
  {
   "cell_type": "markdown",
   "id": "2cd3ba74-1453-49c6-90f1-6272269a63f3",
   "metadata": {},
   "source": [
    "023 문자열 인덱싱<br>\n",
    "아래의 문자열에서 '홀' 만 출력하세요"
   ]
  },
  {
   "cell_type": "code",
   "execution_count": 18,
   "id": "a6571d92-2552-4ad1-b341-ebbe797a1d08",
   "metadata": {},
   "outputs": [
    {
     "name": "stdout",
     "output_type": "stream",
     "text": [
      "홀홀홀\n"
     ]
    }
   ],
   "source": [
    "string = \"홀짝홀짝홀짝\"\n",
    "print(string[0:5:2])"
   ]
  },
  {
   "cell_type": "markdown",
   "id": "f3708c15-1868-46dd-bab3-69fea3bdbd5a",
   "metadata": {},
   "source": [
    "024 문자열 슬라이싱<br>\n",
    "문자열을 거꾸로 뒤집어 출력하세요."
   ]
  },
  {
   "cell_type": "code",
   "execution_count": 25,
   "id": "eeb9b02c-fac4-41eb-aa15-787d00b86c68",
   "metadata": {},
   "outputs": [
    {
     "name": "stdout",
     "output_type": "stream",
     "text": [
      "NOHTYP\n"
     ]
    }
   ],
   "source": [
    "string = \"PYTHON\"\n",
    "print(string[::-1])"
   ]
  },
  {
   "cell_type": "markdown",
   "id": "8d055dda-b4b0-42fb-b6b4-0dc75461a854",
   "metadata": {},
   "source": [
    "025 문자열 치환<br>\n",
    "아래의 전화번호에서 하이푼 ('-')을 제거하고 출력하세요."
   ]
  },
  {
   "cell_type": "code",
   "execution_count": 28,
   "id": "1438df66-f945-47bd-a351-5f2460bf89c9",
   "metadata": {},
   "outputs": [
    {
     "name": "stdout",
     "output_type": "stream",
     "text": [
      "010 1111 2222\n"
     ]
    }
   ],
   "source": [
    "phone_number = \"010-1111-2222\"\n",
    "pn = phone_number.replace('-',' ')\n",
    "print(pn)"
   ]
  },
  {
   "cell_type": "markdown",
   "id": "92be3ae8-980d-4177-87d0-c5fba96d2eb6",
   "metadata": {},
   "source": [
    "026 문자열 다루기<br>\n",
    "25번 문제의 전화번호를 아래와 같이 모두 붙여 출력하세요"
   ]
  },
  {
   "cell_type": "code",
   "execution_count": 29,
   "id": "aa4f4324-8b7f-406d-bf09-09ddfd425778",
   "metadata": {},
   "outputs": [
    {
     "name": "stdout",
     "output_type": "stream",
     "text": [
      "01011112222\n"
     ]
    }
   ],
   "source": [
    "phone_number = \"010-1111-2222\"\n",
    "pn = phone_number.replace('-','')\n",
    "print(pn)"
   ]
  },
  {
   "cell_type": "markdown",
   "id": "508aee4d-48c9-49d4-b052-d3b9e795fc78",
   "metadata": {},
   "source": [
    "027 문자열 다루기<br>\n",
    "url 에 저장된 웹 페이지 주소에서 도메인을 출력하세요."
   ]
  },
  {
   "cell_type": "code",
   "execution_count": 30,
   "id": "c2777b27-0e96-45f2-9c05-4af40be57135",
   "metadata": {},
   "outputs": [
    {
     "name": "stdout",
     "output_type": "stream",
     "text": [
      "kr\n"
     ]
    }
   ],
   "source": [
    "url = \"http://sharebook.kr\"\n",
    "print(url[17:])"
   ]
  },
  {
   "cell_type": "markdown",
   "id": "b918b3c4-776e-4b50-967a-59b16b782abf",
   "metadata": {},
   "source": [
    "028 문자열은 immutable<br>\n",
    "아래 코드의 실행 결과를 예상해보세요."
   ]
  },
  {
   "cell_type": "code",
   "execution_count": 33,
   "id": "c713f049-0c9a-423a-bef5-7fa0be1ddc65",
   "metadata": {},
   "outputs": [
    {
     "name": "stdout",
     "output_type": "stream",
     "text": [
      "p\n"
     ]
    }
   ],
   "source": [
    "lang = 'python'\n",
    "# lang[0] = 'P'\n",
    "print(lang[0])"
   ]
  },
  {
   "cell_type": "markdown",
   "id": "12200c58-bcff-499a-b0d3-a42410279936",
   "metadata": {},
   "source": [
    "029 replace 메서드<br>\n",
    "아래 문자열에서 소문자 'a'를 대문자 'A'로 변경하세요."
   ]
  },
  {
   "cell_type": "code",
   "execution_count": 34,
   "id": "f63f00ef-b81f-4d5a-a641-3e4dda9a0407",
   "metadata": {},
   "outputs": [
    {
     "name": "stdout",
     "output_type": "stream",
     "text": [
      "Abcdfe2A354A32A\n"
     ]
    }
   ],
   "source": [
    "string = 'abcdfe2a354a32a'\n",
    "astring = string.replace('a','A')\n",
    "print(astring)"
   ]
  },
  {
   "cell_type": "markdown",
   "id": "4d296fc4-b413-44c2-ac14-5c1f4c70b818",
   "metadata": {},
   "source": [
    "## 030 replace 메서드<br>\n",
    "아래 코드의 실행 결과를 예상해보세요."
   ]
  },
  {
   "cell_type": "code",
   "execution_count": 2,
   "id": "af097a22-4d55-4f57-845c-99b1b474073d",
   "metadata": {},
   "outputs": [
    {
     "name": "stdout",
     "output_type": "stream",
     "text": [
      "abcd\n"
     ]
    }
   ],
   "source": [
    "string = 'abcd'\n",
    "string.replace('b', 'B')\n",
    "print(string)\n",
    "\n",
    "#틀림-문자열은 변경할 수 없다. 꼭 기억하기"
   ]
  },
  {
   "cell_type": "markdown",
   "id": "52014ae4-4a53-4663-8c56-086f8379e5be",
   "metadata": {},
   "source": [
    "031 문자열 합치기<br>\n",
    "아래 코드의 실행 결과를 예상해보세요."
   ]
  },
  {
   "cell_type": "code",
   "execution_count": 3,
   "id": "71233745-6aeb-4fea-90db-99a302f071cb",
   "metadata": {},
   "outputs": [
    {
     "name": "stdout",
     "output_type": "stream",
     "text": [
      "34\n"
     ]
    }
   ],
   "source": [
    "a = \"3\"\n",
    "b = \"4\"\n",
    "print(a + b)\n"
   ]
  },
  {
   "cell_type": "markdown",
   "id": "5bf31fd7-53a5-47e5-9e40-397bab85c54f",
   "metadata": {},
   "source": [
    "032 문자열 곱하기<br>\n",
    "아래 코드의 실행 결과를 예상해보세요"
   ]
  },
  {
   "cell_type": "code",
   "execution_count": 4,
   "id": "2e2279a2-6392-437a-bb04-df6c92a2ac07",
   "metadata": {},
   "outputs": [
    {
     "name": "stdout",
     "output_type": "stream",
     "text": [
      "HiHiHi\n"
     ]
    }
   ],
   "source": [
    "print(\"Hi\" * 3)"
   ]
  },
  {
   "cell_type": "markdown",
   "id": "e8f61b28-17f0-4cdc-ac50-803e5bf934fa",
   "metadata": {},
   "source": [
    "033 문자열 곱하기<br>\n",
    "화면에 '-'를 80개 출력하세요."
   ]
  },
  {
   "cell_type": "code",
   "execution_count": 5,
   "id": "b45295bb-3fd1-4c81-ab38-8cf5cf80f23b",
   "metadata": {},
   "outputs": [
    {
     "name": "stdout",
     "output_type": "stream",
     "text": [
      "--------------------------------------------------------------------------------\n"
     ]
    }
   ],
   "source": [
    "print('-'*80)"
   ]
  },
  {
   "cell_type": "markdown",
   "id": "53bd1e03-13a4-443b-839f-7e0a052413e5",
   "metadata": {},
   "source": [
    "034 문자열 곱하기<br>\n",
    "변수에 다음과 같은 문자열이 바인딩되어 있습니다."
   ]
  },
  {
   "cell_type": "code",
   "execution_count": 10,
   "id": "7555c7f8-6815-4442-85ba-a9aecba46ebd",
   "metadata": {},
   "outputs": [
    {
     "name": "stdout",
     "output_type": "stream",
     "text": [
      "python java python java python java python java \n"
     ]
    }
   ],
   "source": [
    "t1 = 'python'\n",
    "t2 = 'java'\n",
    "print(f'{t1} {t2} ' *4)"
   ]
  },
  {
   "cell_type": "markdown",
   "id": "f97f7a95-e6b0-4956-aab1-4d75a2c630ad",
   "metadata": {},
   "source": [
    "## 035 문자열 출력<br>\n",
    "변수에 다음과 같이 문자열과 정수가 바인딩되어 있을 때 % formatting을 사용해서 다음과 같이 출력해보세요.<br>\n",
    "이름: 김민수 나이: 10<br>\n",
    "이름: 이철희 나이: 13"
   ]
  },
  {
   "cell_type": "code",
   "execution_count": 12,
   "id": "099c723a-c884-48b7-a544-1200a21b0d25",
   "metadata": {},
   "outputs": [
    {
     "name": "stdout",
     "output_type": "stream",
     "text": [
      "이름: 김민수 나이: 10\n",
      "이름: 이철희 나이: 13\n"
     ]
    }
   ],
   "source": [
    "name1 = \"김민수\" \n",
    "age1 = 10\n",
    "name2 = \"이철희\"\n",
    "age2 = 13\n",
    "\n",
    "print(\"이름: %s 나이: %d\" % (name1, age1))\n",
    "print(\"이름: %s 나이: %d\" % (name2, age2))"
   ]
  },
  {
   "cell_type": "markdown",
   "id": "5259ce1e-be8b-4bcf-8669-c0333b5cb2b9",
   "metadata": {},
   "source": [
    "## 036 문자열 출력<br>\n",
    "문자열의 format( ) 메서드를 사용해서 035번 문제를 다시 풀어보세요."
   ]
  },
  {
   "cell_type": "code",
   "execution_count": 13,
   "id": "82b4fcc5-4858-4ded-801f-ed234e6147bd",
   "metadata": {},
   "outputs": [
    {
     "name": "stdout",
     "output_type": "stream",
     "text": [
      "이름: 김민수 나이: 10\n",
      "이름: 이철희 나이: 13\n"
     ]
    }
   ],
   "source": [
    "name1 = \"김민수\" \n",
    "age1 = 10\n",
    "name2 = \"이철희\"\n",
    "age2 = 13\n",
    "print(\"이름: {} 나이: {}\".format(name1, age1))\n",
    "print(\"이름: {} 나이: {}\".format(name2, age2))"
   ]
  },
  {
   "cell_type": "markdown",
   "id": "6eb664eb-6e7d-477a-b29a-e27ebc21f488",
   "metadata": {},
   "source": [
    "037 문자열 출력<br>\n",
    "파이썬 3.6부터 지원하는 f-string을 사용해서 035번 문제를 다시 풀어보세요."
   ]
  },
  {
   "cell_type": "code",
   "execution_count": 15,
   "id": "e37fc383-6d1a-469f-a0a5-9286311e7779",
   "metadata": {},
   "outputs": [
    {
     "name": "stdout",
     "output_type": "stream",
     "text": [
      "이름: 김민수 나이: 10\n",
      "이름: 이철희 나이: 13\n"
     ]
    }
   ],
   "source": [
    "name1 = \"김민수\" \n",
    "age1 = 10\n",
    "name2 = \"이철희\"\n",
    "age2 = 13\n",
    "print(f'이름: {name1} 나이: {age1}')\n",
    "print(f'이름: {name2} 나이: {age2}')"
   ]
  },
  {
   "cell_type": "markdown",
   "id": "0cd4192c-3279-49a9-8723-36e1314009fc",
   "metadata": {},
   "source": [
    "038 컴마 제거하기<br>\n",
    "삼성전자의 상장주식수가 다음과 같습니다. 컴마를 제거한 후 이를 정수 타입으로 변환해보세요."
   ]
  },
  {
   "cell_type": "code",
   "execution_count": 17,
   "id": "544b3685-d6e0-4438-b4dd-3307546dc91a",
   "metadata": {},
   "outputs": [
    {
     "name": "stdout",
     "output_type": "stream",
     "text": [
      "5969782550 <class 'int'>\n"
     ]
    }
   ],
   "source": [
    "상장주식수 = \"5,969,782,550\"\n",
    "sj = 상장주식수.replace(',','')\n",
    "print(int(sj), type(int(sj)))"
   ]
  },
  {
   "cell_type": "markdown",
   "id": "5f4dd919-7f39-4df2-83ff-76c81b2a8d56",
   "metadata": {},
   "source": [
    "039 문자열 슬라이싱<br>\n",
    "다음과 같은 문자열에서 '2020/03'만 출력하세요"
   ]
  },
  {
   "cell_type": "code",
   "execution_count": 18,
   "id": "7b05cdd4-b38d-45bb-9bd6-ef1966f90898",
   "metadata": {},
   "outputs": [
    {
     "name": "stdout",
     "output_type": "stream",
     "text": [
      "2020/03\n"
     ]
    }
   ],
   "source": [
    "분기 = \"2020/03(E) (IFRS연결)\"\n",
    "print(분기[0:7])"
   ]
  },
  {
   "cell_type": "markdown",
   "id": "d80416ab-058b-47c3-8bdd-40ac3f5c5bfc",
   "metadata": {},
   "source": [
    "040 strip 메서드<br>\n",
    "문자열의 좌우의 공백이 있을 때 이를 제거해보세요."
   ]
  },
  {
   "cell_type": "code",
   "execution_count": 22,
   "id": "21673634-01a3-428b-b96b-b2b836cd80cc",
   "metadata": {},
   "outputs": [
    {
     "name": "stdout",
     "output_type": "stream",
     "text": [
      "삼성전자\n",
      "삼성전자\n"
     ]
    }
   ],
   "source": [
    "data = \"   삼성전자    \"\n",
    "print(data.lstrip().rstrip())\n",
    "print(data.strip())"
   ]
  },
  {
   "cell_type": "markdown",
   "id": "89d09444-b257-4d59-b318-f1b45ae97d20",
   "metadata": {},
   "source": [
    "041 upper 메서드<br>\n",
    "다음과 같은 문자열이 있을 때 이를 대문자 BTC_KRW로 변경하세요."
   ]
  },
  {
   "cell_type": "code",
   "execution_count": 23,
   "id": "6afd5373-04d8-49c8-b293-443b1eeab406",
   "metadata": {},
   "outputs": [
    {
     "name": "stdout",
     "output_type": "stream",
     "text": [
      "BTC_KRW\n"
     ]
    }
   ],
   "source": [
    "ticker = \"btc_krw\"\n",
    "print(ticker.upper())"
   ]
  },
  {
   "cell_type": "markdown",
   "id": "aba21694-193a-4881-84a6-8ff68b415fce",
   "metadata": {},
   "source": [
    "042 lower 메서드<br>\n",
    "다음과 같은 문자열이 있을 때 이를 소문자 btc_krw로 변경하세요."
   ]
  },
  {
   "cell_type": "code",
   "execution_count": 24,
   "id": "d1fb2458-36ad-46df-9bfe-faeff4d22692",
   "metadata": {},
   "outputs": [
    {
     "name": "stdout",
     "output_type": "stream",
     "text": [
      "btc_krw\n"
     ]
    }
   ],
   "source": [
    "ticker = \"BTC_KRW\"\n",
    "print(ticker.lower())"
   ]
  },
  {
   "cell_type": "markdown",
   "id": "805ce881-d862-464a-94dc-3c06e9356b43",
   "metadata": {},
   "source": [
    "### 043 capitalize 메서드<br>\n",
    "문자열 'hello'가 있을 때 이를 'Hello'로 변경해보세요."
   ]
  },
  {
   "cell_type": "code",
   "execution_count": 26,
   "id": "b1d4ce7f-b856-4238-9c0f-a3e57de7d723",
   "metadata": {},
   "outputs": [
    {
     "name": "stdout",
     "output_type": "stream",
     "text": [
      "Hello\n"
     ]
    }
   ],
   "source": [
    "a = 'hello'\n",
    "print(a.capitalize())"
   ]
  },
  {
   "cell_type": "markdown",
   "id": "323e1ce2-e147-47e1-b96d-a5ed7c71a191",
   "metadata": {},
   "source": [
    "## 044 endswith 메서드<br>\n",
    "파일 이름이 문자열로 저장되어 있을 때 endswith 메서드를 사용해서 파일 이름이 'xlsx'로 끝나는지 확인해보세요."
   ]
  },
  {
   "cell_type": "code",
   "execution_count": 30,
   "id": "776adaa7-729e-4280-a4d4-bb8fe15bb61f",
   "metadata": {},
   "outputs": [
    {
     "name": "stdout",
     "output_type": "stream",
     "text": [
      "True\n"
     ]
    }
   ],
   "source": [
    "file_name = \"보고서.xlsx\"\n",
    "a = file_name.endswith('xlsx')\n",
    "print(a)"
   ]
  },
  {
   "cell_type": "markdown",
   "id": "5aee68cc-352b-4c75-a173-a568565126b2",
   "metadata": {},
   "source": [
    "045 endswith 메서드<br>\n",
    "파일 이름이 문자열로 저장되어 있을 때 endswith 메서드를 사용해서 파일 이름이 'xlsx' 또는 'xls'로 끝나는지 확인해보세요."
   ]
  },
  {
   "cell_type": "code",
   "execution_count": 33,
   "id": "586a767b-8007-4f7b-83c6-2d5ac02dea91",
   "metadata": {},
   "outputs": [
    {
     "name": "stdout",
     "output_type": "stream",
     "text": [
      "True\n"
     ]
    }
   ],
   "source": [
    "file_name = \"보고서.xlsx\"\n",
    "if file_name.endswith('xlsx'):\n",
    "    print(True)\n",
    "elif file_name.endswith('xls'):\n",
    "    print(False)"
   ]
  },
  {
   "cell_type": "markdown",
   "id": "933d4091-aa0c-4846-b059-035ed83bc783",
   "metadata": {},
   "source": [
    "## 046 startswith 메서드<br>\n",
    "파일 이름이 문자열로 저장되어 있을 때 startswith 메서드를 사용해서 파일 이름이 '2020'로 시작하는지 확인해보세요."
   ]
  },
  {
   "cell_type": "code",
   "execution_count": 35,
   "id": "ce882c6b-b2fc-40f5-a299-574bf5cee8c4",
   "metadata": {},
   "outputs": [
    {
     "name": "stdout",
     "output_type": "stream",
     "text": [
      "True\n"
     ]
    }
   ],
   "source": [
    "file_name = \"2020_보고서.xlsx\"\n",
    "a = file_name.startswith('2020')\n",
    "print(a)"
   ]
  },
  {
   "cell_type": "markdown",
   "id": "214c2f74-d044-43f6-88f6-3d3546ada2a6",
   "metadata": {},
   "source": [
    "047 split 메서드<br>\n",
    "다음과 같은 문자열이 있을 때 공백을 기준으로 문자열을 나눠보세요."
   ]
  },
  {
   "cell_type": "code",
   "execution_count": 36,
   "id": "50489f01-5da8-44e2-96a5-23699a0e8611",
   "metadata": {},
   "outputs": [
    {
     "name": "stdout",
     "output_type": "stream",
     "text": [
      "hello world\n"
     ]
    }
   ],
   "source": [
    "a = \"hello world\"\n",
    "a.split()\n",
    "print(a)"
   ]
  },
  {
   "cell_type": "markdown",
   "id": "1c339384-047f-41e0-ada4-a1f4a4f800c9",
   "metadata": {},
   "source": [
    "048 split 메서드<br>\n",
    "다음과 같이 문자열이 있을 때 btc와 krw로 나눠보세요."
   ]
  },
  {
   "cell_type": "code",
   "execution_count": 37,
   "id": "7a6260f8-ecc4-498b-a3db-f4919fa7e81c",
   "metadata": {},
   "outputs": [
    {
     "name": "stdout",
     "output_type": "stream",
     "text": [
      "btc_krw\n"
     ]
    }
   ],
   "source": [
    "ticker = \"btc_krw\"\n",
    "ticker.split('_')\n",
    "print(ticker)"
   ]
  },
  {
   "cell_type": "markdown",
   "id": "6dd03797-e3e9-4ba9-96fe-f94302b86648",
   "metadata": {},
   "source": [
    "049 split 메서드<br>\n",
    "다음과 같이 날짜를 표현하는 문자열이 있을 때 연도, 월, 일로 나눠보세요"
   ]
  },
  {
   "cell_type": "code",
   "execution_count": 47,
   "id": "13b485aa-a1c0-476d-9ba1-cfde15fba707",
   "metadata": {},
   "outputs": [
    {
     "name": "stdout",
     "output_type": "stream",
     "text": [
      "2020-05-01\n",
      "2020 05 01\n"
     ]
    }
   ],
   "source": [
    "date = \"2020-05-01\"\n",
    "date.split('-')\n",
    "print(date)\n",
    "y = date[:4]\n",
    "m = date[5:7]\n",
    "d = date[8:]\n",
    "print(y,m,d)"
   ]
  },
  {
   "cell_type": "markdown",
   "id": "367d55da-e908-4997-aea8-c925904b8845",
   "metadata": {},
   "source": [
    "050 rstrip 메서드<br>\n",
    "문자열의 오른쪽에 공백이 있을 때 이를 제거해보세요."
   ]
  },
  {
   "cell_type": "code",
   "execution_count": 48,
   "id": "fae2c6ca-20cb-4bb5-b17f-d5ad5fc9946f",
   "metadata": {},
   "outputs": [
    {
     "name": "stdout",
     "output_type": "stream",
     "text": [
      "039490\n"
     ]
    }
   ],
   "source": [
    "data = \"039490     \"\n",
    "print(data.rstrip())"
   ]
  },
  {
   "cell_type": "markdown",
   "id": "c62ed538-9dbe-4697-b2e8-fe94917e172e",
   "metadata": {},
   "source": [
    "051 리스트 생성<br>\n",
    "2016년 11월 영화 예매 순위 기준 top3는 다음과 같습니다. 영화 제목을 movie_rank 이름의 리스트에 저장해보세요. (순위 정보는 저장하지 않습니다.)"
   ]
  },
  {
   "cell_type": "markdown",
   "id": "a4d28fd9-81f4-4eea-a0b5-c846705d8e0b",
   "metadata": {},
   "source": [
    "<table>\n",
    "<thead>\n",
    "<tr>\n",
    "<th>순위</th>\n",
    "<th>영화</th>\n",
    "</tr>\n",
    "</thead>\n",
    "<tbody>\n",
    "<tr>\n",
    "<td>1</td>\n",
    "<td>닥터 스트레인지</td>\n",
    "</tr>\n",
    "<tr>\n",
    "<td>2</td>\n",
    "<td>스플릿</td>\n",
    "</tr>\n",
    "<tr>\n",
    "<td>3</td>\n",
    "<td>럭키</td>\n",
    "</tr>\n",
    "</tbody>\n",
    "</table>"
   ]
  },
  {
   "cell_type": "code",
   "execution_count": 49,
   "id": "a20c727c-7be3-44a8-ab59-0b6478990299",
   "metadata": {},
   "outputs": [
    {
     "name": "stdout",
     "output_type": "stream",
     "text": [
      "['닥터 스트레인지', '스플릿', '럭키'] <class 'list'>\n"
     ]
    }
   ],
   "source": [
    "movie_rank = ['닥터 스트레인지','스플릿','럭키']\n",
    "print(movie_rank, type(movie_rank))"
   ]
  },
  {
   "cell_type": "markdown",
   "id": "4da10b48-2d60-42c9-a2dc-6b0dd5172990",
   "metadata": {},
   "source": [
    "052 리스트에 원소 추가<br>\n",
    "051의 movie_rank 리스트에 \"배트맨\"을 추가하라."
   ]
  },
  {
   "cell_type": "code",
   "execution_count": 50,
   "id": "ba5a439f-fac9-4fb1-8875-a674f5525838",
   "metadata": {},
   "outputs": [
    {
     "name": "stdout",
     "output_type": "stream",
     "text": [
      "['닥터 스트레인지', '스플릿', '럭키', '배트맨'] <class 'list'>\n"
     ]
    }
   ],
   "source": [
    "movie_rank = ['닥터 스트레인지','스플릿','럭키']\n",
    "movie_rank.append('배트맨')\n",
    "print(movie_rank, type(movie_rank))"
   ]
  },
  {
   "cell_type": "markdown",
   "id": "c3000c38-61ce-4e7d-b33a-f3b79c6b1200",
   "metadata": {},
   "source": [
    "## 053<br>\n",
    "movie_rank 리스트에는 아래와 같이 네 개의 영화 제목이 바인딩되어 있다. \"슈퍼맨\"을 \"닥터 스트레인지\"와 \"스플릿\" 사이에 추가하라"
   ]
  },
  {
   "cell_type": "code",
   "execution_count": 54,
   "id": "1cd02d61-3da4-4ea4-b003-9f89186eb5c5",
   "metadata": {},
   "outputs": [
    {
     "name": "stdout",
     "output_type": "stream",
     "text": [
      "['닥터 스트레인지', '슈퍼맨', '스플릿', '럭키', '배트맨']\n"
     ]
    }
   ],
   "source": [
    "movie_rank = ['닥터 스트레인지', '스플릿', '럭키', '배트맨']\n",
    "movie_rank.insert(1,'슈퍼맨')\n",
    "print(movie_rank)"
   ]
  },
  {
   "cell_type": "markdown",
   "id": "d14e3334-86ce-4ebe-9dc6-81705df455f9",
   "metadata": {},
   "source": [
    "## 054<br>\n",
    "movie_rank 리스트에서 '럭키'를 삭제하라."
   ]
  },
  {
   "cell_type": "code",
   "execution_count": 57,
   "id": "a446ca74-300f-48a7-b776-8942598636f1",
   "metadata": {},
   "outputs": [
    {
     "name": "stdout",
     "output_type": "stream",
     "text": [
      "['닥터 스트레인지', '슈퍼맨', '스플릿', '배트맨']\n"
     ]
    }
   ],
   "source": [
    "movie_rank = ['닥터 스트레인지', '슈퍼맨', '스플릿', '럭키', '배트맨']\n",
    "del movie_rank[3]\n",
    "print(movie_rank)"
   ]
  },
  {
   "cell_type": "markdown",
   "id": "f80b4f5e-24ce-46ab-b03d-3bdb6723ae8f",
   "metadata": {},
   "source": [
    "055<br>\n",
    "movie_rank 리스트에서 '스플릿' 과 '배트맨'을 를 삭제하라."
   ]
  },
  {
   "cell_type": "code",
   "execution_count": 59,
   "id": "0455e33e-1ac5-4eee-98ad-ce09a2c12deb",
   "metadata": {},
   "outputs": [
    {
     "name": "stdout",
     "output_type": "stream",
     "text": [
      "['닥터 스트레인지', '슈퍼맨']\n"
     ]
    }
   ],
   "source": [
    "movie_rank = ['닥터 스트레인지', '슈퍼맨', '스플릿', '배트맨']\n",
    "del movie_rank[2:]\n",
    "print(movie_rank)"
   ]
  },
  {
   "cell_type": "markdown",
   "id": "14b268b6-43fe-4a96-84e6-81f53d04e3bd",
   "metadata": {},
   "source": [
    "056<br>\n",
    "lang1과 lang2 리스트가 있을 때 lang1과 lang2의 원소를 모두 갖고 있는 langs 리스트를 만들어라."
   ]
  },
  {
   "cell_type": "code",
   "execution_count": 60,
   "id": "6f4b3427-372b-4aaf-80cd-c49c4c407a63",
   "metadata": {},
   "outputs": [
    {
     "name": "stdout",
     "output_type": "stream",
     "text": [
      "['C', 'C++', 'JAVA', 'Python', 'Go', 'C#']\n"
     ]
    }
   ],
   "source": [
    "lang1 = [\"C\", \"C++\", \"JAVA\"]\n",
    "lang2 = [\"Python\", \"Go\", \"C#\"]\n",
    "langs = lang1 + lang2\n",
    "print(langs)"
   ]
  },
  {
   "cell_type": "markdown",
   "id": "de037457-9f9e-4494-a214-ceee768871fc",
   "metadata": {},
   "source": [
    "## 057<br>\n",
    "다음 리스트에서 최댓값과 최솟값을 출력하라. (힌트: min(), max() 함수 사용)"
   ]
  },
  {
   "cell_type": "code",
   "execution_count": 66,
   "id": "2c35bccf-897c-4698-8064-1561d2395e71",
   "metadata": {},
   "outputs": [
    {
     "name": "stdout",
     "output_type": "stream",
     "text": [
      "최솟값:  1\n",
      "최댓값:  7\n"
     ]
    }
   ],
   "source": [
    "nums = [1, 2, 3, 4, 5, 6, 7]\n",
    "\n",
    "print('최솟값: ' , min(nums))\n",
    "print('최댓값: ' , max(nums))"
   ]
  },
  {
   "cell_type": "markdown",
   "id": "cfea1067-b4fa-492d-8a73-8931a62e1c01",
   "metadata": {},
   "source": [
    "## 058\n",
    "다음 리스트의 합을 출력하라."
   ]
  },
  {
   "cell_type": "code",
   "execution_count": 5,
   "id": "6933d7f4-6dbd-47db-b526-7faff4933c0f",
   "metadata": {},
   "outputs": [
    {
     "name": "stdout",
     "output_type": "stream",
     "text": [
      "15\n"
     ]
    }
   ],
   "source": [
    "nums = [1, 2, 3, 4, 5]\n",
    "\n",
    "print(sum(nums))"
   ]
  },
  {
   "cell_type": "markdown",
   "id": "85ae6d7f-6474-4713-957b-a1ddf069da00",
   "metadata": {},
   "source": [
    "## 059\n",
    "다음 리스트에 저장된 데이터의 개수를 화면에 구하하라."
   ]
  },
  {
   "cell_type": "code",
   "execution_count": 9,
   "id": "cd10cb87-dc7f-43af-aa60-a226707c9165",
   "metadata": {},
   "outputs": [
    {
     "name": "stdout",
     "output_type": "stream",
     "text": [
      "12\n"
     ]
    }
   ],
   "source": [
    "cook = [\"피자\", \"김밥\", \"만두\", \"양념치킨\", \"족발\", \"피자\", \"김치만두\", \"쫄면\", \"소시지\", \"라면\", \"팥빙수\", \"김치전\"]\n",
    "print(len(cook))"
   ]
  },
  {
   "cell_type": "markdown",
   "id": "207d6ecb-74d6-4804-a71c-4e564ea14f79",
   "metadata": {},
   "source": [
    "060\n",
    "다음 리스트의 평균을 출력하라."
   ]
  },
  {
   "cell_type": "code",
   "execution_count": 10,
   "id": "f91e5788-5452-4567-b3fb-de92c12639d4",
   "metadata": {},
   "outputs": [
    {
     "name": "stdout",
     "output_type": "stream",
     "text": [
      "3.0\n"
     ]
    }
   ],
   "source": [
    "nums = [1, 2, 3, 4, 5]\n",
    "a = sum(nums)\n",
    "b = a / 5\n",
    "print(b)"
   ]
  },
  {
   "cell_type": "markdown",
   "id": "8d9b357b-7b5b-441b-b7c2-eb94c09f16d7",
   "metadata": {},
   "source": [
    "061\n",
    "price 변수에는 날짜와 종가 정보가 저장돼 있다. 날짜 정보를 제외하고 가격 정보만을 출력하라. (힌트 : 슬라이싱)"
   ]
  },
  {
   "cell_type": "code",
   "execution_count": 12,
   "id": "fd2388f1-0548-48a3-a3d3-d51fc17bfdf3",
   "metadata": {},
   "outputs": [
    {
     "name": "stdout",
     "output_type": "stream",
     "text": [
      "[100, 130, 140, 150, 160, 170]\n"
     ]
    }
   ],
   "source": [
    "price = ['20180728', 100, 130, 140, 150, 160, 170]\n",
    "print(price[1:])"
   ]
  },
  {
   "cell_type": "markdown",
   "id": "f5c1e675-7aa8-4bd4-8e6a-0b24ce47d4e9",
   "metadata": {},
   "source": [
    "062\n",
    "슬라이싱을 사용해서 홀수만 출력하라."
   ]
  },
  {
   "cell_type": "code",
   "execution_count": 13,
   "id": "fdfd5871-844b-49bf-8935-a097e5244efd",
   "metadata": {},
   "outputs": [
    {
     "name": "stdout",
     "output_type": "stream",
     "text": [
      "[1, 3, 5, 7, 9]\n"
     ]
    }
   ],
   "source": [
    "nums = [1, 2, 3, 4, 5, 6, 7, 8, 9, 10]\n",
    "print(nums[0::2])"
   ]
  },
  {
   "cell_type": "markdown",
   "id": "ef3fd591-4e70-4533-b1c5-ca75f7261886",
   "metadata": {},
   "source": [
    "063\n",
    "슬라이싱을 사용해서 짝수만 출력하라."
   ]
  },
  {
   "cell_type": "code",
   "execution_count": 14,
   "id": "6ed4389c-5fb8-4be9-b860-6184a7657698",
   "metadata": {},
   "outputs": [
    {
     "name": "stdout",
     "output_type": "stream",
     "text": [
      "[2, 4, 6, 8, 10]\n"
     ]
    }
   ],
   "source": [
    "nums = [1, 2, 3, 4, 5, 6, 7, 8, 9, 10]\n",
    "print(nums[1::2])"
   ]
  },
  {
   "cell_type": "markdown",
   "id": "e90cc95d-bece-479d-bb83-00be7a36b564",
   "metadata": {},
   "source": [
    "064\n",
    "슬라이싱을 사용해서 리스트의 숫자를 역 방향으로 출력하라."
   ]
  },
  {
   "cell_type": "code",
   "execution_count": 18,
   "id": "7ec5205e-589d-43f7-a7fb-384b59653f5c",
   "metadata": {},
   "outputs": [
    {
     "name": "stdout",
     "output_type": "stream",
     "text": [
      "[5, 4, 3, 2, 1]\n"
     ]
    }
   ],
   "source": [
    "nums = [1, 2, 3, 4, 5]\n",
    "print(nums[::-1])"
   ]
  },
  {
   "cell_type": "markdown",
   "id": "a16779ca-d900-4c72-bc95-d131a04f0326",
   "metadata": {},
   "source": [
    "## 065\n",
    "interest 리스트에는 아래의 데이터가 바인딩되어 있다<br>\n",
    "interest = ['삼성전자', 'LG전자', 'Naver']<br>\n",
    "interest 리스트를 사용하여 아래와 같이 화면에 출력하라.<br>\n",
    "출력 예시:<br>\n",
    "삼성전자 Naver\n"
   ]
  },
  {
   "cell_type": "code",
   "execution_count": 23,
   "id": "bbdc5363-5b83-4c3b-828d-bf7d094cc232",
   "metadata": {},
   "outputs": [
    {
     "name": "stdout",
     "output_type": "stream",
     "text": [
      "['삼성전자', 'Naver']\n",
      "삼성전자 Naver\n"
     ]
    }
   ],
   "source": [
    "interest = ['삼성전자', 'LG전자', 'Naver']\n",
    "print(interest[::2])\n",
    "print(interest[0], interest[2])"
   ]
  },
  {
   "cell_type": "markdown",
   "id": "25021576-d2b0-45d7-938c-157fb08de8a3",
   "metadata": {},
   "source": [
    "## 066 join 메서드<br>\n",
    "interest 리스트에는 아래의 데이터가 바인딩되어 있다.<br>\n",
    "interest = ['삼성전자', 'LG전자', 'Naver', 'SK하이닉스', '미래에셋대우']<br>\n",
    "interest 리스트를 사용하여 아래와 같이 화면에 출력하라.<br>\n",
    "출력 예시:<br>\n",
    "삼성전자 LG전자 Naver SK하이닉스 미래에셋대우"
   ]
  },
  {
   "cell_type": "code",
   "execution_count": 28,
   "id": "f11896b9-57e2-4111-81b6-67a4783ed077",
   "metadata": {},
   "outputs": [
    {
     "name": "stdout",
     "output_type": "stream",
     "text": [
      "삼성전자 LG전자 Naver SK하이닉스 미래에셋대우 \n",
      "\n",
      "삼성전자 LG전자 Naver SK하이닉스 미래에셋대우\n"
     ]
    }
   ],
   "source": [
    "interest = ['삼성전자', 'LG전자', 'Naver', 'SK하이닉스', '미래에셋대우']\n",
    "\n",
    "for x in interest:\n",
    "    print(x, end=' ')\n",
    "print('\\n')\n",
    "print(\" \".join(interest))"
   ]
  },
  {
   "cell_type": "markdown",
   "id": "4eba4ad3-46ec-4340-b600-409e2e786986",
   "metadata": {},
   "source": [
    "067 join 메서드<br>\n",
    "interest 리스트에는 아래의 데이터가 바인딩되어 있다.<br>\n",
    "interest = ['삼성전자', 'LG전자', 'Naver', 'SK하이닉스', '미래에셋대우']<br>\n",
    "interest 리스트를 사용하여 아래와 같이 화면에 출력하라.<br>\n",
    "출력 예시:<br>\n",
    "삼성전자/LG전자/Naver/SK하이닉스/미래에셋대우\n"
   ]
  },
  {
   "cell_type": "code",
   "execution_count": 29,
   "id": "092e1aef-6fe1-4054-b0b1-dbeb8be1d24a",
   "metadata": {},
   "outputs": [
    {
     "name": "stdout",
     "output_type": "stream",
     "text": [
      "삼성전자/LG전자/Naver/SK하이닉스/미래에셋대우\n"
     ]
    }
   ],
   "source": [
    "interest = ['삼성전자', 'LG전자', 'Naver', 'SK하이닉스', '미래에셋대우']\n",
    "print('/'.join(interest))"
   ]
  },
  {
   "cell_type": "markdown",
   "id": "3bdd2b4f-4b3c-4f39-a1f3-3822a111e5fb",
   "metadata": {},
   "source": [
    "068 join 메서드<br>\n",
    "interest 리스트에는 아래의 데이터가 바인딩되어 있다.<br>\n",
    "interest = ['삼성전자', 'LG전자', 'Naver', 'SK하이닉스', '미래에셋대우']<br>\n",
    "interest 리스트를 사용하여 아래와 같이 화면에 출력하라.<br>\n",
    "출력 예시:<br>\n",
    "삼성전자<br>\n",
    "LG전자<br>\n",
    "Naver<br>\n",
    "SK하이닉스<br>\n",
    "미래에셋대우\n"
   ]
  },
  {
   "cell_type": "code",
   "execution_count": 31,
   "id": "1d0d9577-1bc3-4460-8a98-0384a5be7a9a",
   "metadata": {},
   "outputs": [
    {
     "name": "stdout",
     "output_type": "stream",
     "text": [
      "삼성전자\n",
      "LG전자\n",
      "Naver\n",
      "SK하이닉스\n",
      "미래에셋대우\n"
     ]
    }
   ],
   "source": [
    "interest = ['삼성전자', 'LG전자', 'Naver', 'SK하이닉스', '미래에셋대우']\n",
    "print('\\n'.join(interest))"
   ]
  },
  {
   "cell_type": "markdown",
   "id": "f853b379-4032-418f-88c3-66334690aaae",
   "metadata": {},
   "source": [
    "069 문자열 split 메서드<br>\n",
    "회사 이름이 슬래시 ('/')로 구분되어 하나의 문자열로 저장되어 있다.<br>\n",
    "\n",
    "string = \"삼성전자/LG전자/Naver\"<br>\n",
    "이를 interest 이름의 리스트로 분리 저장하라.<br>\n",
    "\n",
    "실행 예시<br>\n",
    "print(interest)<br>\n",
    "['삼성전자', 'LG전자', 'Naver']"
   ]
  },
  {
   "cell_type": "code",
   "execution_count": 36,
   "id": "d7189aaf-f587-41e3-828d-3f1eedc612f7",
   "metadata": {
    "scrolled": true
   },
   "outputs": [
    {
     "name": "stdout",
     "output_type": "stream",
     "text": [
      "['삼성전자', 'LG전자', 'Naver'] <class 'list'>\n"
     ]
    }
   ],
   "source": [
    "string = \"삼성전자/LG전자/Naver\"\n",
    "string1 = string.split('/')\n",
    "print(string1, type(string1))\n",
    "# split() 메서드가 반환하는 값이 리스트라서 print찍을 때 따로 리스트로 변환해주지 않아도 된다"
   ]
  },
  {
   "cell_type": "markdown",
   "id": "19ce3ba7-2614-4bc5-8d7d-028cbcb1ce91",
   "metadata": {},
   "source": [
    "070 리스트 정렬\n",
    "리스트에 있는 값을 오름차순으로 정렬하세요.\n"
   ]
  },
  {
   "cell_type": "code",
   "execution_count": 44,
   "id": "c0aba98c-e552-44b7-9b41-0681bafd6a58",
   "metadata": {},
   "outputs": [
    {
     "name": "stdout",
     "output_type": "stream",
     "text": [
      "[1, 2, 3, 4, 5, 9, 10]\n",
      "----------\n",
      "[2, 4, 3, 1, 5, 10, 9]\n",
      "[1, 2, 3, 4, 5, 9, 10]\n"
     ]
    }
   ],
   "source": [
    "data = [2, 4, 3, 1, 5, 10, 9]\n",
    "data.sort()\n",
    "print(data)\n",
    "\n",
    "print('-'*10)\n",
    "data1 = [2, 4, 3, 1, 5, 10, 9]\n",
    "data2 = sorted(data1)\n",
    "print(data1)\n",
    "print(data2)\n",
    "\n",
    "# sort()\n",
    "# 리스트의 메서드로, 리스트 자체를 정렬\n",
    "# 원본 리스트를 직접 변경, 반환값이 None\n",
    "# sorted()\n",
    "# 내장 함수로, 리스트뿐만 아니라 튜플, 문자열, 딕셔너리 같은 반복 가능한 객체(iterable)도 정렬가능\n",
    "# 원본 데이터는 그대로 유지되며, 정렬된 새로운 리스트를 반환."
   ]
  },
  {
   "attachments": {
    "42fe811e-f8ef-4b17-b24b-564fdc6e3d93.png": {
     "image/png": "[encoded data removed]"
    }
   },
   "cell_type": "markdown",
   "id": "0f0756f6-7cd5-4851-9889-c3a9d4528aa9",
   "metadata": {},
   "source": [
    "<img src=\"attachment:42fe811e-f8ef-4b17-b24b-564fdc6e3d93.png\" width=\"500\">"
   ]
  },
  {
   "cell_type": "markdown",
   "id": "298b0485-5234-4b3b-98a4-73aa290c8a1a",
   "metadata": {},
   "source": [
    "071\n",
    "my_variable 이름의 비어있는 튜플을 만들라."
   ]
  },
  {
   "cell_type": "code",
   "execution_count": 46,
   "id": "05647fbd-2fb6-41e4-a439-7cd37643f87d",
   "metadata": {},
   "outputs": [
    {
     "name": "stdout",
     "output_type": "stream",
     "text": [
      "() <class 'tuple'>\n"
     ]
    }
   ],
   "source": [
    "my_variable = ()\n",
    "print( my_variable, type( my_variable))"
   ]
  },
  {
   "cell_type": "markdown",
   "id": "7e1741d3-ab01-4be4-86a2-251a5fdd36eb",
   "metadata": {},
   "source": [
    "072\n",
    "2016년 11월 영화 예매 순위 기준 top3는 다음과 같다. 영화 제목을 movie_rank 이름의 튜플에 저장하라. (순위 정보는 저장하지 않는다.)\n",
    "<table>\n",
    "<thead>\n",
    "<tr>\n",
    "<th>순위</th>\n",
    "<th>영화</th>\n",
    "</tr>\n",
    "</thead>\n",
    "<tbody>\n",
    "<tr>\n",
    "<td>1</td>\n",
    "<td>닥터 스트레인지</td>\n",
    "</tr>\n",
    "<tr>\n",
    "<td>2</td>\n",
    "<td>스플릿</td>\n",
    "</tr>\n",
    "<tr>\n",
    "<td>3</td>\n",
    "<td>럭키</td>\n",
    "</tr>\n",
    "</tbody>\n",
    "</table>"
   ]
  },
  {
   "cell_type": "code",
   "execution_count": 49,
   "id": "c848268a-4d2f-421e-842b-b8904877a699",
   "metadata": {},
   "outputs": [
    {
     "name": "stdout",
     "output_type": "stream",
     "text": [
      "('닥터 스트레인지', '스플릿', '럭키')\n"
     ]
    }
   ],
   "source": [
    "movie_rank = ('닥터 스트레인지','스플릿','럭키')\n",
    "print(movie_rank)"
   ]
  },
  {
   "cell_type": "markdown",
   "id": "76465264-1559-44bf-a7cc-f6297b1851ff",
   "metadata": {},
   "source": [
    "073\n",
    "숫자 1 이 저장된 튜플을 생성하라."
   ]
  },
  {
   "cell_type": "code",
   "execution_count": 54,
   "id": "2c22b652-2bca-4f93-84ac-550843e2aa01",
   "metadata": {},
   "outputs": [
    {
     "name": "stdout",
     "output_type": "stream",
     "text": [
      "(1,) <class 'tuple'>\n"
     ]
    }
   ],
   "source": [
    "num = (1,)\n",
    "print(num, type(num))"
   ]
  },
  {
   "cell_type": "markdown",
   "id": "60a8672e-621a-4c5d-ad16-4cb4b06f61a4",
   "metadata": {},
   "source": [
    "074\n",
    "다음 코드를 실행해보고 오류가 발생하는 원인을 설명하라.\n",
    "\n",
    "t = (1, 2, 3)\n",
    "t[0] = 'a'\n",
    "Traceback (most recent call last):\n",
    "  File \"<pyshell#46>\", line 1, in <module>\n",
    "    t[0] = 'a'\n",
    "TypeError: 'tuple' object does not support item assignment\n",
    "\n",
    "튜플은 값이 변하지 않음"
   ]
  },
  {
   "cell_type": "markdown",
   "id": "51967091-1894-4def-a4b8-8170d2c97287",
   "metadata": {},
   "source": [
    "075\n",
    "아래와 같이 t에는 1, 2, 3, 4 데이터가 바인딩되어 있다. t가 바인딩하는 데이터 타입은 무엇인가?\n",
    "\n",
    "t = 1, 2, 3, 4<br>\n",
    "정답: 튜플, 튜플은 소괄호를 하지 않아도 튶플로 본다 "
   ]
  },
  {
   "cell_type": "code",
   "execution_count": 55,
   "id": "f01ccfd2-4824-47b8-bc35-0ed04e3a44e6",
   "metadata": {},
   "outputs": [
    {
     "name": "stdout",
     "output_type": "stream",
     "text": [
      "<class 'tuple'>\n"
     ]
    }
   ],
   "source": [
    "t = 1, 2, 3, 4\n",
    "print(type(t))"
   ]
  },
  {
   "cell_type": "markdown",
   "id": "e43cac0a-5744-494b-9609-80f9018b53ff",
   "metadata": {},
   "source": [
    "076\n",
    "변수 t에는 아래와 같은 값이 저장되어 있다. 변수 t가 ('A', 'b', 'c') 튜플을 가리키도록 수정 하라."
   ]
  },
  {
   "cell_type": "code",
   "execution_count": 60,
   "id": "04e4bbd5-9c1b-42a2-b72d-5d453bc39964",
   "metadata": {},
   "outputs": [
    {
     "name": "stdout",
     "output_type": "stream",
     "text": [
      "('A', 'b', 'c')\n"
     ]
    }
   ],
   "source": [
    "t = ('a', 'b', 'c')\n",
    "t1 = ('A', 'b', 'c')\n",
    "print(t1)"
   ]
  },
  {
   "cell_type": "markdown",
   "id": "06f91c3c-7bd0-4284-b4b9-0ec81a866890",
   "metadata": {},
   "source": [
    "077\n",
    "다음 튜플을 리스트로 변환하라"
   ]
  },
  {
   "cell_type": "code",
   "execution_count": 61,
   "id": "3ee258ea-71bc-4e14-b3b9-0a5ee88f86a8",
   "metadata": {},
   "outputs": [
    {
     "name": "stdout",
     "output_type": "stream",
     "text": [
      "['삼성전자', 'LG전자', 'SK Hynix']\n"
     ]
    }
   ],
   "source": [
    "interest = ('삼성전자', 'LG전자', 'SK Hynix')\n",
    "print(list(interest))"
   ]
  },
  {
   "cell_type": "markdown",
   "id": "3c92d8e0-5f6c-4cde-ab51-4e5228646f54",
   "metadata": {},
   "source": [
    "078\n",
    "다음 리스트를 튜플로 변경하라."
   ]
  },
  {
   "cell_type": "code",
   "execution_count": 63,
   "id": "842f8b1d-9ae2-4188-84f8-d7498a0a364d",
   "metadata": {},
   "outputs": [
    {
     "name": "stdout",
     "output_type": "stream",
     "text": [
      "('삼성전자', 'LG전자', 'SK Hynix')\n"
     ]
    }
   ],
   "source": [
    "interest = ['삼성전자', 'LG전자', 'SK Hynix']\n",
    "print(tuple(interest))"
   ]
  },
  {
   "cell_type": "markdown",
   "id": "6459fb82-2426-4a06-9c40-1a5a16b63ba5",
   "metadata": {},
   "source": [
    "## 079 튜플 언팩킹\n",
    "다음 코드의 실행 결과를 예상하라.<br>\n",
    "\n",
    "🔹 정리\n",
    "튜플 언패킹은 튜플의 값을 여러 변수에 한 번에 할당하는 방법<br>\n",
    "개수가 정확히 맞아야 하지만, *를 활용하면 일부 값만 받을 수도 있음<br>\n",
    "변수 교환, 함수 반환값 받기 등 다양한 곳에서 활용 가능"
   ]
  },
  {
   "cell_type": "code",
   "execution_count": 64,
   "id": "91e573ee-c7ae-43a5-8ea5-b9dfa6e0fe58",
   "metadata": {},
   "outputs": [
    {
     "name": "stdout",
     "output_type": "stream",
     "text": [
      "apple banana cake\n"
     ]
    }
   ],
   "source": [
    "temp = ('apple', 'banana', 'cake')\n",
    "a, b, c = temp\n",
    "print(a, b, c)"
   ]
  },
  {
   "cell_type": "code",
   "execution_count": 65,
   "id": "bdc77c65-a80d-46f5-81df-62ddf32dfae9",
   "metadata": {},
   "outputs": [
    {
     "name": "stdout",
     "output_type": "stream",
     "text": [
      "1\n",
      "[2, 3, 4, 5]\n"
     ]
    }
   ],
   "source": [
    "x, *y = (1, 2, 3, 4, 5)  \n",
    "print(x)  \n",
    "print(y)"
   ]
  },
  {
   "cell_type": "markdown",
   "id": "8535c0ca-09f4-494f-a2e3-79c0c9ed19a8",
   "metadata": {},
   "source": [
    "080 range 함수\n",
    "1 부터 99까지의 정수 중 짝수만 저장된 튜플을 생성하라"
   ]
  },
  {
   "cell_type": "code",
   "execution_count": 70,
   "id": "4fbea794-0f46-4512-bee7-75e718fc23b4",
   "metadata": {},
   "outputs": [
    {
     "name": "stdout",
     "output_type": "stream",
     "text": [
      "2 4 6 8 10 12 14 16 18 20 22 24 26 28 30 32 34 36 38 40 42 44 46 48 50 52 54 56 58 60 62 64 66 68 70 72 74 76 78 80 82 84 86 88 90 92 94 96 98 "
     ]
    }
   ],
   "source": [
    "for x in range(1,99):\n",
    "    if x % 2 == 0:\n",
    "        print(x, end=' ')\n",
    "    "
   ]
  },
  {
   "cell_type": "code",
   "execution_count": 71,
   "id": "31ebddd7-804a-44f6-8ede-413aee9c57a7",
   "metadata": {},
   "outputs": [
    {
     "name": "stdout",
     "output_type": "stream",
     "text": [
      "(2, 4, 6, 8, 10, 12, 14, 16, 18, 20, 22, 24, 26, 28, 30, 32, 34, 36, 38, 40, 42, 44, 46, 48, 50, 52, 54, 56, 58, 60, 62, 64, 66, 68, 70, 72, 74, 76, 78, 80, 82, 84, 86, 88, 90, 92, 94, 96, 98)\n"
     ]
    }
   ],
   "source": [
    "data = tuple(range(2, 100, 2))\n",
    "print( data )"
   ]
  },
  {
   "cell_type": "markdown",
   "id": "76891913-3344-466b-8b0b-1d18e4f865a2",
   "metadata": {},
   "source": [
    "## 081 별 표현식\n",
    "기본적으로 데이터 언패킹은 좌변의 변수와 우변 데이터 개수가 같아야 합니다. 하지만 star expression을 사용하면 변수의 개수가 달라도 데이터 언패킹을 할 수 있습니다. 튜플에 저장된 데이터 중에서 앞에 있는 두 개의 데이터만 필요할 경우 나머지 데이터의 언패킹 코드를 작성할 필요가 없습니다.<br>\n",
    "\n",
    "a, b, *c = (0, 1, 2, 3, 4, 5)<br>\n",
    "print(a)<br>\n",
    "0<br>\n",
    "print(b)<br>\n",
    "1<br>\n",
    "print(c)<br>\n",
    "[2, 3, 4, 5]<br>\n",
    "다음과 같이 10개의 값이 저장된 scores 리스트가 있을 때, start expression을 사용하여 좌측 8개의 값을 valid_score 변수에 바인딩하여라.\n"
   ]
  },
  {
   "cell_type": "code",
   "execution_count": 72,
   "id": "0329185b-a28c-4091-b837-099a3f48c963",
   "metadata": {},
   "outputs": [
    {
     "name": "stdout",
     "output_type": "stream",
     "text": [
      "[8.8, 8.9, 8.7, 9.2, 9.3, 9.7, 9.9, 9.5]\n"
     ]
    }
   ],
   "source": [
    "scores = [8.8, 8.9, 8.7, 9.2, 9.3, 9.7, 9.9, 9.5, 7.8, 9.4]\n",
    "*valid_score, _, _= scores\n",
    "print(valid_score)"
   ]
  },
  {
   "cell_type": "markdown",
   "id": "4617b095-08e7-453f-bf54-faa37813495e",
   "metadata": {},
   "source": [
    "082\n",
    "다음과 같이 10개의 값이 저장된 scores 리스트가 있을 때, start expression을 사용하여 우측 8개의 값을 valid_score 변수에 바인딩하여라"
   ]
  },
  {
   "cell_type": "code",
   "execution_count": 74,
   "id": "661bf499-c78f-47ba-9b47-e372b126ec52",
   "metadata": {},
   "outputs": [
    {
     "name": "stdout",
     "output_type": "stream",
     "text": [
      "[8.7, 9.2, 9.3, 9.7, 9.9, 9.5, 7.8, 9.4]\n"
     ]
    }
   ],
   "source": [
    "scores = [8.8, 8.9, 8.7, 9.2, 9.3, 9.7, 9.9, 9.5, 7.8, 9.4]\n",
    "_,_,*valid_score = scores\n",
    "print(valid_score)"
   ]
  },
  {
   "cell_type": "markdown",
   "id": "0e0afdf2-42b3-4d0e-a377-464eeab72066",
   "metadata": {},
   "source": [
    "083\n",
    "다음과 같이 10개의 값이 저장된 scores 리스트가 있을 때, start expression을 사용하여 가운데 있는 8개의 값을 valid_score 변수에 바인딩하여라."
   ]
  },
  {
   "cell_type": "code",
   "execution_count": 75,
   "id": "5feea204-5548-43b2-b4f7-ff0553638722",
   "metadata": {},
   "outputs": [
    {
     "name": "stdout",
     "output_type": "stream",
     "text": [
      "[8.9, 8.7, 9.2, 9.3, 9.7, 9.9, 9.5, 7.8]\n"
     ]
    }
   ],
   "source": [
    "scores = [8.8, 8.9, 8.7, 9.2, 9.3, 9.7, 9.9, 9.5, 7.8, 9.4]\n",
    "_,*valid_score,_ = scores\n",
    "print(valid_score)"
   ]
  },
  {
   "cell_type": "markdown",
   "id": "b37d0ba0-757d-4237-8b43-3427b22eb3d7",
   "metadata": {},
   "source": [
    "084 비어있는 딕셔너리\n",
    "temp 이름의 비어있는 딕셔너리를 만들라."
   ]
  },
  {
   "cell_type": "code",
   "execution_count": 77,
   "id": "d8dc1653-e459-423d-ab83-f575f8fcc7af",
   "metadata": {},
   "outputs": [
    {
     "name": "stdout",
     "output_type": "stream",
     "text": [
      "<class 'dict'>\n"
     ]
    }
   ],
   "source": [
    "temp = {}\n",
    "print(type(temp))"
   ]
  },
  {
   "cell_type": "markdown",
   "id": "eb77769e-d02b-4a92-8951-2e0e5c9da5db",
   "metadata": {},
   "source": [
    "085\n",
    "다음 아이스크림 이름과 희망 가격을 딕셔너리로 구성하라.\n",
    "\n",
    "<table>\n",
    "<thead>\n",
    "<tr>\n",
    "<th>이름</th>\n",
    "<th>희망 가격</th>\n",
    "</tr>\n",
    "</thead>\n",
    "<tbody>\n",
    "<tr>\n",
    "<td>메로나</td>\n",
    "<td>1000</td>\n",
    "</tr>\n",
    "<tr>\n",
    "<td>폴라포</td>\n",
    "<td>1200</td>\n",
    "</tr>\n",
    "<tr>\n",
    "<td>빵빠레</td>\n",
    "<td>1800</td>\n",
    "</tr>\n",
    "</tbody>\n",
    "</table>"
   ]
  },
  {
   "cell_type": "code",
   "execution_count": 79,
   "id": "4b6ac0ea-f823-47c2-8b9a-0951cfb8d648",
   "metadata": {},
   "outputs": [
    {
     "name": "stdout",
     "output_type": "stream",
     "text": [
      "{'메로나': 1000, '폴라포': 1200, '빵빠레': 1800} <class 'dict'>\n"
     ]
    }
   ],
   "source": [
    "ice = {'메로나':1000, '폴라포':1200, '빵빠레':1800}\n",
    "print(ice, type(ice))"
   ]
  },
  {
   "cell_type": "markdown",
   "id": "48f217ad-717b-4e6c-9697-2a1c49bbef8a",
   "metadata": {},
   "source": [
    "## 086\n",
    "085 번의 딕셔너리에 아래 아이스크림 가격정보를 추가하라.\n",
    "<table>\n",
    "<thead>\n",
    "<tr>\n",
    "<th>이름</th>\n",
    "<th>희망 가격</th>\n",
    "</tr>\n",
    "</thead>\n",
    "<tbody>\n",
    "<tr>\n",
    "<td>죠스바</td>\n",
    "<td>1200</td>\n",
    "</tr>\n",
    "<tr>\n",
    "<td>월드콘</td>\n",
    "<td>1500</td>\n",
    "</tr>\n",
    "</tbody>\n",
    "</table>"
   ]
  },
  {
   "cell_type": "code",
   "execution_count": 85,
   "id": "9440f8e5-f783-4675-b90d-1836445d5fbe",
   "metadata": {},
   "outputs": [
    {
     "name": "stdout",
     "output_type": "stream",
     "text": [
      "{'메로나': 1000, '폴라포': 1200, '빵빠레': 1800, '죠스바': 1200, '월드콘': 1500}\n"
     ]
    }
   ],
   "source": [
    "ice = {'메로나':1000, '폴라포':1200, '빵빠레':1800}\n",
    "ice[\"죠스바\"] = 1200\n",
    "ice[\"월드콘\"] = 1500\n",
    "print(ice)"
   ]
  },
  {
   "cell_type": "markdown",
   "id": "21294b72-d39d-410c-a82b-68c3adeb8c7e",
   "metadata": {},
   "source": [
    "## 087\n",
    "다음 딕셔너리를 사용하여 메로나 가격을 출력하라.\n"
   ]
  },
  {
   "cell_type": "code",
   "execution_count": 89,
   "id": "fbb19616-633d-402b-a789-02944f8c18e1",
   "metadata": {},
   "outputs": [
    {
     "name": "stdout",
     "output_type": "stream",
     "text": [
      "메로나 가격: 1000\n"
     ]
    }
   ],
   "source": [
    "ice = {'메로나': 1000,\n",
    "       '폴로포': 1200,\n",
    "       '빵빠레': 1800,\n",
    "       '죠스바': 1200,\n",
    "       '월드콘': 1500}\n",
    "\n",
    "print('메로나 가격:', ice['메로나'])"
   ]
  },
  {
   "cell_type": "markdown",
   "id": "6015319d-9a04-4d57-80c8-4ef5090be3ce",
   "metadata": {},
   "source": [
    "## 088\n",
    "\n",
    "다음 딕셔너리에서 메로나의 가격을 1300으로 수정하라"
   ]
  },
  {
   "cell_type": "code",
   "execution_count": 92,
   "id": "78814ff2-f3a8-49d1-8dd5-eec2c4391769",
   "metadata": {},
   "outputs": [
    {
     "name": "stdout",
     "output_type": "stream",
     "text": [
      "{'메로나': 1300, '폴로포': 1200, '빵빠레': 1800, '죠스바': 1200, '월드콘': 1500}\n"
     ]
    }
   ],
   "source": [
    "ice = {'메로나': 1000,\n",
    "       '폴로포': 1200,\n",
    "       '빵빠레': 1800,\n",
    "       '죠스바': 1200,\n",
    "       '월드콘': 1500}\n",
    "ice['메로나'] = 1300\n",
    "print(ice)"
   ]
  },
  {
   "cell_type": "markdown",
   "id": "5d38b9d6-fc56-46ec-84b6-b192c4050fd6",
   "metadata": {},
   "source": [
    "## 089\n",
    "다음 딕셔너리에서 메로나를 삭제하라."
   ]
  },
  {
   "cell_type": "code",
   "execution_count": 94,
   "id": "b36106e2-a6f7-473c-893d-be1b81464cda",
   "metadata": {},
   "outputs": [
    {
     "name": "stdout",
     "output_type": "stream",
     "text": [
      "{'폴로포': 1200, '빵빠레': 1800, '죠스바': 1200, '월드콘': 1500}\n"
     ]
    }
   ],
   "source": [
    "ice = {'메로나': 1000,\n",
    "       '폴로포': 1200,\n",
    "       '빵빠레': 1800,\n",
    "       '죠스바': 1200,\n",
    "       '월드콘': 1500}\n",
    "\n",
    "del ice['메로나']\n",
    "print(ice)"
   ]
  },
  {
   "cell_type": "markdown",
   "id": "df28a9af-71dd-444a-a00d-b486dc17b1fd",
   "metadata": {},
   "source": [
    "090\n",
    "다음 코드에서 에러가 발생한 원인을 설명하라\n",
    "\n",
    "딕셔너리에서는 없는 값을 인넥싱하면 에러남"
   ]
  },
  {
   "cell_type": "code",
   "execution_count": 96,
   "id": "dcbef4af-9b16-475d-bf4f-a078ed047d0b",
   "metadata": {},
   "outputs": [],
   "source": [
    "# icecream = {'폴라포': 1200, '빵빠레': 1800, '월드콘': 1500, '메로나': 1000}\n",
    "# icecream['누가바']\n",
    "# Traceback (most recent call last):\n",
    "#   File \"<pyshell#69>\", line 1, in <module>\n",
    "#     icecream['누가바']\n",
    "# KeyError: '누가바'\n"
   ]
  },
  {
   "cell_type": "markdown",
   "id": "faeee441-b9b6-4956-b269-022a9f6a4059",
   "metadata": {},
   "source": [
    "091 딕셔너리 생성\n",
    "아래의 표에서, 아이스크림 이름을 키값으로, (가격, 재고) 리스트를 딕셔너리의 값으로 저장하라. 딕셔너리의 이름은 inventory로 한다.\n",
    "<table>\n",
    "<thead>\n",
    "<tr>\n",
    "<th>이름</th>\n",
    "<th>가격</th>\n",
    "<th>재고</th>\n",
    "</tr>\n",
    "</thead>\n",
    "<tbody>\n",
    "<tr>\n",
    "<td>메로나</td>\n",
    "<td>300</td>\n",
    "<td>20</td>\n",
    "</tr>\n",
    "<tr>\n",
    "<td>비비빅</td>\n",
    "<td>400</td>\n",
    "<td>3</td>\n",
    "</tr>\n",
    "<tr>\n",
    "<td>죠스바</td>\n",
    "<td>250</td>\n",
    "<td>100</td>\n",
    "</tr>\n",
    "</tbody>\n",
    "</table>\n"
   ]
  },
  {
   "cell_type": "code",
   "execution_count": 3,
   "id": "8ff94588-8017-47cd-9b76-20043196ee8e",
   "metadata": {},
   "outputs": [
    {
     "name": "stdout",
     "output_type": "stream",
     "text": [
      "{'메로나': [300, 20], '비비빅': (400, 3), '죠스바': (250, 100)}\n"
     ]
    }
   ],
   "source": [
    "inventory = {'메로나':[300, 20],\n",
    "            '비비빅':(400,3),\n",
    "            '죠스바': (250, 100)}\n",
    "print(inventory)"
   ]
  },
  {
   "cell_type": "markdown",
   "id": "91a74f72-99b8-4439-85be-86cadcf7991f",
   "metadata": {},
   "source": [
    "092 딕셔너리 인덱싱\n",
    "inventory 딕셔너리에서 메로나의 가격을 화면에 출력하라."
   ]
  },
  {
   "cell_type": "code",
   "execution_count": 7,
   "id": "5dffb360-2c82-4657-b283-08c42d572de1",
   "metadata": {},
   "outputs": [
    {
     "name": "stdout",
     "output_type": "stream",
     "text": [
      "300 원\n"
     ]
    }
   ],
   "source": [
    "print(inventory['메로나'][0],'원')"
   ]
  },
  {
   "cell_type": "markdown",
   "id": "ca0fae08-a765-46b0-b594-e626aeaf0dd5",
   "metadata": {},
   "source": [
    "093 딕셔너리 인덱싱\n",
    "inventory 딕셔너리에서 메로나의 재고를 화면에 출력하라."
   ]
  },
  {
   "cell_type": "code",
   "execution_count": 9,
   "id": "f5f3569d-b49d-4b4e-b4a8-db46aa20b34f",
   "metadata": {},
   "outputs": [
    {
     "name": "stdout",
     "output_type": "stream",
     "text": [
      "20 개\n",
      "100 개\n"
     ]
    }
   ],
   "source": [
    "print(inventory['메로나'][1],'개')\n",
    "print(inventory['죠스바'][1],'개')"
   ]
  },
  {
   "cell_type": "markdown",
   "id": "3c17b06d-5cd8-4445-8af5-6303c8e5b633",
   "metadata": {},
   "source": [
    "## 094 딕셔너리 추가\n",
    "inventory 딕셔너리에 아래 데이터를 추가하라."
   ]
  },
  {
   "cell_type": "code",
   "execution_count": 14,
   "id": "b624163b-c1cc-4935-832e-cdd03cad35ff",
   "metadata": {},
   "outputs": [
    {
     "name": "stdout",
     "output_type": "stream",
     "text": [
      "{'메로나': [300, 20], '비비빅': (400, 3), '죠스바': (250, 100), '월드콘': [500, 7]}\n"
     ]
    }
   ],
   "source": [
    "inventory[\"월드콘\"] = [500, 7]\n",
    "print(inventory)"
   ]
  },
  {
   "cell_type": "markdown",
   "id": "ee9c0c5d-ae53-43fb-955e-44bc78620f9f",
   "metadata": {},
   "source": [
    "095 딕셔너리 keys() 메서드\n",
    "다음의 딕셔너리로부터 key 값으로만 구성된 리스트를 생성하라."
   ]
  },
  {
   "cell_type": "code",
   "execution_count": 15,
   "id": "e2cd4e11-fc17-4277-8e1f-942d990651d5",
   "metadata": {},
   "outputs": [
    {
     "name": "stdout",
     "output_type": "stream",
     "text": [
      "dict_keys(['메로나', '비비빅', '죠스바', '월드콘'])\n"
     ]
    }
   ],
   "source": [
    "print(inventory.keys())"
   ]
  },
  {
   "cell_type": "code",
   "execution_count": 17,
   "id": "82aa04eb-2ab8-48b5-b6d1-c5881dc931fd",
   "metadata": {},
   "outputs": [
    {
     "name": "stdout",
     "output_type": "stream",
     "text": [
      "['탱크보이', '폴라포', '빵빠레', '월드콘', '메로나']\n"
     ]
    }
   ],
   "source": [
    "icecream = {'탱크보이': 1200, '폴라포': 1200, '빵빠레': 1800, '월드콘': 1500, '메로나': 1000}\n",
    "il = list(icecream.keys())\n",
    "print(il)"
   ]
  },
  {
   "cell_type": "markdown",
   "id": "3b849109-f0a8-44f2-9f9e-e46c2efe5b80",
   "metadata": {},
   "source": [
    "096 딕셔너리 values() 메서드\n",
    "다음의 딕셔너리에서 values 값으로만 구성된 리스트를 생성하라."
   ]
  },
  {
   "cell_type": "code",
   "execution_count": 18,
   "id": "028197c8-e55f-4378-ac39-ac29059d08b6",
   "metadata": {},
   "outputs": [
    {
     "name": "stdout",
     "output_type": "stream",
     "text": [
      "[1200, 1200, 1800, 1500, 1000]\n"
     ]
    }
   ],
   "source": [
    "iv = list(icecream.values())\n",
    "print(iv)"
   ]
  },
  {
   "cell_type": "markdown",
   "id": "f0c8ab5b-1792-4c6d-9bc9-f8e9efea6434",
   "metadata": {},
   "source": [
    "097 딕셔너리 values() 메서드\n",
    "icecream 딕셔너리에서 아이스크림 판매 금액의 총합을 출력하라."
   ]
  },
  {
   "cell_type": "code",
   "execution_count": 24,
   "id": "601f7eb3-78f0-46e6-a041-aff53f85ff16",
   "metadata": {},
   "outputs": [
    {
     "name": "stdout",
     "output_type": "stream",
     "text": [
      "6700\n"
     ]
    }
   ],
   "source": [
    "print(sum(iv))"
   ]
  },
  {
   "cell_type": "markdown",
   "id": "c8032ea6-ab7c-49eb-8a35-9aa6648f87ac",
   "metadata": {},
   "source": [
    "# 98 딕셔너리 update 메서드\n",
    "아래의 new_product 딕셔너리를 다음 icecream 딕셔너리에 추가하라."
   ]
  },
  {
   "cell_type": "code",
   "execution_count": 27,
   "id": "bef892a2-d1ca-42ba-b6d2-2669f372e907",
   "metadata": {},
   "outputs": [
    {
     "name": "stdout",
     "output_type": "stream",
     "text": [
      "{'탱크보이': 1200, '폴라포': 1200, '빵빠레': 1800, '월드콘': 1500, '메로나': 1000, '팥빙수': 2700, '아맛나': 1000}\n"
     ]
    }
   ],
   "source": [
    "icecream = {'탱크보이': 1200, '폴라포': 1200, '빵빠레': 1800, '월드콘': 1500, '메로나': 1000}\n",
    "new_product = {'팥빙수':2700, '아맛나':1000}\n",
    "\n",
    "icecream.update(new_product)\n",
    "print(icecream)"
   ]
  },
  {
   "cell_type": "markdown",
   "id": "9815edb2-40f5-4b1a-9fe2-38d42a954a85",
   "metadata": {},
   "source": [
    "# 099 zip과 dict\n",
    "아래 두 개의 튜플을 하나의 딕셔너리로 변환하라. keys를 키로, vals를 값으로 result 이름의 딕셔너리로 저장한다."
   ]
  },
  {
   "cell_type": "code",
   "execution_count": 30,
   "id": "30900c37-c40c-4bca-9ff3-97f068d7ab67",
   "metadata": {},
   "outputs": [
    {
     "name": "stdout",
     "output_type": "stream",
     "text": [
      "{'apple': 300, 'pear': 250, 'peach': 400}\n"
     ]
    }
   ],
   "source": [
    "keys = (\"apple\", \"pear\", \"peach\")\n",
    "vals = (300, 250, 400)\n",
    "result = dict(zip(keys, vals))\n",
    "print(result)"
   ]
  },
  {
   "cell_type": "markdown",
   "id": "2bc3941e-78da-4d43-8f66-6a6f7054f774",
   "metadata": {},
   "source": [
    "100 zip과 dict\n",
    "date와 close_price 두 개의 리스트를 close_table 이름의 딕셔너리로 생성하라."
   ]
  },
  {
   "cell_type": "code",
   "execution_count": 31,
   "id": "1530df65-07d2-4a2a-8c98-1894bdf499eb",
   "metadata": {},
   "outputs": [
    {
     "name": "stdout",
     "output_type": "stream",
     "text": [
      "{'apple': 300, 'pear': 250, 'peach': 400}\n"
     ]
    }
   ],
   "source": [
    "date = ['09/05', '09/06', '09/07', '09/08', '09/09']\n",
    "close_price = [10500, 10300, 10100, 10800, 11000]\n",
    "close_table = dict(zip(keys,vals))\n",
    "print(close_table)"
   ]
  },
  {
   "cell_type": "code",
   "execution_count": null,
   "id": "1eb74bc7-3343-4db9-af07-92c75205a361",
   "metadata": {},
   "outputs": [],
   "source": []
  }
 ],
 "metadata": {
  "kernelspec": {
   "display_name": "Python 3 (ipykernel)",
   "language": "python",
   "name": "python3"
  },
  "language_info": {
   "codemirror_mode": {
    "name": "ipython",
    "version": 3
   },
   "file_extension": ".py",
   "mimetype": "text/x-python",
   "name": "python",
   "nbconvert_exporter": "python",
   "pygments_lexer": "ipython3",
   "version": "3.13.2"
  }
 },
 "nbformat": 4,
 "nbformat_minor": 5
}
