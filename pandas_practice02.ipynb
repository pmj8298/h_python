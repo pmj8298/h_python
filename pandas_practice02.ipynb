{
 "cells": [
  {
   "cell_type": "code",
   "execution_count": 1,
   "id": "83a47698-38ca-4722-a30a-7fdc983e6d9f",
   "metadata": {},
   "outputs": [
    {
     "name": "stdout",
     "output_type": "stream",
     "text": [
      "    cars  passings\n",
      "0    BMW         3\n",
      "1  Volvo         7\n",
      "2   Ford         2\n"
     ]
    }
   ],
   "source": [
    "import pandas\n",
    "\n",
    "mydataset = {\n",
    "  'cars': [\"BMW\", \"Volvo\", \"Ford\"],\n",
    "  'passings': [3, 7, 2]\n",
    "}\n",
    "\n",
    "myvar = pandas.DataFrame(mydataset)\n",
    "\n",
    "print(myvar)"
   ]
  },
  {
   "cell_type": "code",
   "execution_count": 2,
   "id": "de5ca42d-d84a-40e1-83f6-f67993cb0db8",
   "metadata": {},
   "outputs": [
    {
     "name": "stdout",
     "output_type": "stream",
     "text": [
      "    cars  passings\n",
      "0    BMW         3\n",
      "1  Volvo         7\n",
      "2   Ford         2\n"
     ]
    }
   ],
   "source": [
    "import pandas as pd\n",
    "\n",
    "mydataset = {\n",
    "  'cars': [\"BMW\", \"Volvo\", \"Ford\"],\n",
    "  'passings': [3, 7, 2]\n",
    "}\n",
    "\n",
    "myvar = pd.DataFrame(mydataset)\n",
    "\n",
    "print(myvar)"
   ]
  },
  {
   "cell_type": "code",
   "execution_count": 3,
   "id": "78aa204d-fc08-4d8e-88c2-54c3663833f3",
   "metadata": {},
   "outputs": [
    {
     "name": "stdout",
     "output_type": "stream",
     "text": [
      "2.2.3\n"
     ]
    }
   ],
   "source": [
    "import pandas as pd\n",
    "\n",
    "print(pd.__version__)"
   ]
  },
  {
   "cell_type": "markdown",
   "id": "d0f87c69-e643-4277-83cc-d37955b8949e",
   "metadata": {},
   "source": [
    "# Pandas Series\n",
    "1차원 배열"
   ]
  },
  {
   "cell_type": "code",
   "execution_count": 7,
   "id": "c4774142-665b-41ed-a6d5-dbdb3cfbbd50",
   "metadata": {},
   "outputs": [
    {
     "name": "stdout",
     "output_type": "stream",
     "text": [
      "0    1\n",
      "1    7\n",
      "2    2\n",
      "dtype: int64\n"
     ]
    }
   ],
   "source": [
    "import pandas as pd\n",
    "\n",
    "a = [1, 7, 2]\n",
    "\n",
    "myvar = pd.Series(a)\n",
    "\n",
    "print(myvar)"
   ]
  },
  {
   "cell_type": "markdown",
   "id": "85a97528-6953-456c-89f8-7c6ccbd57227",
   "metadata": {},
   "source": [
    "## Labels"
   ]
  },
  {
   "cell_type": "code",
   "execution_count": 8,
   "id": "d8f047d7-df9f-40aa-88ba-7ae365939c02",
   "metadata": {},
   "outputs": [
    {
     "name": "stdout",
     "output_type": "stream",
     "text": [
      "1\n",
      "7\n",
      "2\n"
     ]
    }
   ],
   "source": [
    "print(myvar[0])\n",
    "print(myvar[1])\n",
    "print(myvar[2])"
   ]
  },
  {
   "cell_type": "markdown",
   "id": "ac41b315-d4b9-48c3-a360-deac805bba62",
   "metadata": {},
   "source": [
    "## Create Labels"
   ]
  },
  {
   "cell_type": "code",
   "execution_count": 9,
   "id": "306d43e8-2ae3-4d53-b6f6-e902aece2723",
   "metadata": {},
   "outputs": [
    {
     "name": "stdout",
     "output_type": "stream",
     "text": [
      "x    1\n",
      "y    7\n",
      "z    2\n",
      "dtype: int64\n"
     ]
    }
   ],
   "source": [
    "import pandas as pd\n",
    "\n",
    "a = [1, 7, 2]\n",
    "\n",
    "myvar = pd.Series(a, index = [\"x\", \"y\", \"z\"])\n",
    "\n",
    "print(myvar)"
   ]
  },
  {
   "cell_type": "code",
   "execution_count": 10,
   "id": "6d32b53a-3dfb-4a06-b70f-151672d93162",
   "metadata": {},
   "outputs": [
    {
     "name": "stdout",
     "output_type": "stream",
     "text": [
      "1\n",
      "7\n",
      "2\n"
     ]
    }
   ],
   "source": [
    "print(myvar[\"x\"])\n",
    "print(myvar[\"y\"])\n",
    "print(myvar[\"z\"])"
   ]
  },
  {
   "cell_type": "markdown",
   "id": "8d937534-7b88-46c8-a6a8-0b2b462db6dd",
   "metadata": {},
   "source": [
    "## Key/Value Objects as Series\n",
    "딕셔너리의 키가 라벨이 된다."
   ]
  },
  {
   "cell_type": "code",
   "execution_count": 11,
   "id": "b89945c0-5cce-4434-9673-874910b2c2e2",
   "metadata": {},
   "outputs": [
    {
     "name": "stdout",
     "output_type": "stream",
     "text": [
      "day1    420\n",
      "day2    380\n",
      "day3    390\n",
      "dtype: int64\n"
     ]
    }
   ],
   "source": [
    "import pandas as pd\n",
    "\n",
    "calories = {\"day1\": 420, \"day2\": 380, \"day3\": 390}\n",
    "\n",
    "myvar = pd.Series(calories)\n",
    "\n",
    "print(myvar)"
   ]
  },
  {
   "cell_type": "code",
   "execution_count": 14,
   "id": "19cc629f-e10a-4be1-94f3-6794ea0867da",
   "metadata": {},
   "outputs": [
    {
     "name": "stdout",
     "output_type": "stream",
     "text": [
      "day1    420\n",
      "day2    380\n",
      "dtype: int64\n"
     ]
    }
   ],
   "source": [
    "import pandas as pd\n",
    "\n",
    "calories = {\"day1\": 420, \"day2\": 380, \"day3\": 390}\n",
    "\n",
    "myvar = pd.Series(calories, index = [\"day1\", \"day2\"])\n",
    "\n",
    "print(myvar)"
   ]
  },
  {
   "cell_type": "markdown",
   "id": "7bb92cee-0854-44b2-a0fc-2cba5b02f628",
   "metadata": {},
   "source": [
    "# DataFrame\n",
    "다차원 테이블\n",
    "- series는 열과 같고, DataFrame은 전체 테이블"
   ]
  },
  {
   "cell_type": "code",
   "execution_count": 16,
   "id": "d9e45783-5722-4166-ba78-80963a70e234",
   "metadata": {},
   "outputs": [
    {
     "name": "stdout",
     "output_type": "stream",
     "text": [
      "   calories  duration\n",
      "0       420        50\n",
      "1       380        40\n",
      "2       390        45\n"
     ]
    },
    {
     "data": {
      "text/html": [
       "<div>\n",
       "<style scoped>\n",
       "    .dataframe tbody tr th:only-of-type {\n",
       "        vertical-align: middle;\n",
       "    }\n",
       "\n",
       "    .dataframe tbody tr th {\n",
       "        vertical-align: top;\n",
       "    }\n",
       "\n",
       "    .dataframe thead th {\n",
       "        text-align: right;\n",
       "    }\n",
       "</style>\n",
       "<table border=\"1\" class=\"dataframe\">\n",
       "  <thead>\n",
       "    <tr style=\"text-align: right;\">\n",
       "      <th></th>\n",
       "      <th>calories</th>\n",
       "      <th>duration</th>\n",
       "    </tr>\n",
       "  </thead>\n",
       "  <tbody>\n",
       "    <tr>\n",
       "      <th>0</th>\n",
       "      <td>420</td>\n",
       "      <td>50</td>\n",
       "    </tr>\n",
       "    <tr>\n",
       "      <th>1</th>\n",
       "      <td>380</td>\n",
       "      <td>40</td>\n",
       "    </tr>\n",
       "    <tr>\n",
       "      <th>2</th>\n",
       "      <td>390</td>\n",
       "      <td>45</td>\n",
       "    </tr>\n",
       "  </tbody>\n",
       "</table>\n",
       "</div>"
      ],
      "text/plain": [
       "   calories  duration\n",
       "0       420        50\n",
       "1       380        40\n",
       "2       390        45"
      ]
     },
     "execution_count": 16,
     "metadata": {},
     "output_type": "execute_result"
    }
   ],
   "source": [
    "import pandas as pd\n",
    "\n",
    "data = {\n",
    "  \"calories\": [420, 380, 390],\n",
    "  \"duration\": [50, 40, 45]\n",
    "}\n",
    "\n",
    "myvar = pd.DataFrame(data)\n",
    "\n",
    "print(myvar)\n",
    "myvar"
   ]
  },
  {
   "cell_type": "code",
   "execution_count": 18,
   "id": "b9166f9c-6017-426e-82e2-7e235f8cb328",
   "metadata": {},
   "outputs": [
    {
     "name": "stdout",
     "output_type": "stream",
     "text": [
      "   calories  duration\n",
      "0       420        50\n",
      "1       380        40\n",
      "2       390        45\n"
     ]
    },
    {
     "data": {
      "text/html": [
       "<div>\n",
       "<style scoped>\n",
       "    .dataframe tbody tr th:only-of-type {\n",
       "        vertical-align: middle;\n",
       "    }\n",
       "\n",
       "    .dataframe tbody tr th {\n",
       "        vertical-align: top;\n",
       "    }\n",
       "\n",
       "    .dataframe thead th {\n",
       "        text-align: right;\n",
       "    }\n",
       "</style>\n",
       "<table border=\"1\" class=\"dataframe\">\n",
       "  <thead>\n",
       "    <tr style=\"text-align: right;\">\n",
       "      <th></th>\n",
       "      <th>calories</th>\n",
       "      <th>duration</th>\n",
       "    </tr>\n",
       "  </thead>\n",
       "  <tbody>\n",
       "    <tr>\n",
       "      <th>0</th>\n",
       "      <td>420</td>\n",
       "      <td>50</td>\n",
       "    </tr>\n",
       "    <tr>\n",
       "      <th>1</th>\n",
       "      <td>380</td>\n",
       "      <td>40</td>\n",
       "    </tr>\n",
       "    <tr>\n",
       "      <th>2</th>\n",
       "      <td>390</td>\n",
       "      <td>45</td>\n",
       "    </tr>\n",
       "  </tbody>\n",
       "</table>\n",
       "</div>"
      ],
      "text/plain": [
       "   calories  duration\n",
       "0       420        50\n",
       "1       380        40\n",
       "2       390        45"
      ]
     },
     "execution_count": 18,
     "metadata": {},
     "output_type": "execute_result"
    }
   ],
   "source": [
    "import pandas as pd\n",
    "\n",
    "data = {\n",
    "  \"calories\": [420, 380, 390],\n",
    "  \"duration\": [50, 40, 45]\n",
    "}\n",
    "\n",
    "#load data into a DataFrame object:\n",
    "df = pd.DataFrame(data)\n",
    "\n",
    "print(df) \n",
    "df"
   ]
  },
  {
   "cell_type": "markdown",
   "id": "4cee44f6-8464-42f6-b6b5-f4efa5847477",
   "metadata": {},
   "source": [
    "## Locate Row\n",
    "\n",
    "- Pandas Series를 반환"
   ]
  },
  {
   "cell_type": "code",
   "execution_count": 23,
   "id": "94f2eb80-453a-488e-8322-b798739f1985",
   "metadata": {},
   "outputs": [
    {
     "name": "stdout",
     "output_type": "stream",
     "text": [
      "calories    420\n",
      "duration     50\n",
      "Name: 0, dtype: int64\n",
      "calories    380\n",
      "duration     40\n",
      "Name: 1, dtype: int64\n",
      "calories    390\n",
      "duration     45\n",
      "Name: 2, dtype: int64\n"
     ]
    }
   ],
   "source": [
    "print(df.loc[0])\n",
    "print(df.loc[1])\n",
    "print(df.loc[2])"
   ]
  },
  {
   "cell_type": "markdown",
   "id": "ae394d37-f627-4b6e-bc25-4f42d77f939f",
   "metadata": {},
   "source": [
    "- []결과는 Pandas DataFrame을 반환"
   ]
  },
  {
   "cell_type": "code",
   "execution_count": 28,
   "id": "e4767d20-6e8a-489e-b3ab-ee3fed97fbd2",
   "metadata": {},
   "outputs": [
    {
     "name": "stdout",
     "output_type": "stream",
     "text": [
      "   calories  duration\n",
      "0       420        50\n",
      "1       380        40\n",
      "   calories  duration\n",
      "0       420        50\n",
      "2       390        45\n"
     ]
    }
   ],
   "source": [
    "print(df.loc[[0, 1]])\n",
    "print(df.loc[[0,2]])"
   ]
  },
  {
   "cell_type": "markdown",
   "id": "19827077-c588-4b7d-84f7-e4ea92c2c6e7",
   "metadata": {},
   "source": [
    "## Named Indexes"
   ]
  },
  {
   "cell_type": "code",
   "execution_count": 30,
   "id": "a455110f-6ad0-4b7a-81ee-3bbdb05a1077",
   "metadata": {},
   "outputs": [
    {
     "name": "stdout",
     "output_type": "stream",
     "text": [
      "      calories  duration\n",
      "day1       420        50\n",
      "day2       380        40\n",
      "day3       390        45\n"
     ]
    },
    {
     "data": {
      "text/html": [
       "<div>\n",
       "<style scoped>\n",
       "    .dataframe tbody tr th:only-of-type {\n",
       "        vertical-align: middle;\n",
       "    }\n",
       "\n",
       "    .dataframe tbody tr th {\n",
       "        vertical-align: top;\n",
       "    }\n",
       "\n",
       "    .dataframe thead th {\n",
       "        text-align: right;\n",
       "    }\n",
       "</style>\n",
       "<table border=\"1\" class=\"dataframe\">\n",
       "  <thead>\n",
       "    <tr style=\"text-align: right;\">\n",
       "      <th></th>\n",
       "      <th>calories</th>\n",
       "      <th>duration</th>\n",
       "    </tr>\n",
       "  </thead>\n",
       "  <tbody>\n",
       "    <tr>\n",
       "      <th>day1</th>\n",
       "      <td>420</td>\n",
       "      <td>50</td>\n",
       "    </tr>\n",
       "    <tr>\n",
       "      <th>day2</th>\n",
       "      <td>380</td>\n",
       "      <td>40</td>\n",
       "    </tr>\n",
       "    <tr>\n",
       "      <th>day3</th>\n",
       "      <td>390</td>\n",
       "      <td>45</td>\n",
       "    </tr>\n",
       "  </tbody>\n",
       "</table>\n",
       "</div>"
      ],
      "text/plain": [
       "      calories  duration\n",
       "day1       420        50\n",
       "day2       380        40\n",
       "day3       390        45"
      ]
     },
     "execution_count": 30,
     "metadata": {},
     "output_type": "execute_result"
    }
   ],
   "source": [
    "import pandas as pd\n",
    "\n",
    "data = {\n",
    "  \"calories\": [420, 380, 390],\n",
    "  \"duration\": [50, 40, 45]\n",
    "}\n",
    "\n",
    "df = pd.DataFrame(data, index = [\"day1\", \"day2\", \"day3\"])\n",
    "\n",
    "print(df) \n",
    "df"
   ]
  },
  {
   "cell_type": "markdown",
   "id": "51e8e3c9-e5b1-4b79-ac56-14a76344dead",
   "metadata": {},
   "source": [
    "## Locate Named Indexes"
   ]
  },
  {
   "cell_type": "code",
   "execution_count": 31,
   "id": "5fa4348b-5a43-441a-8b78-65ded5c9b7d8",
   "metadata": {},
   "outputs": [
    {
     "name": "stdout",
     "output_type": "stream",
     "text": [
      "calories    380\n",
      "duration     40\n",
      "Name: day2, dtype: int64\n"
     ]
    }
   ],
   "source": [
    "print(df.loc[\"day2\"])"
   ]
  },
  {
   "cell_type": "markdown",
   "id": "ca8e57de-ad0e-4984-93e3-6d5212fccace",
   "metadata": {},
   "source": [
    "# Read CSV Files"
   ]
  },
  {
   "cell_type": "code",
   "execution_count": 35,
   "id": "11461e9c-4206-4c56-ab47-cd3e1191c498",
   "metadata": {},
   "outputs": [
    {
     "name": "stdout",
     "output_type": "stream",
     "text": [
      "     Duration  Pulse  Maxpulse  Calories\n",
      "0          60    110       130     409.1\n",
      "1          60    117       145     479.0\n",
      "2          60    103       135     340.0\n",
      "3          45    109       175     282.4\n",
      "4          45    117       148     406.0\n",
      "5          60    102       127     300.0\n",
      "6          60    110       136     374.0\n",
      "7          45    104       134     253.3\n",
      "8          30    109       133     195.1\n",
      "9          60     98       124     269.0\n",
      "10         60    103       147     329.3\n",
      "11         60    100       120     250.7\n",
      "12         60    106       128     345.3\n",
      "13         60    104       132     379.3\n",
      "14         60     98       123     275.0\n",
      "15         60     98       120     215.2\n",
      "16         60    100       120     300.0\n",
      "17         45     90       112       NaN\n",
      "18         60    103       123     323.0\n",
      "19         45     97       125     243.0\n",
      "20         60    108       131     364.2\n",
      "21         45    100       119     282.0\n",
      "22         60    130       101     300.0\n",
      "23         45    105       132     246.0\n",
      "24         60    102       126     334.5\n",
      "25         60    100       120     250.0\n",
      "26         60     92       118     241.0\n",
      "27         60    103       132       NaN\n",
      "28         60    100       132     280.0\n",
      "29         60    102       129     380.3\n",
      "30         60     92       115     243.0\n",
      "31         45     90       112     180.1\n",
      "32         60    101       124     299.0\n",
      "33         60     93       113     223.0\n",
      "34         60    107       136     361.0\n",
      "35         60    114       140     415.0\n",
      "36         60    102       127     300.0\n",
      "37         60    100       120     300.0\n",
      "38         60    100       120     300.0\n",
      "39         45    104       129     266.0\n",
      "40         45     90       112     180.1\n",
      "41         60     98       126     286.0\n",
      "42         60    100       122     329.4\n",
      "43         60    111       138     400.0\n",
      "44         60    111       131     397.0\n",
      "45         60     99       119     273.0\n",
      "46         60    109       153     387.6\n",
      "47         45    111       136     300.0\n",
      "48         45    108       129     298.0\n",
      "49         60    111       139     397.6\n",
      "50         60    107       136     380.2\n",
      "51         80    123       146     643.1\n",
      "52         60    106       130     263.0\n",
      "53         60    118       151     486.0\n",
      "54         30    136       175     238.0\n",
      "55         60    121       146     450.7\n",
      "56         60    118       121     413.0\n",
      "57         45    115       144     305.0\n",
      "58         20    153       172     226.4\n",
      "59         45    123       152     321.0\n",
      "60        210    108       160    1376.0\n",
      "61        160    110       137    1034.4\n",
      "62        160    109       135     853.0\n",
      "63         45    118       141     341.0\n",
      "64         20    110       130     131.4\n",
      "65        180     90       130     800.4\n",
      "66        150    105       135     873.4\n",
      "67        150    107       130     816.0\n",
      "68         20    106       136     110.4\n",
      "69        300    108       143    1500.2\n",
      "70        150     97       129    1115.0\n",
      "71         60    109       153     387.6\n",
      "72         90    100       127     700.0\n",
      "73        150     97       127     953.2\n",
      "74         45    114       146     304.0\n",
      "75         90     98       125     563.2\n",
      "76         45    105       134     251.0\n",
      "77         45    110       141     300.0\n",
      "78        120    100       130     500.4\n",
      "79        270    100       131    1729.0\n",
      "80         30    159       182     319.2\n",
      "81         45    149       169     344.0\n",
      "82         30    103       139     151.1\n",
      "83        120    100       130     500.0\n",
      "84         45    100       120     225.3\n",
      "85         30    151       170     300.0\n",
      "86         45    102       136     234.0\n",
      "87        120    100       157    1000.1\n",
      "88         45    129       103     242.0\n",
      "89         20     83       107      50.3\n",
      "90        180    101       127     600.1\n",
      "91         45    107       137       NaN\n",
      "92         30     90       107     105.3\n",
      "93         15     80       100      50.5\n",
      "94         20    150       171     127.4\n",
      "95         20    151       168     229.4\n",
      "96         30     95       128     128.2\n",
      "97         25    152       168     244.2\n",
      "98         30    109       131     188.2\n",
      "99         90     93       124     604.1\n",
      "100        20     95       112      77.7\n",
      "101        90     90       110     500.0\n",
      "102        90     90       100     500.0\n",
      "103        90     90       100     500.4\n",
      "104        30     92       108      92.7\n",
      "105        30     93       128     124.0\n",
      "106       180     90       120     800.3\n",
      "107        30     90       120      86.2\n",
      "108        90     90       120     500.3\n",
      "109       210    137       184    1860.4\n",
      "110        60    102       124     325.2\n",
      "111        45    107       124     275.0\n",
      "112        15    124       139     124.2\n",
      "113        45    100       120     225.3\n",
      "114        60    108       131     367.6\n",
      "115        60    108       151     351.7\n",
      "116        60    116       141     443.0\n",
      "117        60     97       122     277.4\n",
      "118        60    105       125       NaN\n",
      "119        60    103       124     332.7\n",
      "120        30    112       137     193.9\n",
      "121        45    100       120     100.7\n",
      "122        60    119       169     336.7\n",
      "123        60    107       127     344.9\n",
      "124        60    111       151     368.5\n",
      "125        60     98       122     271.0\n",
      "126        60     97       124     275.3\n",
      "127        60    109       127     382.0\n",
      "128        90     99       125     466.4\n",
      "129        60    114       151     384.0\n",
      "130        60    104       134     342.5\n",
      "131        60    107       138     357.5\n",
      "132        60    103       133     335.0\n",
      "133        60    106       132     327.5\n",
      "134        60    103       136     339.0\n",
      "135        20    136       156     189.0\n",
      "136        45    117       143     317.7\n",
      "137        45    115       137     318.0\n",
      "138        45    113       138     308.0\n",
      "139        20    141       162     222.4\n",
      "140        60    108       135     390.0\n",
      "141        60     97       127       NaN\n",
      "142        45    100       120     250.4\n",
      "143        45    122       149     335.4\n",
      "144        60    136       170     470.2\n",
      "145        45    106       126     270.8\n",
      "146        60    107       136     400.0\n",
      "147        60    112       146     361.9\n",
      "148        30    103       127     185.0\n",
      "149        60    110       150     409.4\n",
      "150        60    106       134     343.0\n",
      "151        60    109       129     353.2\n",
      "152        60    109       138     374.0\n",
      "153        30    150       167     275.8\n",
      "154        60    105       128     328.0\n",
      "155        60    111       151     368.5\n",
      "156        60     97       131     270.4\n",
      "157        60    100       120     270.4\n",
      "158        60    114       150     382.8\n",
      "159        30     80       120     240.9\n",
      "160        30     85       120     250.4\n",
      "161        45     90       130     260.4\n",
      "162        45     95       130     270.0\n",
      "163        45    100       140     280.9\n",
      "164        60    105       140     290.8\n",
      "165        60    110       145     300.0\n",
      "166        60    115       145     310.2\n",
      "167        75    120       150     320.4\n",
      "168        75    125       150     330.4\n"
     ]
    }
   ],
   "source": [
    "import pandas as pd\n",
    "\n",
    "df = pd.read_csv('./ref/data.csv')\n",
    "\n",
    "print(df.to_string())"
   ]
  },
  {
   "cell_type": "markdown",
   "id": "4e40c906-c78e-4d0e-9ac6-7017dbe920b1",
   "metadata": {},
   "source": [
    "위에랑 비교하자면 toString()을 사용하면 전체 결과값을 반환하고,<br>\n",
    "그냥 출력하면 head, tail 각각 5개씩만 보여준다"
   ]
  },
  {
   "cell_type": "code",
   "execution_count": 36,
   "id": "3d42d7f5-dbc8-44cc-b6bf-4987c4ec0ab9",
   "metadata": {},
   "outputs": [
    {
     "name": "stdout",
     "output_type": "stream",
     "text": [
      "     Duration  Pulse  Maxpulse  Calories\n",
      "0          60    110       130     409.1\n",
      "1          60    117       145     479.0\n",
      "2          60    103       135     340.0\n",
      "3          45    109       175     282.4\n",
      "4          45    117       148     406.0\n",
      "..        ...    ...       ...       ...\n",
      "164        60    105       140     290.8\n",
      "165        60    110       145     300.0\n",
      "166        60    115       145     310.2\n",
      "167        75    120       150     320.4\n",
      "168        75    125       150     330.4\n",
      "\n",
      "[169 rows x 4 columns]\n"
     ]
    }
   ],
   "source": [
    "df = pd.read_csv('./ref/data.csv')\n",
    "\n",
    "print(df)"
   ]
  },
  {
   "cell_type": "markdown",
   "id": "161a81c1-1102-44d8-aaae-cd6356b5ea7b",
   "metadata": {},
   "source": [
    "## max_rows"
   ]
  },
  {
   "cell_type": "code",
   "execution_count": 39,
   "id": "82d0a40d-f140-4905-8262-8da78b9087bd",
   "metadata": {},
   "outputs": [
    {
     "name": "stdout",
     "output_type": "stream",
     "text": [
      "60\n"
     ]
    }
   ],
   "source": [
    "print(pd.options.display.max_rows)"
   ]
  },
  {
   "cell_type": "markdown",
   "id": "b20ed8fb-5a33-4c20-a0b8-5ec09b59d72f",
   "metadata": {},
   "source": [
    "### 최대 행 수 늘리기 "
   ]
  },
  {
   "cell_type": "code",
   "execution_count": 43,
   "id": "15ba0687-236b-4036-af8e-0e0f2c3dfcc7",
   "metadata": {},
   "outputs": [
    {
     "name": "stdout",
     "output_type": "stream",
     "text": [
      "9999\n"
     ]
    }
   ],
   "source": [
    "import pandas as pd\n",
    "\n",
    "pd.options.display.max_rows = 9999\n",
    "\n",
    "df = pd.read_csv('./ref/data.csv')\n",
    "\n",
    "# print(df)\n",
    "print(pd.options.display.max_rows)"
   ]
  },
  {
   "cell_type": "markdown",
   "id": "fc4b8b08-6bb7-4e8f-80cf-130c3d305e13",
   "metadata": {},
   "source": [
    "# Pandas Read JSON"
   ]
  },
  {
   "cell_type": "code",
   "execution_count": 44,
   "id": "39c3371d-fbf3-4951-909e-f79298e66e55",
   "metadata": {},
   "outputs": [
    {
     "name": "stdout",
     "output_type": "stream",
     "text": [
      "     Duration  Pulse  Maxpulse  Calories\n",
      "0          60    110       130     409.1\n",
      "1          60    117       145     479.0\n",
      "2          60    103       135     340.0\n",
      "3          45    109       175     282.4\n",
      "4          45    117       148     406.0\n",
      "5          60    102       127     300.5\n",
      "6          60    110       136     374.0\n",
      "7          45    104       134     253.3\n",
      "8          30    109       133     195.1\n",
      "9          60     98       124     269.0\n",
      "10         60    103       147     329.3\n",
      "11         60    100       120     250.7\n",
      "12         60    106       128     345.3\n",
      "13         60    104       132     379.3\n",
      "14         60     98       123     275.0\n",
      "15         60     98       120     215.2\n",
      "16         60    100       120     300.0\n",
      "17         45     90       112       NaN\n",
      "18         60    103       123     323.0\n",
      "19         45     97       125     243.0\n",
      "20         60    108       131     364.2\n",
      "21         45    100       119     282.0\n",
      "22         60    130       101     300.0\n",
      "23         45    105       132     246.0\n",
      "24         60    102       126     334.5\n",
      "25         60    100       120     250.0\n",
      "26         60     92       118     241.0\n",
      "27         60    103       132       NaN\n",
      "28         60    100       132     280.0\n",
      "29         60    102       129     380.3\n",
      "30         60     92       115     243.0\n",
      "31         45     90       112     180.1\n",
      "32         60    101       124     299.0\n",
      "33         60     93       113     223.0\n",
      "34         60    107       136     361.0\n",
      "35         60    114       140     415.0\n",
      "36         60    102       127     300.5\n",
      "37         60    100       120     300.1\n",
      "38         60    100       120     300.0\n",
      "39         45    104       129     266.0\n",
      "40         45     90       112     180.1\n",
      "41         60     98       126     286.0\n",
      "42         60    100       122     329.4\n",
      "43         60    111       138     400.0\n",
      "44         60    111       131     397.0\n",
      "45         60     99       119     273.0\n",
      "46         60    109       153     387.6\n",
      "47         45    111       136     300.0\n",
      "48         45    108       129     298.0\n",
      "49         60    111       139     397.6\n",
      "50         60    107       136     380.2\n",
      "51         80    123       146     643.1\n",
      "52         60    106       130     263.0\n",
      "53         60    118       151     486.0\n",
      "54         30    136       175     238.0\n",
      "55         60    121       146     450.7\n",
      "56         60    118       121     413.0\n",
      "57         45    115       144     305.0\n",
      "58         20    153       172     226.4\n",
      "59         45    123       152     321.0\n",
      "60        210    108       160    1376.0\n",
      "61        160    110       137    1034.4\n",
      "62        160    109       135     853.0\n",
      "63         45    118       141     341.0\n",
      "64         20    110       130     131.4\n",
      "65        180     90       130     800.4\n",
      "66        150    105       135     873.4\n",
      "67        150    107       130     816.0\n",
      "68         20    106       136     110.4\n",
      "69        300    108       143    1500.2\n",
      "70        150     97       129    1115.0\n",
      "71         60    109       153     387.6\n",
      "72         90    100       127     700.0\n",
      "73        150     97       127     953.2\n",
      "74         45    114       146     304.0\n",
      "75         90     98       125     563.2\n",
      "76         45    105       134     251.0\n",
      "77         45    110       141     300.0\n",
      "78        120    100       130     500.4\n",
      "79        270    100       131    1729.0\n",
      "80         30    159       182     319.2\n",
      "81         45    149       169     344.0\n",
      "82         30    103       139     151.1\n",
      "83        120    100       130     500.0\n",
      "84         45    100       120     225.3\n",
      "85         30    151       170     300.1\n",
      "86         45    102       136     234.0\n",
      "87        120    100       157    1000.1\n",
      "88         45    129       103     242.0\n",
      "89         20     83       107      50.3\n",
      "90        180    101       127     600.1\n",
      "91         45    107       137       NaN\n",
      "92         30     90       107     105.3\n",
      "93         15     80       100      50.5\n",
      "94         20    150       171     127.4\n",
      "95         20    151       168     229.4\n",
      "96         30     95       128     128.2\n",
      "97         25    152       168     244.2\n",
      "98         30    109       131     188.2\n",
      "99         90     93       124     604.1\n",
      "100        20     95       112      77.7\n",
      "101        90     90       110     500.0\n",
      "102        90     90       100     500.0\n",
      "103        90     90       100     500.4\n",
      "104        30     92       108      92.7\n",
      "105        30     93       128     124.0\n",
      "106       180     90       120     800.3\n",
      "107        30     90       120      86.2\n",
      "108        90     90       120     500.3\n",
      "109       210    137       184    1860.4\n",
      "110        60    102       124     325.2\n",
      "111        45    107       124     275.0\n",
      "112        15    124       139     124.2\n",
      "113        45    100       120     225.3\n",
      "114        60    108       131     367.6\n",
      "115        60    108       151     351.7\n",
      "116        60    116       141     443.0\n",
      "117        60     97       122     277.4\n",
      "118        60    105       125       NaN\n",
      "119        60    103       124     332.7\n",
      "120        30    112       137     193.9\n",
      "121        45    100       120     100.7\n",
      "122        60    119       169     336.7\n",
      "123        60    107       127     344.9\n",
      "124        60    111       151     368.5\n",
      "125        60     98       122     271.0\n",
      "126        60     97       124     275.3\n",
      "127        60    109       127     382.0\n",
      "128        90     99       125     466.4\n",
      "129        60    114       151     384.0\n",
      "130        60    104       134     342.5\n",
      "131        60    107       138     357.5\n",
      "132        60    103       133     335.0\n",
      "133        60    106       132     327.5\n",
      "134        60    103       136     339.0\n",
      "135        20    136       156     189.0\n",
      "136        45    117       143     317.7\n",
      "137        45    115       137     318.0\n",
      "138        45    113       138     308.0\n",
      "139        20    141       162     222.4\n",
      "140        60    108       135     390.0\n",
      "141        60     97       127       NaN\n",
      "142        45    100       120     250.4\n",
      "143        45    122       149     335.4\n",
      "144        60    136       170     470.2\n",
      "145        45    106       126     270.8\n",
      "146        60    107       136     400.0\n",
      "147        60    112       146     361.9\n",
      "148        30    103       127     185.0\n",
      "149        60    110       150     409.4\n",
      "150        60    106       134     343.0\n",
      "151        60    109       129     353.2\n",
      "152        60    109       138     374.0\n",
      "153        30    150       167     275.8\n",
      "154        60    105       128     328.0\n",
      "155        60    111       151     368.5\n",
      "156        60     97       131     270.4\n",
      "157        60    100       120     270.4\n",
      "158        60    114       150     382.8\n",
      "159        30     80       120     240.9\n",
      "160        30     85       120     250.4\n",
      "161        45     90       130     260.4\n",
      "162        45     95       130     270.0\n",
      "163        45    100       140     280.9\n",
      "164        60    105       140     290.8\n",
      "165        60    110       145     300.4\n",
      "166        60    115       145     310.2\n",
      "167        75    120       150     320.4\n",
      "168        75    125       150     330.4\n"
     ]
    }
   ],
   "source": [
    "import pandas as pd\n",
    "\n",
    "df = pd.read_json('./ref/data.json')\n",
    "\n",
    "print(df.to_string()) \n"
   ]
  },
  {
   "cell_type": "markdown",
   "id": "0c9858f2-5831-4a35-a396-608c27cd591e",
   "metadata": {},
   "source": [
    "## Dictionary as JSON"
   ]
  },
  {
   "cell_type": "code",
   "execution_count": 46,
   "id": "24d42e63-c438-488a-af89-3ced9fd1c138",
   "metadata": {},
   "outputs": [
    {
     "name": "stdout",
     "output_type": "stream",
     "text": [
      "   Duration  Pulse  Maxpulse  Calories\n",
      "0        60    110       130       409\n",
      "1        60    117       145       479\n",
      "2        60    103       135       340\n",
      "3        45    109       175       282\n",
      "4        45    117       148       406\n",
      "5        60    102       127       300\n"
     ]
    },
    {
     "data": {
      "text/html": [
       "<div>\n",
       "<style scoped>\n",
       "    .dataframe tbody tr th:only-of-type {\n",
       "        vertical-align: middle;\n",
       "    }\n",
       "\n",
       "    .dataframe tbody tr th {\n",
       "        vertical-align: top;\n",
       "    }\n",
       "\n",
       "    .dataframe thead th {\n",
       "        text-align: right;\n",
       "    }\n",
       "</style>\n",
       "<table border=\"1\" class=\"dataframe\">\n",
       "  <thead>\n",
       "    <tr style=\"text-align: right;\">\n",
       "      <th></th>\n",
       "      <th>Duration</th>\n",
       "      <th>Pulse</th>\n",
       "      <th>Maxpulse</th>\n",
       "      <th>Calories</th>\n",
       "    </tr>\n",
       "  </thead>\n",
       "  <tbody>\n",
       "    <tr>\n",
       "      <th>0</th>\n",
       "      <td>60</td>\n",
       "      <td>110</td>\n",
       "      <td>130</td>\n",
       "      <td>409</td>\n",
       "    </tr>\n",
       "    <tr>\n",
       "      <th>1</th>\n",
       "      <td>60</td>\n",
       "      <td>117</td>\n",
       "      <td>145</td>\n",
       "      <td>479</td>\n",
       "    </tr>\n",
       "    <tr>\n",
       "      <th>2</th>\n",
       "      <td>60</td>\n",
       "      <td>103</td>\n",
       "      <td>135</td>\n",
       "      <td>340</td>\n",
       "    </tr>\n",
       "    <tr>\n",
       "      <th>3</th>\n",
       "      <td>45</td>\n",
       "      <td>109</td>\n",
       "      <td>175</td>\n",
       "      <td>282</td>\n",
       "    </tr>\n",
       "    <tr>\n",
       "      <th>4</th>\n",
       "      <td>45</td>\n",
       "      <td>117</td>\n",
       "      <td>148</td>\n",
       "      <td>406</td>\n",
       "    </tr>\n",
       "    <tr>\n",
       "      <th>5</th>\n",
       "      <td>60</td>\n",
       "      <td>102</td>\n",
       "      <td>127</td>\n",
       "      <td>300</td>\n",
       "    </tr>\n",
       "  </tbody>\n",
       "</table>\n",
       "</div>"
      ],
      "text/plain": [
       "   Duration  Pulse  Maxpulse  Calories\n",
       "0        60    110       130       409\n",
       "1        60    117       145       479\n",
       "2        60    103       135       340\n",
       "3        45    109       175       282\n",
       "4        45    117       148       406\n",
       "5        60    102       127       300"
      ]
     },
     "execution_count": 46,
     "metadata": {},
     "output_type": "execute_result"
    }
   ],
   "source": [
    "import pandas as pd\n",
    "\n",
    "data = {\n",
    "  \"Duration\":{\n",
    "    \"0\":60,\n",
    "    \"1\":60,\n",
    "    \"2\":60,\n",
    "    \"3\":45,\n",
    "    \"4\":45,\n",
    "    \"5\":60\n",
    "  },\n",
    "  \"Pulse\":{\n",
    "    \"0\":110,\n",
    "    \"1\":117,\n",
    "    \"2\":103,\n",
    "    \"3\":109,\n",
    "    \"4\":117,\n",
    "    \"5\":102\n",
    "  },\n",
    "  \"Maxpulse\":{\n",
    "    \"0\":130,\n",
    "    \"1\":145,\n",
    "    \"2\":135,\n",
    "    \"3\":175,\n",
    "    \"4\":148,\n",
    "    \"5\":127\n",
    "  },\n",
    "  \"Calories\":{\n",
    "    \"0\":409,\n",
    "    \"1\":479,\n",
    "    \"2\":340,\n",
    "    \"3\":282,\n",
    "    \"4\":406,\n",
    "    \"5\":300\n",
    "  }\n",
    "}\n",
    "\n",
    "df = pd.DataFrame(data)\n",
    "\n",
    "print(df) \n",
    "df"
   ]
  },
  {
   "cell_type": "markdown",
   "id": "0528c79e-cc15-4adf-b19b-7850556bb165",
   "metadata": {},
   "source": [
    "# Pandas - Analyzing DataFrames"
   ]
  },
  {
   "cell_type": "markdown",
   "id": "20fb6b20-1db4-446a-95d2-a39c232cb4c9",
   "metadata": {},
   "source": [
    "## Viewing the Data"
   ]
  },
  {
   "cell_type": "code",
   "execution_count": 47,
   "id": "59aac652-c0e2-422a-8900-6e931353b222",
   "metadata": {},
   "outputs": [
    {
     "name": "stdout",
     "output_type": "stream",
     "text": [
      "   Duration  Pulse  Maxpulse  Calories\n",
      "0        60    110       130     409.1\n",
      "1        60    117       145     479.0\n",
      "2        60    103       135     340.0\n",
      "3        45    109       175     282.4\n",
      "4        45    117       148     406.0\n",
      "5        60    102       127     300.0\n",
      "6        60    110       136     374.0\n",
      "7        45    104       134     253.3\n",
      "8        30    109       133     195.1\n",
      "9        60     98       124     269.0\n"
     ]
    }
   ],
   "source": [
    "import pandas as pd\n",
    "\n",
    "df = pd.read_csv('./ref/data.csv')\n",
    "\n",
    "print(df.head(10))"
   ]
  },
  {
   "cell_type": "code",
   "execution_count": 48,
   "id": "88783bea-e05e-49de-b47b-b9e6cd88073b",
   "metadata": {},
   "outputs": [
    {
     "name": "stdout",
     "output_type": "stream",
     "text": [
      "   Duration  Pulse  Maxpulse  Calories\n",
      "0        60    110       130     409.1\n",
      "1        60    117       145     479.0\n",
      "2        60    103       135     340.0\n",
      "3        45    109       175     282.4\n",
      "4        45    117       148     406.0\n"
     ]
    }
   ],
   "source": [
    "print(df.head())"
   ]
  },
  {
   "cell_type": "code",
   "execution_count": 49,
   "id": "b1f68dce-c730-44ac-8379-c759126b5451",
   "metadata": {},
   "outputs": [
    {
     "name": "stdout",
     "output_type": "stream",
     "text": [
      "     Duration  Pulse  Maxpulse  Calories\n",
      "164        60    105       140     290.8\n",
      "165        60    110       145     300.0\n",
      "166        60    115       145     310.2\n",
      "167        75    120       150     320.4\n",
      "168        75    125       150     330.4\n"
     ]
    }
   ],
   "source": [
    "print(df.tail())"
   ]
  },
  {
   "cell_type": "markdown",
   "id": "b8b72c3e-0cb2-4f10-b4e1-38529ed8a7cc",
   "metadata": {},
   "source": [
    "## Info About the Data"
   ]
  },
  {
   "cell_type": "code",
   "execution_count": 50,
   "id": "849e5fd2-5ef1-4ad1-b4af-b7b44aa44cd9",
   "metadata": {},
   "outputs": [
    {
     "name": "stdout",
     "output_type": "stream",
     "text": [
      "<class 'pandas.core.frame.DataFrame'>\n",
      "RangeIndex: 169 entries, 0 to 168\n",
      "Data columns (total 4 columns):\n",
      " #   Column    Non-Null Count  Dtype  \n",
      "---  ------    --------------  -----  \n",
      " 0   Duration  169 non-null    int64  \n",
      " 1   Pulse     169 non-null    int64  \n",
      " 2   Maxpulse  169 non-null    int64  \n",
      " 3   Calories  164 non-null    float64\n",
      "dtypes: float64(1), int64(3)\n",
      "memory usage: 5.4 KB\n",
      "None\n"
     ]
    }
   ],
   "source": [
    "print(df.info()) "
   ]
  },
  {
   "cell_type": "markdown",
   "id": "36b3b69c-4cc2-4a73-a679-d01fe0cecd20",
   "metadata": {},
   "source": [
    "### 결과 설명"
   ]
  },
  {
   "cell_type": "code",
   "execution_count": 51,
   "id": "f13428f9-b5ed-407c-aea2-b4d3511837f0",
   "metadata": {},
   "outputs": [],
   "source": [
    "# <class 'pandas.core.frame.DataFrame'>\n",
    "# RangeIndex: 169 entries, 0 to 168 -> 결과는 169개의 행과 4개의 열이 있다는 것을 알려줍니다.\n",
    "# Data columns (total 4 columns):   -> 각 열의 이름과 데이터 유형은 다음과 같습니다.\n",
    "#  #   Column    Non-Null Count  Dtype  \n",
    "# ---  ------    --------------  -----  \n",
    "#  0   Duration  169 non-null    int64  \n",
    "#  1   Pulse     169 non-null    int64  \n",
    "#  2   Maxpulse  169 non-null    int64  \n",
    "#  3   Calories  164 non-null    float64\n",
    "# dtypes: float64(1), int64(3)\n",
    "# memory usage: 5.4 KB\n",
    "# None"
   ]
  },
  {
   "cell_type": "markdown",
   "id": "99de8d94-d8e0-4d93-9e37-52b8e998d831",
   "metadata": {},
   "source": [
    "Null 값\n",
    "- 이 info()방법은 또한 각 열에 얼마나 많은 Null이 아닌 값이 있는지 알려줍니다. <br>우리 데이터 집합에서는 \"Calories\" 열에 169개 중 164개의 Null이 없는 값이 있는 것으로 보입니다.\n",
    "- 즉, \"칼로리\" 열에는 어떤 이유에서인지 값이 없는 행이 5개 있습니다.\n",
    "- 빈 값 또는 Null 값은 데이터를 분석할 때 나쁠 수 있으며, 빈 값이 있는 행을 제거하는 것을 고려해야 합니다"
   ]
  },
  {
   "cell_type": "markdown",
   "id": "99b8f4c6-a513-452b-b5ad-e871b0ca941f",
   "metadata": {},
   "source": [
    "# Pandas - Cleaning Data"
   ]
  },
  {
   "cell_type": "markdown",
   "id": "f8b6a986-01f8-49cb-903d-b7a95ade5798",
   "metadata": {},
   "source": [
    "- 빈 셀\n",
    "- 잘못된 형식의 데이터\n",
    "- 잘못된 데이터\n",
    "- 중복"
   ]
  },
  {
   "cell_type": "markdown",
   "id": "15a22609-91b2-4ae7-bc5d-f1fcab265cef",
   "metadata": {},
   "source": [
    "## Empty Cells"
   ]
  },
  {
   "cell_type": "code",
   "execution_count": 26,
   "id": "ded25a3a-91ee-49d1-8184-2f983aff0353",
   "metadata": {},
   "outputs": [
    {
     "name": "stdout",
     "output_type": "stream",
     "text": [
      "          Duration          Date  Pulse  Maxpulse  Calories\n",
      "0     0         60  '2020/12/01'    110       130     409.1\n",
      "1     1         60  '2020/12/02'    117       145     479.0\n",
      "2     2         60  '2020/12/03'    103       135     340.0\n",
      "3     3         45  '2020/12/04'    109       175     282.4\n",
      "4     4         45  '2020/12/05'    117       148     406.0\n",
      "5     5         60  '2020/12/06'    102       127     300.0\n",
      "6     6         60  '2020/12/07'    110       136     374.0\n",
      "7     7        450  '2020/12/08'    104       134     253.3\n",
      "8     8         30  '2020/12/09'    109       133     195.1\n",
      "9     9         60  '2020/12/10'     98       124     269.0\n",
      "10    10        60  '2020/12/11'    103       147     329.3\n",
      "11    11        60  '2020/12/12'    100       120     250.7\n",
      "12    12        60  '2020/12/12'    100       120     250.7\n",
      "13    13        60  '2020/12/13'    106       128     345.3\n",
      "14    14        60  '2020/12/14'    104       132     379.3\n",
      "15    15        60  '2020/12/15'     98       123     275.0\n",
      "16    16        60  '2020/12/16'     98       120     215.2\n",
      "17    17        60  '2020/12/17'    100       120     300.0\n",
      "18    18        45  '2020/12/18'     90       112       NaN\n",
      "19    19        60  '2020/12/19'    103       123     323.0\n",
      "20    20        45  '2020/12/20'     97       125     243.0\n",
      "21    21        60  '2020/12/21'    108       131     364.2\n",
      "22    22        45           NaN    100       119     282.0\n",
      "23    23        60  '2020/12/23'    130       101     300.0\n",
      "24    24        45  '2020/12/24'    105       132     246.0\n",
      "25    25        60  '2020/12/25'    102       126     334.5\n",
      "26    26        60    2020/12/26    100       120     250.0\n",
      "27    27        60  '2020/12/27'     92       118     241.0\n",
      "28    28        60  '2020/12/28'    103       132       NaN\n",
      "29    29        60  '2020/12/29'    100       132     280.0\n",
      "30    30        60  '2020/12/30'    102       129     380.3\n",
      "31    31        60  '2020/12/31'     92       115     243.0\n"
     ]
    }
   ],
   "source": [
    "import pandas as pd\n",
    "\n",
    "df = pd.read_csv('./ref/data2.csv')\n",
    "\n",
    "new_df = df.dropna()\n",
    "# dropna()메서드는 새 DataFrame을 반환하며 원본은 변경하지 않는다.\n",
    "\n",
    "print(new_df.to_string())"
   ]
  },
  {
   "cell_type": "code",
   "execution_count": 27,
   "id": "9600ae81-150e-439d-bb9d-f9fbc284a37d",
   "metadata": {},
   "outputs": [
    {
     "name": "stdout",
     "output_type": "stream",
     "text": [
      "          Duration          Date  Pulse  Maxpulse  Calories\n",
      "0     0         60  '2020/12/01'    110       130     409.1\n",
      "1     1         60  '2020/12/02'    117       145     479.0\n",
      "2     2         60  '2020/12/03'    103       135     340.0\n",
      "3     3         45  '2020/12/04'    109       175     282.4\n",
      "4     4         45  '2020/12/05'    117       148     406.0\n",
      "5     5         60  '2020/12/06'    102       127     300.0\n",
      "6     6         60  '2020/12/07'    110       136     374.0\n",
      "7     7        450  '2020/12/08'    104       134     253.3\n",
      "8     8         30  '2020/12/09'    109       133     195.1\n",
      "9     9         60  '2020/12/10'     98       124     269.0\n",
      "10    10        60  '2020/12/11'    103       147     329.3\n",
      "11    11        60  '2020/12/12'    100       120     250.7\n",
      "12    12        60  '2020/12/12'    100       120     250.7\n",
      "13    13        60  '2020/12/13'    106       128     345.3\n",
      "14    14        60  '2020/12/14'    104       132     379.3\n",
      "15    15        60  '2020/12/15'     98       123     275.0\n",
      "16    16        60  '2020/12/16'     98       120     215.2\n",
      "17    17        60  '2020/12/17'    100       120     300.0\n",
      "18    18        45  '2020/12/18'     90       112       NaN\n",
      "19    19        60  '2020/12/19'    103       123     323.0\n",
      "20    20        45  '2020/12/20'     97       125     243.0\n",
      "21    21        60  '2020/12/21'    108       131     364.2\n",
      "22    22        45           NaN    100       119     282.0\n",
      "23    23        60  '2020/12/23'    130       101     300.0\n",
      "24    24        45  '2020/12/24'    105       132     246.0\n",
      "25    25        60  '2020/12/25'    102       126     334.5\n",
      "26    26        60    2020/12/26    100       120     250.0\n",
      "27    27        60  '2020/12/27'     92       118     241.0\n",
      "28    28        60  '2020/12/28'    103       132       NaN\n",
      "29    29        60  '2020/12/29'    100       132     280.0\n",
      "30    30        60  '2020/12/30'    102       129     380.3\n",
      "31    31        60  '2020/12/31'     92       115     243.0\n"
     ]
    }
   ],
   "source": [
    "# NULL 값이 있는 모든 행을 제거 -> inplace = True 사용\n",
    "# 원래라면 nan값이 삭제 되어서 출력되어야하는데 csv파일에 오류가 생긴 것 같음\n",
    "\n",
    "# df = pd.read_csv('./ref/data2.csv')\n",
    "df = pd.read_csv('./ref/data2.csv',  sep=\",\")\n",
    "\n",
    "df.dropna(inplace = True)\n",
    "# dropna(inplace = True)새 DataFrame을 반환하지 않지만 원래 DataFrame에서 NULL 값을 포함하는 모든 행을 제거.\n",
    "\n",
    "print(df.to_string())"
   ]
  },
  {
   "cell_type": "code",
   "execution_count": 28,
   "id": "ff05b2b3-5e54-4357-9108-8c1fdc997886",
   "metadata": {},
   "outputs": [
    {
     "name": "stdout",
     "output_type": "stream",
     "text": [
      "<class 'pandas.core.frame.DataFrame'>\n",
      "RangeIndex: 32 entries, 0 to 31\n",
      "Data columns (total 1 columns):\n",
      " #   Column                                             Non-Null Count  Dtype \n",
      "---  ------                                             --------------  ----- \n",
      " 0   Duration          Date  Pulse  Maxpulse  Calories  32 non-null     object\n",
      "dtypes: object(1)\n",
      "memory usage: 388.0+ bytes\n",
      "None\n"
     ]
    }
   ],
   "source": [
    "print(df.info())\n"
   ]
  },
  {
   "cell_type": "markdown",
   "id": "a53e59c3-0794-4d58-aa50-7635a232fcf8",
   "metadata": {},
   "source": [
    "## Replace Empty Values - fillna()"
   ]
  },
  {
   "cell_type": "code",
   "execution_count": 29,
   "id": "ca75e441-25d5-433a-ae7f-37880ff05509",
   "metadata": {},
   "outputs": [
    {
     "name": "stdout",
     "output_type": "stream",
     "text": [
      "    Duration          Date  Pulse  Maxpulse  Calories\n",
      "0     0         60  '2020/12/01'    110       130 ...\n",
      "1     1         60  '2020/12/02'    117       145 ...\n",
      "2     2         60  '2020/12/03'    103       135 ...\n",
      "3     3         45  '2020/12/04'    109       175 ...\n",
      "4     4         45  '2020/12/05'    117       148 ...\n",
      "5     5         60  '2020/12/06'    102       127 ...\n",
      "6     6         60  '2020/12/07'    110       136 ...\n",
      "7     7        450  '2020/12/08'    104       134 ...\n",
      "8     8         30  '2020/12/09'    109       133 ...\n",
      "9     9         60  '2020/12/10'     98       124 ...\n",
      "10    10        60  '2020/12/11'    103       147 ...\n",
      "11    11        60  '2020/12/12'    100       120 ...\n",
      "12    12        60  '2020/12/12'    100       120 ...\n",
      "13    13        60  '2020/12/13'    106       128 ...\n",
      "14    14        60  '2020/12/14'    104       132 ...\n",
      "15    15        60  '2020/12/15'     98       123 ...\n",
      "16    16        60  '2020/12/16'     98       120 ...\n",
      "17    17        60  '2020/12/17'    100       120 ...\n",
      "18    18        45  '2020/12/18'     90       112 ...\n",
      "19    19        60  '2020/12/19'    103       123 ...\n",
      "20    20        45  '2020/12/20'     97       125 ...\n",
      "21    21        60  '2020/12/21'    108       131 ...\n",
      "22    22        45           NaN    100       119 ...\n",
      "23    23        60  '2020/12/23'    130       101 ...\n",
      "24    24        45  '2020/12/24'    105       132 ...\n",
      "25    25        60  '2020/12/25'    102       126 ...\n",
      "26    26        60    2020/12/26    100       120 ...\n",
      "27    27        60  '2020/12/27'     92       118 ...\n",
      "28    28        60  '2020/12/28'    103       132 ...\n",
      "29    29        60  '2020/12/29'    100       132 ...\n",
      "30    30        60  '2020/12/30'    102       129 ...\n",
      "31    31        60  '2020/12/31'     92       115 ...\n"
     ]
    }
   ],
   "source": [
    "import pandas as pd\n",
    "\n",
    "df = pd.read_csv('./ref/data2.csv')\n",
    "\n",
    "df.fillna(130, inplace = True) \n",
    "# 이렇게 하면 nan라고 나오는 데이터 전부가 바뀜\n",
    "\n",
    "print(df)"
   ]
  },
  {
   "cell_type": "markdown",
   "id": "6d608c79-2c2e-4e6d-8945-069f811780cb",
   "metadata": {},
   "source": [
    "## Replace Only For Specified Columns"
   ]
  },
  {
   "cell_type": "code",
   "execution_count": null,
   "id": "78a8dcfb-5098-4876-abe3-8a480f7ef008",
   "metadata": {},
   "outputs": [],
   "source": [
    "import pandas as pd\n",
    "\n",
    "df = pd.read_csv('./ref/data2.csv')\n",
    "\n",
    "df[\"Calories\"].fillna(130, inplace = True)"
   ]
  },
  {
   "cell_type": "markdown",
   "id": "938debe8-8ae6-4c85-bb60-5cfc79db8b26",
   "metadata": {},
   "source": [
    "Replace Using Mean, Median, or Mode"
   ]
  },
  {
   "cell_type": "markdown",
   "id": "9bd6f1ca-a464-4387-a817-528c35830966",
   "metadata": {},
   "source": [
    "## mean() median() mode()"
   ]
  },
  {
   "cell_type": "markdown",
   "id": "c5f1e6c6-c3be-4ed2-8a38-988e7f224f0c",
   "metadata": {},
   "source": [
    "### 1. mean() - 평균\n",
    "mean() 함수는 데이터의 산술 평균(평균값, Arithmetic Mean) 을 계산합니다.\n",
    "즉, 모든 값의 합을 요소 개수로 나눈 값입니다."
   ]
  },
  {
   "cell_type": "code",
   "execution_count": 2,
   "id": "8b8f9ca3-6c48-4cea-a482-755bef0b7696",
   "metadata": {},
   "outputs": [
    {
     "name": "stdout",
     "output_type": "stream",
     "text": [
      "30.0\n"
     ]
    }
   ],
   "source": [
    "import pandas as pd\n",
    "\n",
    "data = pd.Series([10, 20, 30, 40, 50])\n",
    "print(data.mean())"
   ]
  },
  {
   "cell_type": "markdown",
   "id": "741a9a8b-77f9-4c37-be18-5b7e4f1adb23",
   "metadata": {},
   "source": [
    "### median() - 중앙값\n",
    "median() 함수는 중앙값(Median) 을 반환합니다.\n",
    "모든 값을 오름차순으로 정렬했을 때 중앙에 있는 값을 의미하며, 데이터 개수가 짝수일 경우 중간 두 값의 평균을 반환합니다."
   ]
  },
  {
   "cell_type": "code",
   "execution_count": 3,
   "id": "4355571f-02ca-420a-8e8d-351ac6631256",
   "metadata": {},
   "outputs": [
    {
     "name": "stdout",
     "output_type": "stream",
     "text": [
      "30.0\n",
      "25.0\n"
     ]
    }
   ],
   "source": [
    "data = pd.Series([10, 20, 30, 40, 50])\n",
    "print(data.median())  \n",
    "\n",
    "data_even = pd.Series([10, 20, 30, 40])\n",
    "print(data_even.median()) "
   ]
  },
  {
   "cell_type": "markdown",
   "id": "d684226b-cada-4356-8a3b-59da01af4bb6",
   "metadata": {},
   "source": [
    "### mode() - 최빈값\n",
    "mode() 함수는 가장 자주 등장하는 값(최빈값, Mode) 을 반환합니다.\n",
    "최빈값이 여러 개일 경우, Pandas는 모든 최빈값을 반환합니다."
   ]
  },
  {
   "cell_type": "code",
   "execution_count": 4,
   "id": "457971b6-8abd-4540-a15d-0e1efbe4d16d",
   "metadata": {},
   "outputs": [
    {
     "name": "stdout",
     "output_type": "stream",
     "text": [
      "0    3\n",
      "dtype: int64\n",
      "0    2\n",
      "1    3\n",
      "dtype: int64\n"
     ]
    }
   ],
   "source": [
    "data = pd.Series([1, 2, 2, 3, 3, 3, 4, 4])\n",
    "print(data.mode())\n",
    "\n",
    "data2 = pd.Series([1, 2, 2, 3, 3])\n",
    "print(data2.mode())  "
   ]
  },
  {
   "cell_type": "markdown",
   "id": "aec27308-e0ce-4047-a5ad-d48bc51618d4",
   "metadata": {},
   "source": [
    "## Pandas - Cleaning Data of Wrong Format"
   ]
  },
  {
   "cell_type": "markdown",
   "id": "d483c23d-c552-4703-a3f2-1bf73c13eba6",
   "metadata": {},
   "source": [
    "### to_datetime"
   ]
  },
  {
   "cell_type": "code",
   "execution_count": null,
   "id": "51b96388-eb3c-446f-b8a7-38315bb1b185",
   "metadata": {},
   "outputs": [],
   "source": [
    "import pandas as pd\n",
    "\n",
    "df = pd.read_csv('./ref/data2.csv')\n",
    "\n",
    "df['Date'] = pd.to_datetime(df['Date'])\n",
    "\n",
    "print(df.to_string())"
   ]
  },
  {
   "cell_type": "code",
   "execution_count": null,
   "id": "1679944a-a7c4-4006-97c7-9596ea87d1ac",
   "metadata": {},
   "outputs": [],
   "source": [
    "  # 22 45 NaN 100 119 282.0 \n",
    "  # 23 60 '2020/12/23' 130 101 300.0 \n",
    "  # 24 45 '2020/12/24' 105 132 246.0 \n",
    "  # 25 60 '2020/12/25' 102 126 334.5 \n",
    "  # 26 60 20201226 100 120 250.0 \n",
    "\n",
    "# 위와 같이 nan 값이나 잘못 입력된 날짜의 형식이 \n",
    "\n",
    "  # 22 45 NaT 100 119 282.0 \n",
    "  # 23 60 '2020/12/23' 130 101 300.0 \n",
    "  # 24 45 '2020/12/24' 105 132 246.0 \n",
    "  # 25 60 '2020/12/25' 102 126 334.5 \n",
    "  # 26 60 '2020/12/26' 100 120 250.0 \n",
    "\n",
    "#not a time 이라는 값을 얻거나 날짜 형식대로 변환"
   ]
  },
  {
   "cell_type": "markdown",
   "id": "03c6c777-3068-4633-9f44-77e8077146ef",
   "metadata": {},
   "source": [
    "### 행 제거"
   ]
  },
  {
   "cell_type": "code",
   "execution_count": null,
   "id": "6f17f546-5100-4d2e-b1e7-8fe0fdc4d95f",
   "metadata": {},
   "outputs": [],
   "source": [
    "# NaT 값을 제공하는데, 이는 NULL 값으로 처리할 수 있으며, 해당 dropna()메서드를 사용하여 행을 제거할 수 있습니다.\n",
    "df.dropna(subset=['Date'], inplace = True)"
   ]
  },
  {
   "cell_type": "markdown",
   "id": "ece970f0-208c-486f-9d8d-81d8b74c5437",
   "metadata": {},
   "source": [
    "# Pandas - Fixing Wrong Data\n"
   ]
  },
  {
   "cell_type": "markdown",
   "id": "dcbc107a-bab6-4f60-bb4b-1bef14684509",
   "metadata": {},
   "source": [
    "\"잘못된 데이터\"는 반드시 \"빈 셀\"이나 \"잘못된 형식\"일 필요는 없으며, 단순히 \"1.99\" 대신 \"199\"를 등록한 경우처럼 잘못된 것일 수도 있습니다."
   ]
  },
  {
   "cell_type": "markdown",
   "id": "28c7c77c-09e0-4ab7-9089-d09f7bba66dd",
   "metadata": {},
   "source": [
    "### Replacing Values"
   ]
  },
  {
   "cell_type": "code",
   "execution_count": null,
   "id": "e130100d-44e5-44be-9905-813a31e89a2e",
   "metadata": {},
   "outputs": [],
   "source": [
    "df.loc[7, 'Duration'] = 45"
   ]
  },
  {
   "cell_type": "code",
   "execution_count": 10,
   "id": "f1708c81-8f1a-45e7-8719-d96fd26ee58d",
   "metadata": {},
   "outputs": [],
   "source": [
    "#작은 데이터 세트의 경우 잘못된 데이터를 하나씩 바꿀 수 있지만, 큰 데이터 세트의 경우 그럴 수 없습니다.\n",
    "#더 큰 데이터 집합에서 잘못된 데이터를 대체하려면 몇 가지 규칙을 만들 수 있습니다. \n",
    "#예를 들어, 합법적인 값에 대한 경계를 설정하고 경계 밖에 있는 모든 값을 대체할 수 있습니다.\n",
    "\n",
    "# ex 값이 120보다 큰 경우 120으로 설정합니다.\n",
    "for x in df.index:\n",
    "  if df.loc[x, \"Duration\"] > 120:\n",
    "    df.loc[x, \"Duration\"] = 120"
   ]
  },
  {
   "cell_type": "markdown",
   "id": "3dbf159f-1229-4fad-a7fe-1b363c54c55e",
   "metadata": {},
   "source": [
    "### Removing Rows"
   ]
  },
  {
   "cell_type": "code",
   "execution_count": null,
   "id": "94e7f125-311e-4524-a5e3-7231df454924",
   "metadata": {},
   "outputs": [],
   "source": [
    "for x in df.index:\n",
    "  if df.loc[x, \"Duration\"] > 120:\n",
    "    df.drop(x, inplace = True)"
   ]
  },
  {
   "cell_type": "markdown",
   "id": "bf21372a-25fb-4635-907f-6a2163b254f8",
   "metadata": {},
   "source": [
    "# Pandas - Removing Duplicates"
   ]
  },
  {
   "cell_type": "markdown",
   "id": "f21535cf-02d8-486e-b046-21f17f4f09ae",
   "metadata": {},
   "source": [
    "### duplicated()\n",
    "duplicated() 사용하면 중복된 값은 True, 중복되지 않은 값은 False로 나온다"
   ]
  },
  {
   "cell_type": "code",
   "execution_count": null,
   "id": "c39938a5-7920-4fe1-8906-45c6764ea79c",
   "metadata": {},
   "outputs": [],
   "source": [
    "print(df.duplicated())"
   ]
  },
  {
   "cell_type": "markdown",
   "id": "a9a56719-a7f4-411d-8496-cfa0b963b98a",
   "metadata": {},
   "source": [
    "### Removing Duplicates"
   ]
  },
  {
   "cell_type": "markdown",
   "id": "0df83fbd-8fd3-489f-8485-de52352662e0",
   "metadata": {},
   "source": [
    "이 메서드(inplace = True)는 새 DataFrame을 반환하지 않지만 , 원본 DataFrame 에서 모든 중복을 제거합니다."
   ]
  },
  {
   "cell_type": "code",
   "execution_count": null,
   "id": "e4723773-9622-48a6-a714-2837e467deba",
   "metadata": {},
   "outputs": [],
   "source": [
    "df.drop_duplicates(inplace = True)"
   ]
  },
  {
   "cell_type": "markdown",
   "id": "a3b42280-cc7f-4098-82d7-e7ecd34e5935",
   "metadata": {},
   "source": [
    "# Pandas - Data Correlations"
   ]
  },
  {
   "cell_type": "markdown",
   "id": "5d9ffd61-960c-49d0-8ec7-3324854a8ae6",
   "metadata": {},
   "source": [
    "## Finding Relationships"
   ]
  },
  {
   "cell_type": "code",
   "execution_count": 12,
   "id": "384cb673-51ba-4abb-ba8d-544eb026cce7",
   "metadata": {},
   "outputs": [
    {
     "data": {
      "text/html": [
       "<div>\n",
       "<style scoped>\n",
       "    .dataframe tbody tr th:only-of-type {\n",
       "        vertical-align: middle;\n",
       "    }\n",
       "\n",
       "    .dataframe tbody tr th {\n",
       "        vertical-align: top;\n",
       "    }\n",
       "\n",
       "    .dataframe thead th {\n",
       "        text-align: right;\n",
       "    }\n",
       "</style>\n",
       "<table border=\"1\" class=\"dataframe\">\n",
       "  <thead>\n",
       "    <tr style=\"text-align: right;\">\n",
       "      <th></th>\n",
       "      <th>Duration</th>\n",
       "      <th>Pulse</th>\n",
       "      <th>Maxpulse</th>\n",
       "      <th>Calories</th>\n",
       "    </tr>\n",
       "  </thead>\n",
       "  <tbody>\n",
       "    <tr>\n",
       "      <th>Duration</th>\n",
       "      <td>1.000000</td>\n",
       "      <td>-0.155408</td>\n",
       "      <td>0.009403</td>\n",
       "      <td>0.922717</td>\n",
       "    </tr>\n",
       "    <tr>\n",
       "      <th>Pulse</th>\n",
       "      <td>-0.155408</td>\n",
       "      <td>1.000000</td>\n",
       "      <td>0.786535</td>\n",
       "      <td>0.025121</td>\n",
       "    </tr>\n",
       "    <tr>\n",
       "      <th>Maxpulse</th>\n",
       "      <td>0.009403</td>\n",
       "      <td>0.786535</td>\n",
       "      <td>1.000000</td>\n",
       "      <td>0.203813</td>\n",
       "    </tr>\n",
       "    <tr>\n",
       "      <th>Calories</th>\n",
       "      <td>0.922717</td>\n",
       "      <td>0.025121</td>\n",
       "      <td>0.203813</td>\n",
       "      <td>1.000000</td>\n",
       "    </tr>\n",
       "  </tbody>\n",
       "</table>\n",
       "</div>"
      ],
      "text/plain": [
       "          Duration     Pulse  Maxpulse  Calories\n",
       "Duration  1.000000 -0.155408  0.009403  0.922717\n",
       "Pulse    -0.155408  1.000000  0.786535  0.025121\n",
       "Maxpulse  0.009403  0.786535  1.000000  0.203813\n",
       "Calories  0.922717  0.025121  0.203813  1.000000"
      ]
     },
     "execution_count": 12,
     "metadata": {},
     "output_type": "execute_result"
    }
   ],
   "source": [
    "# corr()방법은 \"숫자가 아닌\" 열을 무시\n",
    "import pandas as pd\n",
    "\n",
    "df = pd.read_csv('./ref/data3.csv')\n",
    "df.corr()"
   ]
  },
  {
   "cell_type": "markdown",
   "id": "cd1b8190-7dfd-47c7-8610-c54b44e3ee23",
   "metadata": {},
   "source": [
    "결과는 corr()두 열 사이의 관계가 얼마나 좋은지를 나타내는 많은 숫자가 포함된 표입니다.\n",
    "\n",
    "숫자는 -1부터 1까지입니다.\n",
    "\n",
    "1은 1 대 1 관계(완벽한 상관 관계)가 있음을 의미하고, 이 데이터 집합의 경우 첫 번째 열의 값이 올라갈 때마다 다른 열의 값도 함께 올라갑니다.\n",
    "\n",
    "0.9도 좋은 관계이며, 한 값을 늘리면 다른 값도 늘어날 가능성이 큽니다.\n",
    "\n",
    "-0.9는 0.9와 마찬가지로 좋은 관계이지만, 한 값을 늘리면 다른 값은 줄어들 것입니다.\n",
    "\n",
    "0.2는 좋은 관계가 아님을 의미합니다. 즉, 한 값이 올라간다고 해서 다른 값도 올라간다는 의미는 아닙니다.\n",
    "\n",
    "완벽한 상관관계:\n",
    "\"Duration\"과 \"Duration\"이 숫자를 가지고 있는 것을 볼 수 있는데 1.000000, 이는 각 열이 항상 자체적으로 완벽한 관계를 가지고 있다는 점에서 합리적입니다.\n",
    "\n",
    "좋은 상관관계:\n",
    "\"운동 시간\"과 \"칼로리\"는 0.922721상관 관계가 있는데, 이 상관 관계는 매우 좋습니다. 운동 시간이 길수록 칼로리 소모량도 많아지고, 그 반대의 경우도 마찬가지죠. 칼로리를 많이 소모했다면 운동 시간이 길었을 가능성이 큽니다.\n",
    "\n",
    "나쁜 상관관계:\n",
    "\"기간\"과 \"최대 펄스\"는 0.009403상관관계를 가지고 있는데, 이는 매우 나쁜 상관관계입니다. 즉, 운동 기간만 보고 최대 펄스를 예측할 수 없고 그 반대의 경우도 마찬가지입니다."
   ]
  },
  {
   "cell_type": "markdown",
   "id": "b37bcfb3-005b-477c-9efa-5ac792110343",
   "metadata": {},
   "source": [
    "# Pandas - Plotting"
   ]
  },
  {
   "cell_type": "code",
   "execution_count": null,
   "id": "f7c1d664-1e69-491a-9f6b-fc3c28556dcd",
   "metadata": {},
   "outputs": [],
   "source": []
  }
 ],
 "metadata": {
  "kernelspec": {
   "display_name": "Python 3 (ipykernel)",
   "language": "python",
   "name": "python3"
  },
  "language_info": {
   "codemirror_mode": {
    "name": "ipython",
    "version": 3
   },
   "file_extension": ".py",
   "mimetype": "text/x-python",
   "name": "python",
   "nbconvert_exporter": "python",
   "pygments_lexer": "ipython3",
   "version": "3.13.2"
  }
 },
 "nbformat": 4,
 "nbformat_minor": 5
}
