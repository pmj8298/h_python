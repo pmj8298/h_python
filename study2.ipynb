{
 "cells": [
  {
   "cell_type": "markdown",
   "id": "5f9c45f1-ed68-4033-bfcd-9562d9479f9e",
   "metadata": {},
   "source": [
    "# Python - Variables"
   ]
  },
  {
   "cell_type": "code",
   "execution_count": 2,
   "id": "ac628afc-3074-42a3-844c-c2715baf3ba1",
   "metadata": {},
   "outputs": [
    {
     "name": "stdout",
     "output_type": "stream",
     "text": [
      "Sally\n"
     ]
    }
   ],
   "source": [
    "# 변수는 설정된 후에도 변경 가능함\n",
    "x = 4     \n",
    "x = \"Sally\" \n",
    "print(x)"
   ]
  },
  {
   "cell_type": "markdown",
   "id": "71ea2396-8536-497a-a292-2872bc912af8",
   "metadata": {},
   "source": [
    "## Unpack a Collection"
   ]
  },
  {
   "cell_type": "code",
   "execution_count": 3,
   "id": "cb6233a2-e20f-429c-b37e-73605c5251d4",
   "metadata": {},
   "outputs": [
    {
     "name": "stdout",
     "output_type": "stream",
     "text": [
      "apple\n",
      "banana\n",
      "cherry\n"
     ]
    }
   ],
   "source": [
    "fruits = [\"apple\", \"banana\", \"cherry\"]\n",
    "x, y, z = fruits\n",
    "print(x)\n",
    "print(y)\n",
    "print(z)"
   ]
  },
  {
   "cell_type": "markdown",
   "id": "a059bd84-647d-436b-bcda-c872df7a5360",
   "metadata": {},
   "source": [
    "##  Output Variables"
   ]
  },
  {
   "cell_type": "code",
   "execution_count": 4,
   "id": "1d1e7ec6-608b-4a74-a151-b86bbe5fa72d",
   "metadata": {},
   "outputs": [
    {
     "name": "stdout",
     "output_type": "stream",
     "text": [
      "Python is awesome\n"
     ]
    }
   ],
   "source": [
    "x = \"Python\"\n",
    "y = \"is\"\n",
    "z = \"awesome\"\n",
    "print(x, y, z)"
   ]
  },
  {
   "cell_type": "code",
   "execution_count": 6,
   "id": "39c24f95-0944-459a-ae12-861821790db6",
   "metadata": {},
   "outputs": [
    {
     "name": "stdout",
     "output_type": "stream",
     "text": [
      "Pythonisawesome\n"
     ]
    }
   ],
   "source": [
    "x = \"Python\"\n",
    "y = \"is\"\n",
    "z = \"awesome\"\n",
    "print(x + y + z)"
   ]
  },
  {
   "cell_type": "markdown",
   "id": "da99f351-8c3b-4794-869b-ba2d3e128f73",
   "metadata": {},
   "source": [
    "## Global Variables"
   ]
  },
  {
   "cell_type": "markdown",
   "id": "3a00331d-dea2-4d90-8aef-b3f27be83f6e",
   "metadata": {},
   "source": [
    "전역 변수는 함수 내부와 외부 모두의 모든 사람이 사용할 수 있습니다."
   ]
  },
  {
   "cell_type": "code",
   "execution_count": 7,
   "id": "2a4841f6-6697-4050-9568-dd2909020aa6",
   "metadata": {},
   "outputs": [
    {
     "name": "stdout",
     "output_type": "stream",
     "text": [
      "Python is awesome\n"
     ]
    }
   ],
   "source": [
    "x = \"awesome\"\n",
    "\n",
    "def myfunc():\n",
    "  print(\"Python is \" + x)\n",
    "\n",
    "myfunc()"
   ]
  },
  {
   "cell_type": "markdown",
   "id": "8e7c66e5-9a03-4ce4-9b3c-d38b88b8701f",
   "metadata": {},
   "source": [
    "함수 내에서 같은 이름의 변수를 만들면 이 변수는 로컬이 되고 함수 내에서만 사용할 수 있습니다. 같은 이름의 전역 변수는 그대로 유지되고 전역이며 원래 값을 가집니다."
   ]
  },
  {
   "cell_type": "code",
   "execution_count": 8,
   "id": "01344171-1304-461e-89c2-94e86ceda00c",
   "metadata": {},
   "outputs": [
    {
     "name": "stdout",
     "output_type": "stream",
     "text": [
      "Python is fantastic\n",
      "Python is awesome\n"
     ]
    }
   ],
   "source": [
    "x = \"awesome\"\n",
    "\n",
    "def myfunc():\n",
    "  x = \"fantastic\"\n",
    "  print(\"Python is \" + x)\n",
    "\n",
    "myfunc()\n",
    "\n",
    "print(\"Python is \" + x)"
   ]
  },
  {
   "cell_type": "code",
   "execution_count": 9,
   "id": "635eb644-0564-474c-9763-5585d4d9ffde",
   "metadata": {},
   "outputs": [
    {
     "name": "stdout",
     "output_type": "stream",
     "text": [
      "Python is fantastic\n"
     ]
    }
   ],
   "source": [
    "def myfunc():\n",
    "  global x\n",
    "  x = \"fantastic\"\n",
    "\n",
    "myfunc()\n",
    "\n",
    "print(\"Python is \" + x)"
   ]
  },
  {
   "cell_type": "code",
   "execution_count": 10,
   "id": "77c1b432-0f7f-4eaa-8184-7134792b55b7",
   "metadata": {},
   "outputs": [
    {
     "name": "stdout",
     "output_type": "stream",
     "text": [
      "Python is fantastic\n"
     ]
    }
   ],
   "source": [
    "x = \"awesome\"\n",
    "\n",
    "def myfunc():\n",
    "  global x\n",
    "  x = \"fantastic\"\n",
    "\n",
    "myfunc()\n",
    "\n",
    "print(\"Python is \" + x)\n"
   ]
  },
  {
   "cell_type": "markdown",
   "id": "ba5f5a39-897e-48b2-9ace-d8e2f52d2b58",
   "metadata": {},
   "source": [
    "# Python Data Types\n"
   ]
  },
  {
   "cell_type": "code",
   "execution_count": null,
   "id": "d4c692c3-c3c7-49d4-b0c6-5da855188a7a",
   "metadata": {},
   "outputs": [],
   "source": []
  }
 ],
 "metadata": {
  "kernelspec": {
   "display_name": "Python 3 (ipykernel)",
   "language": "python",
   "name": "python3"
  },
  "language_info": {
   "codemirror_mode": {
    "name": "ipython",
    "version": 3
   },
   "file_extension": ".py",
   "mimetype": "text/x-python",
   "name": "python",
   "nbconvert_exporter": "python",
   "pygments_lexer": "ipython3",
   "version": "3.13.2"
  }
 },
 "nbformat": 4,
 "nbformat_minor": 5
}
